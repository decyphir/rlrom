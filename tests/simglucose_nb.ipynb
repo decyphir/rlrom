{
 "cells": [
  {
   "cell_type": "code",
   "execution_count": 1,
   "metadata": {},
   "outputs": [],
   "source": [
    "import os\n",
    "import sys\n",
    "sys.path.insert(0, os.path.abspath(os.path.join(os.getcwd(), '..')))\n",
    "import rlrom\n",
    "from rlrom.app import *\n",
    "from rlrom.testers import *\n",
    "import rlrom.utils as hf"
   ]
  },
  {
   "cell_type": "code",
   "execution_count": 2,
   "metadata": {},
   "outputs": [],
   "source": [
    "from datetime import timedelta\n",
    "from pandas import DataFrame\n",
    "\n",
    "from simglucose.simulation.sim_engine import batch_sim\n",
    "from simglucose_init import PATIENT_NAMES, build_sim_obj\n",
    "\n",
    "\n"
   ]
  },
  {
   "cell_type": "code",
   "execution_count": 3,
   "metadata": {},
   "outputs": [],
   "source": [
    "NUM_SCENARIOS = 1\n",
    "\n",
    "def batch_simglucose() -> list[DataFrame]:\n",
    "    perturb = True\n",
    "\n",
    "    # Define meals as a list of tuples (time, meal_size) where time is the hour in a day in 24-hour format.\n",
    "    meals = [(7, 45), (12, 70), (16, 15), (18, 80), (23, 10)]\n",
    "    if perturb:\n",
    "        # TODO different purterbation strategies\n",
    "        meals.insert(5, (21, 0))  # add a dummy meal of size 0\n",
    "        meals.insert(3, (14, 0))  # add a dummy meal of size 0\n",
    "        meals.insert(1, (10, 0))  # add a dummy meal of size 0\n",
    "\n",
    "    # Create scenarios\n",
    "    sim_obj_list = [build_sim_obj(meals, name) for name in PATIENT_NAMES[:NUM_SCENARIOS]]\n",
    "\n",
    "    # Batch simulation\n",
    "    return batch_sim(sim_obj_list, parallel=True)\n",
    "\n",
    "\n"
   ]
  },
  {
   "cell_type": "code",
   "execution_count": 4,
   "metadata": {},
   "outputs": [
    {
     "name": "stdout",
     "output_type": "stream",
     "text": [
      "Process ID: 117284\n",
      "Simulation starts ...\n",
      "Simulation Completed!\n",
      "Simulation took 2.7844395637512207 sec.\n"
     ]
    }
   ],
   "source": [
    "sim_results = batch_simglucose()\n"
   ]
  },
  {
   "cell_type": "code",
   "execution_count": 5,
   "metadata": {},
   "outputs": [],
   "source": [
    "sim_results[0].to_csv('simglucose_results.csv')"
   ]
  },
  {
   "cell_type": "code",
   "execution_count": 6,
   "metadata": {},
   "outputs": [
    {
     "name": "stdout",
     "output_type": "stream",
     "text": [
      "                             BG         CGM  CHO   insulin      LBGI  \\\n",
      "Time                                                                   \n",
      "2024-09-04 00:00:00  149.020000  165.793949  0.0  0.013933  0.000000   \n",
      "2024-09-04 00:03:00  149.020000  161.582022  0.0  0.013933  0.000000   \n",
      "2024-09-04 00:06:00  149.020000  159.239373  0.0  0.013933  0.000000   \n",
      "2024-09-04 00:09:00  149.020000  157.472710  0.0  0.013933  0.000000   \n",
      "2024-09-04 00:12:00  149.020000  156.108950  0.0  0.013933  0.000000   \n",
      "...                         ...         ...  ...       ...       ...   \n",
      "2024-09-04 23:48:00   93.366001   93.736518  0.0  0.013933  1.204979   \n",
      "2024-09-04 23:51:00   93.288345   92.966818  0.0  0.013933  1.215732   \n",
      "2024-09-04 23:54:00   93.210068   92.409334  0.0  0.013933  1.226629   \n",
      "2024-09-04 23:57:00   93.133161   92.171035  0.0  0.013933  1.237391   \n",
      "2024-09-05 00:00:00   93.059999   92.250490  NaN       NaN  1.247680   \n",
      "\n",
      "                         HBGI      Risk  \n",
      "Time                                     \n",
      "2024-09-04 00:00:00  2.755276  2.755276  \n",
      "2024-09-04 00:03:00  2.755276  2.755276  \n",
      "2024-09-04 00:06:00  2.755276  2.755276  \n",
      "2024-09-04 00:09:00  2.755276  2.755276  \n",
      "2024-09-04 00:12:00  2.755276  2.755276  \n",
      "...                       ...       ...  \n",
      "2024-09-04 23:48:00  0.000000  1.204979  \n",
      "2024-09-04 23:51:00  0.000000  1.215732  \n",
      "2024-09-04 23:54:00  0.000000  1.226629  \n",
      "2024-09-04 23:57:00  0.000000  1.237391  \n",
      "2024-09-05 00:00:00  0.000000  1.247680  \n",
      "\n",
      "[481 rows x 7 columns]\n"
     ]
    }
   ],
   "source": [
    "print(sim_results[0])"
   ]
  },
  {
   "cell_type": "code",
   "execution_count": 7,
   "metadata": {},
   "outputs": [],
   "source": [
    "env   = \"offline_simglucose\"\n",
    "model = \"some_BB_controller\"\n",
    "\n",
    "tester.env = env\n",
    "tester.model_id = model\n"
   ]
  },
  {
   "cell_type": "code",
   "execution_count": 8,
   "metadata": {},
   "outputs": [],
   "source": [
    "# creates one mock run to begin with\n",
    "trace_idx = 0\n",
    "trace = []\n",
    "total_reward = 0\n",
    "for i in range(10):\n",
    "    time_step = i\n",
    "    obs= [i*3.14]\n",
    "    action = [0]\n",
    "    next_obs = [(i+1)*3.14]\n",
    "    reward = 1\n",
    "    total_reward += reward\n",
    "    done = False\n",
    "\n",
    "    \n",
    "    state = [time_step, obs, action, next_obs, reward, done]\n",
    "    trace.append(state)\n"
   ]
  },
  {
   "cell_type": "code",
   "execution_count": 9,
   "metadata": {},
   "outputs": [],
   "source": [
    "\n",
    "trace_idx = tester.add_trace(trace)\n",
    "new_record = pd.DataFrame({'trace_idx':trace_idx, \n",
    "                           'env_name':tester.env_name,\n",
    "                           'model_name': [tester.model_id],\n",
    "                           'seed': [trace_idx], 'total_reward': [total_reward]})\n",
    "\n",
    "if tester.evals is None:\n",
    "    tester.evals = new_record\n",
    "else:\n",
    "    tester.evals = pd.concat([tester.evals, new_record])\n",
    "\n",
    "tester.trace_idx = trace_idx\n"
   ]
  },
  {
   "cell_type": "code",
   "execution_count": 10,
   "metadata": {},
   "outputs": [
    {
     "name": "stdout",
     "output_type": "stream",
     "text": [
      "0\n"
     ]
    }
   ],
   "source": [
    "print(trace_idx)"
   ]
  },
  {
   "cell_type": "code",
   "execution_count": 21,
   "metadata": {},
   "outputs": [
    {
     "name": "stdout",
     "output_type": "stream",
     "text": [
      "   time  bolus     BG\n",
      "0   0.0    0.0   0.00\n",
      "1   1.0    0.0   3.14\n",
      "2   2.0    0.0   6.28\n",
      "3   3.0    0.0   9.42\n",
      "4   4.0    0.0  12.56\n",
      "5   5.0    0.0  15.70\n",
      "6   6.0    0.0  18.84\n",
      "7   7.0    0.0  21.98\n",
      "8   8.0    0.0  25.12\n",
      "9   9.0    0.0  28.26\n"
     ]
    }
   ],
   "source": [
    "tester.signals_names = [\"bolus\", \"BG\"]\n",
    "\n",
    "df = tester.get_dataframe_from_trace()\n",
    "\n",
    "print(df)"
   ]
  },
  {
   "cell_type": "code",
   "execution_count": 16,
   "metadata": {},
   "outputs": [
    {
     "data": {
      "text/plain": [
       "[np.float64(0.0),\n",
       " np.float64(0.0),\n",
       " np.float64(0.0),\n",
       " np.float64(0.0),\n",
       " np.float64(0.0),\n",
       " np.float64(0.0),\n",
       " np.float64(0.0),\n",
       " np.float64(0.0),\n",
       " np.float64(0.0),\n",
       " np.float64(0.0)]"
      ]
     },
     "execution_count": 16,
     "metadata": {},
     "output_type": "execute_result"
    }
   ],
   "source": [
    "tester.get_signal(\"BG\")"
   ]
  },
  {
   "cell_type": "code",
   "execution_count": 20,
   "metadata": {},
   "outputs": [
    {
     "name": "stdout",
     "output_type": "stream",
     "text": [
      "[1, [3.14], [0], [6.28], 1, False]\n"
     ]
    }
   ],
   "source": [
    "s = tester.runs[0][1]\n",
    "print(s)\n",
    "ss  = tester.get_sample(s)\n"
   ]
  },
  {
   "cell_type": "code",
   "execution_count": null,
   "metadata": {},
   "outputs": [],
   "source": []
  }
 ],
 "metadata": {
  "kernelspec": {
   "display_name": "Python 3",
   "language": "python",
   "name": "python3"
  },
  "language_info": {
   "codemirror_mode": {
    "name": "ipython",
    "version": 3
   },
   "file_extension": ".py",
   "mimetype": "text/x-python",
   "name": "python",
   "nbconvert_exporter": "python",
   "pygments_lexer": "ipython3",
   "version": "3.12.3"
  }
 },
 "nbformat": 4,
 "nbformat_minor": 2
}
