{
 "cells": [
  {
   "cell_type": "code",
   "execution_count": 1,
   "metadata": {},
   "outputs": [],
   "source": [
    "import os\n",
    "import sys\n",
    "sys.path.insert(0, os.path.abspath(os.path.join(os.getcwd(), '..')))\n",
    "import rlrom\n",
    "from rlrom.app import *\n",
    "from rlrom.testers import *\n",
    "import rlrom.utils as hf"
   ]
  },
  {
   "cell_type": "code",
   "execution_count": 2,
   "metadata": {},
   "outputs": [],
   "source": [
    "from datetime import timedelta\n",
    "from pandas import DataFrame\n",
    "\n",
    "from simglucose.simulation.sim_engine import batch_sim\n",
    "from simglucose_init import PATIENT_NAMES, build_sim_obj\n",
    "\n",
    "\n"
   ]
  },
  {
   "cell_type": "code",
   "execution_count": 3,
   "metadata": {},
   "outputs": [],
   "source": [
    "NUM_SCENARIOS = 1\n",
    "\n",
    "\n",
    "def batch_simglucose() -> list[DataFrame]:\n",
    "    perturb = True\n",
    "\n",
    "    # Define meals as a list of tuples (time, meal_size) where time is the hour in a day in 24-hour format.\n",
    "    meals = [(7, 45), (12, 70), (16, 15), (18, 80), (23, 10)]\n",
    "    if perturb:\n",
    "        # TODO different purterbation strategies\n",
    "        meals.insert(5, (21, 0))  # add a dummy meal of size 0\n",
    "        meals.insert(3, (14, 0))  # add a dummy meal of size 0\n",
    "        meals.insert(1, (10, 0))  # add a dummy meal of size 0\n",
    "\n",
    "    # Create scenarios\n",
    "    sim_obj_list = [build_sim_obj(meals, name) for name in PATIENT_NAMES[:NUM_SCENARIOS]]\n",
    "\n",
    "    # Batch simulation\n",
    "    return batch_sim(sim_obj_list, parallel=True)\n",
    "\n",
    "\n"
   ]
  },
  {
   "cell_type": "code",
   "execution_count": 4,
   "metadata": {},
   "outputs": [
    {
     "name": "stdout",
     "output_type": "stream",
     "text": [
      "Process ID: 64819\n",
      "Simulation starts ...\n",
      "Simulation Completed!\n",
      "Simulation took 2.6348843574523926 sec.\n"
     ]
    }
   ],
   "source": [
    "sim_results = batch_simglucose()\n"
   ]
  },
  {
   "cell_type": "code",
   "execution_count": 5,
   "metadata": {},
   "outputs": [],
   "source": [
    "sim_results[0].to_csv('simglucose_results.csv')"
   ]
  }
 ],
 "metadata": {
  "kernelspec": {
   "display_name": "Python 3",
   "language": "python",
   "name": "python3"
  },
  "language_info": {
   "codemirror_mode": {
    "name": "ipython",
    "version": 3
   },
   "file_extension": ".py",
   "mimetype": "text/x-python",
   "name": "python",
   "nbconvert_exporter": "python",
   "pygments_lexer": "ipython3",
   "version": "3.12.3"
  }
 },
 "nbformat": 4,
 "nbformat_minor": 2
}
