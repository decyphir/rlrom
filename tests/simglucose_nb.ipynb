{
 "cells": [
  {
   "cell_type": "code",
   "execution_count": 1,
   "metadata": {},
   "outputs": [
    {
     "name": "stderr",
     "output_type": "stream",
     "text": [
      "/usr/lib/python3/dist-packages/requests/__init__.py:87: RequestsDependencyWarning: urllib3 (2.2.2) or chardet (4.0.0) doesn't match a supported version!\n",
      "  warnings.warn(\"urllib3 ({}) or chardet ({}) doesn't match a supported \"\n",
      "2024-09-04 09:51:05.639166: I tensorflow/core/platform/cpu_feature_guard.cc:210] This TensorFlow binary is optimized to use available CPU instructions in performance-critical operations.\n",
      "To enable the following instructions: AVX2 FMA, in other operations, rebuild TensorFlow with the appropriate compiler flags.\n",
      "2024-09-04 09:51:06.567094: W tensorflow/compiler/tf2tensorrt/utils/py_utils.cc:38] TF-TRT Warning: Could not find TensorRT\n"
     ]
    }
   ],
   "source": [
    "import os\n",
    "import sys\n",
    "sys.path.insert(0, os.path.abspath(os.path.join(os.getcwd(), '..')))\n",
    "import rlrom\n",
    "from rlrom.app import *\n",
    "from rlrom.testers import *\n",
    "import rlrom.utils as hf"
   ]
  },
  {
   "cell_type": "code",
   "execution_count": 2,
   "metadata": {},
   "outputs": [],
   "source": [
    "from datetime import timedelta\n",
    "from pandas import DataFrame\n",
    "\n",
    "from simglucose.simulation.sim_engine import batch_sim\n",
    "from simglucose_init import PATIENT_NAMES, build_sim_obj\n",
    "\n",
    "\n"
   ]
  },
  {
   "cell_type": "code",
   "execution_count": 3,
   "metadata": {},
   "outputs": [],
   "source": [
    "NUM_SCENARIOS = 1\n",
    "\n",
    "def batch_simglucose() -> list[DataFrame]:\n",
    "    perturb = True\n",
    "\n",
    "    # Define meals as a list of tuples (time, meal_size) where time is the hour in a day in 24-hour format.\n",
    "    meals = [(7, 45), (12, 70), (16, 15), (18, 80), (23, 10)]\n",
    "    if perturb:\n",
    "        # TODO different purterbation strategies\n",
    "        meals.insert(5, (21, 0))  # add a dummy meal of size 0\n",
    "        meals.insert(3, (14, 0))  # add a dummy meal of size 0\n",
    "        meals.insert(1, (10, 0))  # add a dummy meal of size 0\n",
    "\n",
    "    # Create scenarios\n",
    "    sim_obj_list = [build_sim_obj(meals, name) for name in PATIENT_NAMES[:NUM_SCENARIOS]]\n",
    "\n",
    "    # Batch simulation\n",
    "    return batch_sim(sim_obj_list, parallel=True)\n",
    "\n",
    "\n"
   ]
  },
  {
   "cell_type": "code",
   "execution_count": 4,
   "metadata": {},
   "outputs": [
    {
     "name": "stdout",
     "output_type": "stream",
     "text": [
      "Process ID: 117284\n",
      "Process ID: 682921\n",
      "Simulation starts ...\n",
      "Simulation Completed!\n",
      "Simulation took 2.7844395637512207 sec.\n"
      "Simulation took 3.9265060424804688 sec.\n"
     ]
    }
   ],
   "source": [
    "sim_results = batch_simglucose()\n"
   ]
  },
  {
   "cell_type": "code",
   "execution_count": 5,
   "metadata": {},
   "outputs": [],
   "source": [
    "sim_results[0].to_csv('simglucose_results.csv')"
   ]
  },
  {
   "cell_type": "code",
   "execution_count": 6,
   "metadata": {},
   "outputs": [
    {
     "name": "stdout",
     "output_type": "stream",
     "text": [
      "                             BG         CGM  CHO   insulin      LBGI  \\\n",
      "Time                                                                   \n",
      "2024-09-04 00:00:00  149.020000  165.793949  0.0  0.013933  0.000000   \n",
      "2024-09-04 00:03:00  149.020000  161.582022  0.0  0.013933  0.000000   \n",
      "2024-09-04 00:06:00  149.020000  159.239373  0.0  0.013933  0.000000   \n",
      "2024-09-04 00:09:00  149.020000  157.472710  0.0  0.013933  0.000000   \n",
      "2024-09-04 00:12:00  149.020000  156.108950  0.0  0.013933  0.000000   \n",
      "...                         ...         ...  ...       ...       ...   \n",
      "2024-09-04 23:48:00   93.366001   93.736518  0.0  0.013933  1.204979   \n",
      "2024-09-04 23:51:00   93.288345   92.966818  0.0  0.013933  1.215732   \n",
      "2024-09-04 23:54:00   93.210068   92.409334  0.0  0.013933  1.226629   \n",
      "2024-09-04 23:57:00   93.133161   92.171035  0.0  0.013933  1.237391   \n",
      "2024-09-05 00:00:00   93.059999   92.250490  NaN       NaN  1.247680   \n",
      "\n",
      "                         HBGI      Risk  \n",
      "Time                                     \n",
      "2024-09-04 00:00:00  2.755276  2.755276  \n",
      "2024-09-04 00:03:00  2.755276  2.755276  \n",
      "2024-09-04 00:06:00  2.755276  2.755276  \n",
      "2024-09-04 00:09:00  2.755276  2.755276  \n",
      "2024-09-04 00:12:00  2.755276  2.755276  \n",
      "...                       ...       ...  \n",
      "2024-09-04 23:48:00  0.000000  1.204979  \n",
      "2024-09-04 23:51:00  0.000000  1.215732  \n",
      "2024-09-04 23:54:00  0.000000  1.226629  \n",
      "2024-09-04 23:57:00  0.000000  1.237391  \n",
      "2024-09-05 00:00:00  0.000000  1.247680  \n",
      "\n",
      "[481 rows x 7 columns]\n"
     ]
    }
   ],
   "source": [
    "print(sim_results[0])"
   ]
  },
  {
   "cell_type": "code",
   "execution_count": 7,
   "metadata": {},
   "outputs": [],
   "source": [
    "env   = \"offline_simglucose\"\n",
    "model = \"some_BB_controller\"\n",
    "\n",
    "tester.env = env\n",
    "tester.model_id = model\n"
   ]
  },
  {
   "cell_type": "code",
   "execution_count": 8,
   "metadata": {},
   "outputs": [],
   "source": [
    "# creates one mock run to begin with\n",
    "trace_idx = 0\n",
    "trace = []\n",
    "total_reward = 0\n",
    "for i in range(10):\n",
    "    time_step = i\n",
    "    obs= [i*3.14]\n",
    "    action = [0]\n",
    "    next_obs = [(i+1)*3.14]\n",
    "    reward = 1\n",
    "    total_reward += reward\n",
    "    done = False\n",
    "\n",
    "    \n",
    "    state = [time_step, obs, action, next_obs, reward, done]\n",
    "    trace.append(state)\n"
   ]
  },
  {
   "cell_type": "code",
   "execution_count": 9,
   "metadata": {},
   "outputs": [],
   "source": [
    "\n",
    "trace_idx = tester.add_trace(trace)\n",
    "new_record = pd.DataFrame({'trace_idx':trace_idx, \n",
    "                           'env_name':tester.env_name,\n",
    "                           'model_name': [tester.model_id],\n",
    "                           'seed': [trace_idx], 'total_reward': [total_reward]})\n",
    "\n",
    "if tester.evals is None:\n",
    "    tester.evals = new_record\n",
    "else:\n",
    "    tester.evals = pd.concat([tester.evals, new_record])\n",
    "\n",
    "tester.trace_idx = trace_idx\n"
   ]
  },
  {
   "cell_type": "code",
   "execution_count": 10,
   "metadata": {},
   "outputs": [
    {
     "name": "stdout",
     "output_type": "stream",
     "text": [
      "0\n"
     ]
    }
   ],
   "source": [
    "print(trace_idx)"
   ]
  },
  {
   "cell_type": "code",
   "execution_count": 21,
   "metadata": {},
   "outputs": [
    {
     "name": "stdout",
     "output_type": "stream",
     "text": [
      "   time  bolus     BG\n",
      "0   0.0    0.0   0.00\n",
      "1   1.0    0.0   3.14\n",
      "2   2.0    0.0   6.28\n",
      "3   3.0    0.0   9.42\n",
      "4   4.0    0.0  12.56\n",
      "5   5.0    0.0  15.70\n",
      "6   6.0    0.0  18.84\n",
      "7   7.0    0.0  21.98\n",
      "8   8.0    0.0  25.12\n",
      "9   9.0    0.0  28.26\n"
     ]
    }
   ],
   "source": [
    "tester.signals_names = [\"bolus\", \"BG\"]\n",
    "\n",
    "df = tester.get_dataframe_from_trace()\n",
    "\n",
    "print(df)"
   ]
  },
  {
   "cell_type": "code",
   "execution_count": 16,
   "metadata": {},
   "outputs": [
    {
     "data": {
      "text/plain": [
       "[np.float64(0.0),\n",
       " np.float64(0.0),\n",
       " np.float64(0.0),\n",
       " np.float64(0.0),\n",
       " np.float64(0.0),\n",
       " np.float64(0.0),\n",
       " np.float64(0.0),\n",
       " np.float64(0.0),\n",
       " np.float64(0.0),\n",
       " np.float64(0.0)]"
      ]
     },
     "execution_count": 16,
     "metadata": {},
     "output_type": "execute_result"
    }
   ],
   "source": [
    "tester.get_signal(\"BG\")"
   ]
  },
  {
   "cell_type": "code",
   "execution_count": 20,
   "metadata": {},
   "outputs": [
    {
     "name": "stdout",
     "output_type": "stream",
     "text": [
      "[1, [3.14], [0], [6.28], 1, False]\n"
     ]
    }
   ],
   "source": [
    "s = tester.runs[0][1]\n",
    "print(s)\n",
    "ss  = tester.get_sample(s)\n"
   ]
  },
  {
   "cell_type": "code",
   "execution_count": null,
   "metadata": {},
   "outputs": [],
   "source": []
  },
  {
   "cell_type": "code",
   "execution_count": null,
   "metadata": {},
   "outputs": [],
   "source": [
    "print(sim_results[0])"
   ]
  },
  {
   "cell_type": "code",
   "execution_count": 8,
   "metadata": {},
   "outputs": [],
   "source": [
    "env   = \"simglucose_not_really_env\"\n",
    "model = \"offline_everything_was_actually_computed_before\"\n",
    "\n",
    "tester.env = env\n",
    "tester.model_id = model\n"
   ]
  },
  {
   "cell_type": "code",
   "execution_count": 9,
   "metadata": {},
   "outputs": [],
   "source": [
    "# creates one mock run to begin with\n",
    "trace_idx = 0\n",
    "trace = []\n",
    "total_reward = 0\n",
    "for i in range(10):\n",
    "    time_step = i\n",
    "    obs= [i*3.14]\n",
    "    action = [0]\n",
    "    next_obs = [(i+1)*3.14]\n",
    "    reward = 1\n",
    "    total_reward += reward\n",
    "    done = False\n",
    "\n",
    "    \n",
    "    state = [time_step, obs, action, next_obs, reward, done]\n",
    "    trace.append(state)\n"
   ]
  },
  {
   "cell_type": "code",
   "execution_count": 11,
   "metadata": {},
   "outputs": [],
   "source": [
    "\n",
    "trace_idx = tester.add_trace(trace)\n",
    "new_record = pd.DataFrame({'trace_idx':trace_idx, \n",
    "                           'env_name':tester.env_name,\n",
    "                           'model_name': [tester.model_id],\n",
    "                           'seed': [trace_idx], 'total_reward': [total_reward]})\n",
    "\n",
    "if tester.evals is None:\n",
    "    tester.evals = new_record\n",
    "else:\n",
    "    tester.evals = pd.concat([tester.evals, new_record])\n",
    "\n",
    "tester.trace_idx = trace_idx\n"
   ]
  },
  {
   "cell_type": "code",
   "execution_count": 12,
   "metadata": {},
   "outputs": [
    {
     "name": "stdout",
     "output_type": "stream",
     "text": [
      "0\n"
     ]
    }
   ],
   "source": [
    "print(trace_idx)"
   ]
  },
  {
   "cell_type": "code",
   "execution_count": 13,
   "metadata": {},
   "outputs": [
    {
     "name": "stdout",
     "output_type": "stream",
     "text": [
      "BG\n"
     ]
    },
    {
     "ename": "AttributeError",
     "evalue": "'list' object has no attribute 'flatten'",
     "output_type": "error",
     "traceback": [
      "\u001b[0;31m---------------------------------------------------------------------------\u001b[0m",
      "\u001b[0;31mAttributeError\u001b[0m                            Traceback (most recent call last)",
      "Input \u001b[0;32mIn [13]\u001b[0m, in \u001b[0;36m<cell line: 5>\u001b[0;34m()\u001b[0m\n\u001b[1;32m      3\u001b[0m spec_prompt \u001b[38;5;241m=\u001b[39m \u001b[38;5;124m\"\u001b[39m\u001b[38;5;124malw BG[t] > 100\u001b[39m\u001b[38;5;124m\"\u001b[39m\n\u001b[1;32m      4\u001b[0m plot_prompt \u001b[38;5;241m=\u001b[39m \u001b[38;5;124m\"\u001b[39m\u001b[38;5;124mBG\u001b[39m\u001b[38;5;124m\"\u001b[39m\n\u001b[0;32m----> 5\u001b[0m [st, fig] \u001b[38;5;241m=\u001b[39m \u001b[43mupdate_plot\u001b[49m\u001b[43m(\u001b[49m\u001b[43mspec_prompt\u001b[49m\u001b[43m,\u001b[49m\u001b[43m  \u001b[49m\u001b[43mplot_prompt\u001b[49m\u001b[43m)\u001b[49m\n",
      "File \u001b[0;32m~/workspace/decyphir/detai/rlrom/rlrom/app.py:33\u001b[0m, in \u001b[0;36mupdate_plot\u001b[0;34m(specs, signals_plot_string)\u001b[0m\n\u001b[1;32m     31\u001b[0m \u001b[38;5;28;01mdef\u001b[39;00m \u001b[38;5;21mupdate_plot\u001b[39m(specs, signals_plot_string):\n\u001b[1;32m     32\u001b[0m     tester\u001b[38;5;241m.\u001b[39mspecs \u001b[38;5;241m=\u001b[39m specs\n\u001b[0;32m---> 33\u001b[0m     fig, status \u001b[38;5;241m=\u001b[39m \u001b[43mtester\u001b[49m\u001b[38;5;241;43m.\u001b[39;49m\u001b[43mget_fig\u001b[49m\u001b[43m(\u001b[49m\u001b[43msignals_plot_string\u001b[49m\u001b[43m)\u001b[49m    \n\u001b[1;32m     34\u001b[0m     \u001b[38;5;28;01mreturn\u001b[39;00m status, fig\n",
      "File \u001b[0;32m~/workspace/decyphir/detai/rlrom/rlrom/testers.py:350\u001b[0m, in \u001b[0;36mRLModelTester.get_fig\u001b[0;34m(self, signals_layout)\u001b[0m\n\u001b[1;32m    348\u001b[0m     figs\u001b[38;5;241m.\u001b[39mappend([f])\n\u001b[1;32m    349\u001b[0m \u001b[38;5;28;01mif\u001b[39;00m signal \u001b[38;5;129;01min\u001b[39;00m \u001b[38;5;28mself\u001b[39m\u001b[38;5;241m.\u001b[39msignals_names \u001b[38;5;129;01mor\u001b[39;00m signal\u001b[38;5;241m.\u001b[39msplit(\u001b[38;5;124m'\u001b[39m\u001b[38;5;124m(\u001b[39m\u001b[38;5;124m'\u001b[39m)[\u001b[38;5;241m0\u001b[39m] \u001b[38;5;129;01min\u001b[39;00m \u001b[38;5;28mself\u001b[39m\u001b[38;5;241m.\u001b[39msignals_names:                        \n\u001b[0;32m--> 350\u001b[0m     df_sig \u001b[38;5;241m=\u001b[39m \u001b[38;5;28;43mself\u001b[39;49m\u001b[38;5;241;43m.\u001b[39;49m\u001b[43mget_dataframe_from_trace\u001b[49m\u001b[43m(\u001b[49m\u001b[43msignal\u001b[49m\u001b[43m)\u001b[49m\n\u001b[1;32m    351\u001b[0m     f\u001b[38;5;241m.\u001b[39mscatter(df_sig[\u001b[38;5;124m\"\u001b[39m\u001b[38;5;124mtime\u001b[39m\u001b[38;5;124m\"\u001b[39m], df_sig[signal], legend_label\u001b[38;5;241m=\u001b[39msignal\u001b[38;5;241m+\u001b[39m\u001b[38;5;124m'\u001b[39m\u001b[38;5;124m, trace_idx=\u001b[39m\u001b[38;5;124m'\u001b[39m\u001b[38;5;241m+\u001b[39m\u001b[38;5;28mstr\u001b[39m(tr_idx), color\u001b[38;5;241m=\u001b[39mcolor)\n\u001b[1;32m    352\u001b[0m     f\u001b[38;5;241m.\u001b[39mline(df_sig[\u001b[38;5;124m\"\u001b[39m\u001b[38;5;124mtime\u001b[39m\u001b[38;5;124m\"\u001b[39m], df_sig[signal], legend_label\u001b[38;5;241m=\u001b[39msignal\u001b[38;5;241m+\u001b[39m\u001b[38;5;124m'\u001b[39m\u001b[38;5;124m, trace_idx=\u001b[39m\u001b[38;5;124m'\u001b[39m\u001b[38;5;241m+\u001b[39m\u001b[38;5;28mstr\u001b[39m(tr_idx), color\u001b[38;5;241m=\u001b[39mcolor)\n",
      "File \u001b[0;32m~/workspace/decyphir/detai/rlrom/rlrom/testers.py:280\u001b[0m, in \u001b[0;36mRLModelTester.get_dataframe_from_trace\u001b[0;34m(self, signals_names)\u001b[0m\n\u001b[1;32m    277\u001b[0m     signals_names \u001b[38;5;241m=\u001b[39m [signals_names]\n\u001b[1;32m    279\u001b[0m df_signals \u001b[38;5;241m=\u001b[39m pd\u001b[38;5;241m.\u001b[39mDataFrame()\n\u001b[0;32m--> 280\u001b[0m df_signals[\u001b[38;5;124m'\u001b[39m\u001b[38;5;124mtime\u001b[39m\u001b[38;5;124m'\u001b[39m] \u001b[38;5;241m=\u001b[39m \u001b[38;5;28;43mself\u001b[39;49m\u001b[38;5;241;43m.\u001b[39;49m\u001b[43mget_time\u001b[49m\u001b[43m(\u001b[49m\u001b[43m)\u001b[49m\n\u001b[1;32m    281\u001b[0m \u001b[38;5;28;01mfor\u001b[39;00m signal \u001b[38;5;129;01min\u001b[39;00m signals_names:\n\u001b[1;32m    282\u001b[0m     df_signals[signal]\u001b[38;5;241m=\u001b[39m \u001b[38;5;28mself\u001b[39m\u001b[38;5;241m.\u001b[39mget_signal(signal)\n",
      "File \u001b[0;32m~/workspace/decyphir/detai/rlrom/rlrom/testers.py:287\u001b[0m, in \u001b[0;36mRLModelTester.get_time\u001b[0;34m(self)\u001b[0m\n\u001b[1;32m    286\u001b[0m \u001b[38;5;28;01mdef\u001b[39;00m \u001b[38;5;21mget_time\u001b[39m(\u001b[38;5;28mself\u001b[39m):\n\u001b[0;32m--> 287\u001b[0m     \u001b[38;5;28;01mreturn\u001b[39;00m [\u001b[38;5;28mself\u001b[39m\u001b[38;5;241m.\u001b[39mget_sample(trace_state)[\u001b[38;5;241m0\u001b[39m] \u001b[38;5;28;01mfor\u001b[39;00m trace_state \u001b[38;5;129;01min\u001b[39;00m \u001b[38;5;28mself\u001b[39m\u001b[38;5;241m.\u001b[39mruns[\u001b[38;5;28mself\u001b[39m\u001b[38;5;241m.\u001b[39mtrace_idx]]\n",
      "File \u001b[0;32m~/workspace/decyphir/detai/rlrom/rlrom/testers.py:287\u001b[0m, in \u001b[0;36m<listcomp>\u001b[0;34m(.0)\u001b[0m\n\u001b[1;32m    286\u001b[0m \u001b[38;5;28;01mdef\u001b[39;00m \u001b[38;5;21mget_time\u001b[39m(\u001b[38;5;28mself\u001b[39m):\n\u001b[0;32m--> 287\u001b[0m     \u001b[38;5;28;01mreturn\u001b[39;00m [\u001b[38;5;28;43mself\u001b[39;49m\u001b[38;5;241;43m.\u001b[39;49m\u001b[43mget_sample\u001b[49m\u001b[43m(\u001b[49m\u001b[43mtrace_state\u001b[49m\u001b[43m)\u001b[49m[\u001b[38;5;241m0\u001b[39m] \u001b[38;5;28;01mfor\u001b[39;00m trace_state \u001b[38;5;129;01min\u001b[39;00m \u001b[38;5;28mself\u001b[39m\u001b[38;5;241m.\u001b[39mruns[\u001b[38;5;28mself\u001b[39m\u001b[38;5;241m.\u001b[39mtrace_idx]]\n",
      "File \u001b[0;32m~/workspace/decyphir/detai/rlrom/rlrom/testers.py:265\u001b[0m, in \u001b[0;36mRLModelTester.get_sample\u001b[0;34m(self, trace_state)\u001b[0m\n\u001b[1;32m    260\u001b[0m \u001b[38;5;28;01mdef\u001b[39;00m \u001b[38;5;21mget_sample\u001b[39m(\u001b[38;5;28mself\u001b[39m,trace_state):\n\u001b[1;32m    261\u001b[0m     \u001b[38;5;66;03m# returns a sample for stlrom from a trace state \u001b[39;00m\n\u001b[1;32m    262\u001b[0m     \u001b[38;5;66;03m# of the form (time, obs, action, next_obs, reward) \u001b[39;00m\n\u001b[1;32m    264\u001b[0m     time \u001b[38;5;241m=\u001b[39m np\u001b[38;5;241m.\u001b[39marray([trace_state[\u001b[38;5;241m0\u001b[39m]])\n\u001b[0;32m--> 265\u001b[0m     action \u001b[38;5;241m=\u001b[39m \u001b[43mtrace_state\u001b[49m\u001b[43m[\u001b[49m\u001b[38;5;241;43m2\u001b[39;49m\u001b[43m]\u001b[49m\u001b[38;5;241;43m.\u001b[39;49m\u001b[43mflatten\u001b[49m()\n\u001b[1;32m    266\u001b[0m     obs \u001b[38;5;241m=\u001b[39m trace_state[\u001b[38;5;241m1\u001b[39m]\u001b[38;5;241m.\u001b[39mflatten()\n\u001b[1;32m    267\u001b[0m     reward \u001b[38;5;241m=\u001b[39m np\u001b[38;5;241m.\u001b[39marray([trace_state[\u001b[38;5;241m4\u001b[39m]])\n",
      "\u001b[0;31mAttributeError\u001b[0m: 'list' object has no attribute 'flatten'"
     ]
    }
   ],
   "source": [
    "\n",
    "\n",
    "tester.signals_names = [\"BG\"]\n",
    "\n",
    "spec_prompt = \"alw BG[t] > 100\"\n",
    "plot_prompt = \"BG\"\n",
    "[st, fig] = update_plot(spec_prompt,  plot_prompt)"
   ]
  }
 ],
 "metadata": {
  "kernelspec": {
   "display_name": "Python 3",
   "language": "python",
   "name": "python3"
  },
  "language_info": {
   "codemirror_mode": {
    "name": "ipython",
    "version": 3
   },
   "file_extension": ".py",
   "mimetype": "text/x-python",
   "name": "python",
   "nbconvert_exporter": "python",
   "pygments_lexer": "ipython3",
   "version": "3.10.12"
  }
 },
 "nbformat": 4,
 "nbformat_minor": 2
}
