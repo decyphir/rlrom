{
 "cells": [
  {
   "cell_type": "code",
   "execution_count": 1,
   "metadata": {},
   "outputs": [],
   "source": [
    "import os\n",
    "import sys\n",
    "sys.path.insert(0, os.path.abspath(os.path.join(os.getcwd(), '..')))\n",
    "import rlrom\n",
    "from rlrom.app import *\n",
    "from rlrom.testers import *\n",
    "import rlrom.utils as hf"
   ]
  },
  {
   "cell_type": "code",
   "execution_count": 2,
   "metadata": {},
   "outputs": [
    {
     "data": {
      "application/vnd.jupyter.widget-view+json": {
       "model_id": "8eef5cd7432e465faa8aef8deae6cc5e",
       "version_major": 2,
       "version_minor": 0
      },
      "text/plain": [
       "Dropdown(description='Environment:', options=('Pendulum-v1', 'CartPole-v1', 'MountainCar-v0', 'Acrobot-v1', 'L…"
      ]
     },
     "metadata": {},
     "output_type": "display_data"
    }
   ],
   "source": [
    "# create widget that select env_name from supported_environments\n",
    "import ipywidgets\n",
    "\n",
    "env_list = rlrom.supported_envs\n",
    "env_widget = ipywidgets.Dropdown(\n",
    "    options=env_list,\n",
    "    value=env_list[0],\n",
    "    description='Environment:',\n",
    "    disabled=False,\n",
    ")\n",
    "\n",
    "# display env_widget and store the selected value in env_name\n",
    "env_name = env_widget.value\n",
    "display(env_widget)\n",
    "\n"
   ]
  },
  {
   "cell_type": "code",
   "execution_count": 3,
   "metadata": {},
   "outputs": [
    {
     "name": "stdout",
     "output_type": "stream",
     "text": [
      "Found  26  models for  Pendulum-v1\n"
     ]
    },
    {
     "data": {
      "application/vnd.jupyter.widget-view+json": {
       "model_id": "9aba3a142b914b8aa4cee7eb7fd0ca49",
       "version_major": 2,
       "version_minor": 0
      },
      "text/plain": [
       "Dropdown(description='Model:', options=('sb3/ppo-Pendulum-v1', 'araffin/a2c-Pendulum-v1', 'sb3/sac-Pendulum-v1…"
      ]
     },
     "metadata": {},
     "output_type": "display_data"
    }
   ],
   "source": [
    "env_name = env_widget.value\n",
    "T = rlrom.RLModelTester(env_name)\n",
    "model_list = T.find_hf_models()\n",
    "\n",
    "model_widget = ipywidgets.Dropdown(\n",
    "    options=model_list,\n",
    "    value=model_list[0],\n",
    "    description='Model:',\n",
    "    disabled=False,\n",
    ")\n",
    "display(model_widget)"
   ]
  },
  {
   "cell_type": "code",
   "execution_count": 4,
   "metadata": {},
   "outputs": [
    {
     "name": "stdout",
     "output_type": "stream",
     "text": [
      "== CURRENT SYSTEM INFO ==\n",
      "- OS: Linux-6.5.0-26-generic-x86_64-with-glibc2.35 # 26~22.04.1-Ubuntu SMP PREEMPT_DYNAMIC Tue Mar 12 10:22:43 UTC 2\n",
      "- Python: 3.10.12\n",
      "- Stable-Baselines3: 2.2.1\n",
      "- PyTorch: 2.2.1+cu121\n",
      "- GPU Enabled: False\n",
      "- Numpy: 1.26.4\n",
      "- Cloudpickle: 3.0.0\n",
      "- Gymnasium: 0.29.1\n",
      "- OpenAI Gym: 0.26.2\n",
      "\n",
      "== SAVED MODEL SYSTEM INFO ==\n",
      "OS: Linux-5.4.0-110-generic-x86_64-with-debian-bullseye-sid #124-Ubuntu SMP Thu Apr 14 19:46:19 UTC 2022\n",
      "Python: 3.7.12\n",
      "Stable-Baselines3: 1.5.1a6\n",
      "PyTorch: 1.11.0+cpu\n",
      "GPU Enabled: False\n",
      "Numpy: 1.21.6\n",
      "Gym: 0.21.0\n",
      "\n"
     ]
    },
    {
     "name": "stderr",
     "output_type": "stream",
     "text": [
      "/home/alex/.local/lib/python3.10/site-packages/torch/cuda/__init__.py:141: UserWarning: CUDA initialization: CUDA unknown error - this may be due to an incorrectly set up environment, e.g. changing env variable CUDA_VISIBLE_DEVICES after program start. Setting the available devices to be zero. (Triggered internally at ../c10/cuda/CUDAFunctions.cpp:108.)\n",
      "  return torch._C._cuda_getDeviceCount() > 0\n",
      "/home/alex/.local/lib/python3.10/site-packages/stable_baselines3/common/vec_env/patch_gym.py:95: UserWarning: You loaded a model that was trained using OpenAI Gym. We strongly recommend transitioning to Gymnasium by saving that model again.\n",
      "  warnings.warn(\n"
     ]
    },
    {
     "name": "stdout",
     "output_type": "stream",
     "text": [
      "Model loaded\n"
     ]
    },
    {
     "data": {
      "text/plain": [
       "<stable_baselines3.ppo.ppo.PPO at 0x71446ec5a320>"
      ]
     },
     "execution_count": 4,
     "metadata": {},
     "output_type": "execute_result"
    }
   ],
   "source": [
    "model_name = model_widget.value\n",
    "T.load_hf_model(model_name)\n"
   ]
  },
  {
   "cell_type": "code",
   "execution_count": 5,
   "metadata": {},
   "outputs": [
    {
     "name": "stdout",
     "output_type": "stream",
     "text": [
      "-137.72579978636284\n",
      "-1.729253965190529\n",
      "-126.05877261858713\n",
      "-253.01151333063393\n",
      "-745.4612820032012\n",
      "-128.71368109061896\n",
      "-1.792629440081511\n",
      "-134.7298564085395\n",
      "-132.59359117070656\n",
      "-279.19699539758835\n",
      "-381.58180160224583\n",
      "-267.2930454994201\n",
      "-132.62002394224155\n",
      "-253.2578510781322\n",
      "-266.2767939498017\n",
      "-134.24277058953024\n",
      "-3.5107827373080815\n",
      "-272.85301339094536\n",
      "-132.72336776737066\n",
      "-4.474189542220465\n",
      "-127.89522648662243\n",
      "-133.92293881742026\n",
      "-129.0352592074601\n",
      "-135.24308084247934\n",
      "-129.06038452813758\n",
      "-117.90002288748006\n",
      "-1.9035027799127806\n",
      "-138.0385126693255\n",
      "-252.6976045026413\n",
      "-266.4080281671095\n",
      "-126.87283082078953\n",
      "-311.51115528506557\n",
      "-267.58295100791736\n",
      "-3.425566669011386\n",
      "-373.09347087068085\n",
      "-129.3550354587332\n",
      "-126.46105369919167\n",
      "-135.21407492516713\n",
      "-2.0289210019692394\n",
      "-1.6336059215613186\n",
      "-134.63067304238606\n",
      "-264.1404687091971\n",
      "-136.56802368220684\n",
      "-139.02335864878032\n",
      "-256.20603227554176\n",
      "-137.91994123276845\n",
      "-314.34879795293017\n",
      "-133.75275315444804\n",
      "-131.23493082498425\n",
      "-130.77202807880354\n",
      "-130.7097359079756\n",
      "-452.24537857983273\n",
      "-136.55484573197214\n",
      "-388.6828211793957\n",
      "-128.08303348955167\n",
      "-254.93599248585403\n",
      "-140.67395585138183\n",
      "-136.50650051284393\n",
      "-131.73099191181663\n",
      "-135.72178322871665\n",
      "-126.70515328574291\n",
      "-132.25837669039944\n",
      "-135.67024439992318\n",
      "-135.94507037531073\n",
      "-745.4709689444408\n",
      "-267.66805786794043\n",
      "-302.7487205113403\n",
      "-130.2616714136437\n",
      "-1.8680103319782202\n",
      "-137.43065462568876\n",
      "-131.75488646750568\n",
      "-128.10149081959557\n",
      "-274.97551551843236\n",
      "-1.8328492427701062\n",
      "-283.5921004253195\n",
      "-122.48828691051754\n",
      "-126.34269972255147\n",
      "-134.27502948168066\n",
      "-4.5616456536952965\n",
      "-332.04011193270867\n",
      "-141.2176930543946\n",
      "-131.00989348689717\n",
      "-376.7372872421905\n",
      "-126.7640086968373\n",
      "-132.67838842372913\n",
      "-262.2494612830914\n",
      "-138.75004465024486\n",
      "-136.4093062816117\n",
      "-130.70616490809533\n",
      "-136.46490687579677\n",
      "-131.4424961514842\n",
      "-131.96285559927819\n",
      "-141.3373950624216\n",
      "-407.5992506791573\n",
      "-130.82932039176416\n",
      "-137.53213069416145\n",
      "-134.40141424979115\n",
      "-136.74534601761096\n",
      "-251.56174006289618\n",
      "-1.5931852870385346\n"
     ]
    }
   ],
   "source": [
    "for i in range(100):\n",
    "    print(T.test_seed(i))\n"
   ]
  },
  {
   "cell_type": "code",
   "execution_count": 12,
   "metadata": {},
   "outputs": [
    {
     "data": {
      "text/plain": [
       "-745.4612820032012"
      ]
     },
     "execution_count": 12,
     "metadata": {},
     "output_type": "execute_result"
    }
   ],
   "source": [
    "T.test_seed(4, render_mode='human', lazy=False)"
   ]
  },
  {
   "cell_type": "code",
   "execution_count": null,
   "metadata": {},
   "outputs": [],
   "source": [
    "signals_string = \"\"\"\n",
    "torque, \n",
    "\n",
    "cos_theta,sin_theta, theta_dot, \n",
    "reward\n",
    "\"\"\"\n",
    "signals_layout = hf.get_layout_from_string(signals_string)\n",
    "print(signals_layout)"
   ]
  },
  {
   "cell_type": "code",
   "execution_count": null,
   "metadata": {},
   "outputs": [],
   "source": [
    "# using plotly subplots, creates a figure with subplots for each signal list in signals_layout\n",
    "import plotly.graph_objects as go\n",
    "from plotly.subplots import make_subplots\n",
    "\n",
    "#fig.add_trace(go.Scatter(x=df_signals[\"time\"], y=df_signals[0]), row=1, col=1)\n",
    "fig = make_subplots(rows=len(signals_layout), cols=1)\n",
    "for i, signal_list in enumerate(signals_layout):\n",
    "    for signal in signal_list:\n",
    "        fig.add_trace(go.Scatter(x=df_signals[\"time\"], y=df_signals[signal], name=signal), row=i+1, col=1)\n",
    "fig.show()\n",
    "\n"
   ]
  },
  {
   "cell_type": "code",
   "execution_count": null,
   "metadata": {},
   "outputs": [],
   "source": [
    "import stlrom\n",
    "stl_driver = stlrom.STLDriver()\n",
    "\n",
    "for trace_state in tester.trace:\n",
    "    stl_driver.add_sample(tester.get_signal_state(trace_state))\n",
    "\n",
    "stl_string  = tester.get_signal_string()+\"\"\" \n",
    "mu := reward[t] > 0 \n",
    "phi := ev_[0,100] mu\n",
    "\"\"\"\n",
    "\n",
    "stl_driver.parse_string(stl_string)"
   ]
  },
  {
   "cell_type": "code",
   "execution_count": null,
   "metadata": {},
   "outputs": [],
   "source": [
    "\n",
    "import re \n",
    "# regular expression of beginning of line, then whitespaces followed by a valid variable id, followed by whitepaces, followed by :=\n",
    "regex = r\"^\\s*\\b([a-zA-Z_][a-zA-Z0-9_]*)\\b\\s*:=\"\n",
    "\n",
    "# find all variable id in the stl_string\n",
    "formulas = re.findall(regex, stl_string, re.MULTILINE)\n",
    "print(formulas)\n"
   ]
  },
  {
   "cell_type": "code",
   "execution_count": null,
   "metadata": {},
   "outputs": [],
   "source": [
    "# get row i in df_signals as an array\n",
    "i = 0\n",
    "print(df_signals.iloc[i].values)"
   ]
  },
  {
   "cell_type": "code",
   "execution_count": null,
   "metadata": {},
   "outputs": [],
   "source": [
    "# get number of rows in df_signals\n",
    "n = len(df_signals)\n",
    "print(range(n))\n",
    "for i in range(n):\n",
    "    print(df_signals.iloc[i].values)"
   ]
  },
  {
   "cell_type": "code",
   "execution_count": null,
   "metadata": {},
   "outputs": [],
   "source": [
    "df_robs = pd.DataFrame(columns=[\"time\"] + formulas, dtype=float)\n",
    "\n",
    "# fill first row of df_robs with 0\n",
    "# df_robs.loc[0] = [0] + [0]*len(formulas)\n",
    "\n",
    "\n"
   ]
  },
  {
   "cell_type": "code",
   "execution_count": null,
   "metadata": {},
   "outputs": [],
   "source": [
    "\n",
    "for idx in range(len(df_signals)):    \n",
    "    time = df_signals[\"time\"][idx]\n",
    "    values = []\n",
    "    for idx_formula in range(len(formulas)):\n",
    "        v = stl_driver.get_online_rob(formulas[idx_formula], time)[0]\n",
    "        values.append(v)\n",
    "    df_robs.loc[idx] = [time] + values\n",
    "\n",
    "print(df_robs.head(1))"
   ]
  },
  {
   "cell_type": "code",
   "execution_count": null,
   "metadata": {},
   "outputs": [],
   "source": [
    "# check if roro is a column of df_robs\n",
    "print(\"roro\" in df_robs.columns)"
   ]
  },
  {
   "cell_type": "code",
   "execution_count": null,
   "metadata": {},
   "outputs": [],
   "source": [
    "\n",
    "for idx in range(len(df_signals)):\n",
    "    for idx_formula in range(len(formulas)):\n",
    "       print(idx_formula)\n",
    "       time = df_signals[\"time\"]\n",
    "       df_robs[\"time\"] = time\n",
    "       df_robs[formulas[idx_formula]] = stl_driver.get_online_rob(formulas[idx_formula], time)[0]"
   ]
  }
 ],
 "metadata": {
  "kernelspec": {
   "display_name": "Python 3",
   "language": "python",
   "name": "python3"
  },
  "language_info": {
   "codemirror_mode": {
    "name": "ipython",
    "version": 3
   },
   "file_extension": ".py",
   "mimetype": "text/x-python",
   "name": "python",
   "nbconvert_exporter": "python",
   "pygments_lexer": "ipython3",
   "version": "3.10.12"
  }
 },
 "nbformat": 4,
 "nbformat_minor": 2
}
