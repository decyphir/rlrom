{
 "cells": [
  {
   "cell_type": "code",
   "execution_count": 1,
   "metadata": {
    "metadata": {}
   },
   "outputs": [],
   "source": [
    "import os\n",
    "import sys\n",
    "sys.path.insert(0, os.path.abspath(os.path.join(os.getcwd(), '..')))\n",
    "import rlrom\n",
    "from rlrom.app import *\n",
    "from rlrom.testers import *\n",
    "import rlrom.utils as hf"
   ]
  },
  {
   "cell_type": "code",
   "execution_count": 2,
   "metadata": {
    "metadata": {}
   },
   "outputs": [
    {
     "data": {
      "application/vnd.jupyter.widget-view+json": {
       "model_id": "3c1ccec000c941dea5cd18f4ebcd9012",
       "version_major": 2,
       "version_minor": 0
      },
      "text/plain": [
       "Dropdown(description='Environment:', options=('Pendulum-v1', 'CartPole-v1', 'MountainCar-v0', 'Acrobot-v1', 'L…"
      ]
     },
     "metadata": {},
     "output_type": "display_data"
    }
   ],
   "source": [
    "# create widget that select env_name from supported_environments\n",
    "import ipywidgets\n",
    "\n",
    "env_list = rlrom.supported_envs\n",
    "env_widget = ipywidgets.Dropdown(\n",
    "    options=env_list,\n",
    "    value=env_list[0],\n",
    "    description='Environment:',\n",
    "    disabled=False,\n",
    ")\n",
    "\n",
    "# display env_widget and store the selected value in env_name\n",
    "env_name = env_widget.value\n",
    "display(env_widget)\n",
    "\n"
   ]
  },
  {
   "cell_type": "code",
   "execution_count": 3,
   "metadata": {
    "metadata": {}
   },
   "outputs": [
    {
     "name": "stdout",
     "output_type": "stream",
     "text": [
      "Found  26  models for  Pendulum-v1\n"
     ]
    },
    {
     "data": {
      "application/vnd.jupyter.widget-view+json": {
       "model_id": "894325199f774dce92b7988ff25e6a15",
       "version_major": 2,
       "version_minor": 0
      },
      "text/plain": [
       "Dropdown(description='Model:', options=('sb3/ppo-Pendulum-v1', 'araffin/a2c-Pendulum-v1', 'sb3/sac-Pendulum-v1…"
      ]
     },
     "metadata": {},
     "output_type": "display_data"
    }
   ],
   "source": [
    "env_name = env_widget.value\n",
    "T = rlrom.RLModelTester(env_name)\n",
    "model_list = T.find_hf_models()\n",
    "\n",
    "model_widget = ipywidgets.Dropdown(\n",
    "    options=model_list,\n",
    "    value=model_list[0],\n",
    "    description='Model:',\n",
    "    disabled=False,\n",
    ")\n",
    "display(model_widget)"
   ]
  },
  {
   "cell_type": "code",
   "execution_count": 4,
   "metadata": {
    "metadata": {}
   },
   "outputs": [
    {
     "name": "stdout",
     "output_type": "stream",
     "text": [
      "== CURRENT SYSTEM INFO ==\n",
      "- OS: Linux-6.5.0-28-generic-x86_64-with-glibc2.35 # 29~22.04.1-Ubuntu SMP PREEMPT_DYNAMIC Thu Apr  4 14:39:20 UTC 2\n",
      "- Python: 3.10.12\n",
      "- Stable-Baselines3: 2.2.1\n",
      "- PyTorch: 2.2.1+cu121\n",
      "- GPU Enabled: False\n",
      "- Numpy: 1.26.4\n",
      "- Cloudpickle: 3.0.0\n",
      "- Gymnasium: 0.29.1\n",
      "- OpenAI Gym: 0.26.2\n",
      "\n",
      "== SAVED MODEL SYSTEM INFO ==\n",
      "OS: Linux-5.4.0-110-generic-x86_64-with-debian-bullseye-sid #124-Ubuntu SMP Thu Apr 14 19:46:19 UTC 2022\n",
      "Python: 3.7.12\n",
      "Stable-Baselines3: 1.5.1a6\n",
      "PyTorch: 1.11.0+cpu\n",
      "GPU Enabled: False\n",
      "Numpy: 1.21.6\n",
      "Gym: 0.21.0\n",
      "\n"
     ]
    },
    {
     "name": "stderr",
     "output_type": "stream",
     "text": [
      "/home/alex/.local/lib/python3.10/site-packages/torch/cuda/__init__.py:141: UserWarning: CUDA initialization: CUDA unknown error - this may be due to an incorrectly set up environment, e.g. changing env variable CUDA_VISIBLE_DEVICES after program start. Setting the available devices to be zero. (Triggered internally at ../c10/cuda/CUDAFunctions.cpp:108.)\n",
      "  return torch._C._cuda_getDeviceCount() > 0\n",
      "/home/alex/.local/lib/python3.10/site-packages/stable_baselines3/common/vec_env/patch_gym.py:95: UserWarning: You loaded a model that was trained using OpenAI Gym. We strongly recommend transitioning to Gymnasium by saving that model again.\n",
      "  warnings.warn(\n"
     ]
    },
    {
     "name": "stdout",
     "output_type": "stream",
     "text": [
      "Model  sb3/ppo-Pendulum-v1  loaded\n"
     ]
    },
    {
     "data": {
      "text/plain": [
       "<stable_baselines3.ppo.ppo.PPO at 0x761d3802b340>"
      ]
     },
     "execution_count": 4,
     "metadata": {},
     "output_type": "execute_result"
    }
   ],
   "source": [
    "model_name = model_widget.value\n",
    "T.load_hf_model(model_name)\n"
   ]
  },
  {
   "cell_type": "code",
   "execution_count": 5,
   "metadata": {
    "metadata": {}
   },
   "outputs": [
    {
     "name": "stdout",
     "output_type": "stream",
     "text": [
      "[1, 2]\n"
     ]
    }
   ],
   "source": [
    "str_seeds = '1,2'\n",
    "list_seeds  = hf.parse_integer_set_spec(str_seeds)\n",
    "print(list_seeds)"
   ]
  },
  {
   "cell_type": "code",
   "execution_count": 6,
   "metadata": {
    "metadata": {}
   },
   "outputs": [
    {
     "name": "stdout",
     "output_type": "stream",
     "text": [
      "Testing seed  1  with model  sb3/ppo-Pendulum-v1  for  100  steps  lazy:  True\n",
      "current evals:  None\n",
      "current evals:  None\n",
      "Adding eval  total_reward  for seed  1  with value  -1.729253965190529\n",
      "-1.729253965190529\n",
      "Testing seed  2  with model  sb3/ppo-Pendulum-v1  for  100  steps  lazy:  True\n",
      "current evals:    seed           model_name  total_reward\n",
      "0    1  sb3/ppo-Pendulum-v1     -1.729254\n",
      "current evals:    seed           model_name  total_reward\n",
      "0    1  sb3/ppo-Pendulum-v1     -1.729254\n",
      "Adding eval  total_reward  for seed  2  with value  -126.05877261858713\n",
      "-126.05877261858713\n"
     ]
    },
    {
     "name": "stderr",
     "output_type": "stream",
     "text": [
      "/home/alex/Dropbox/workspace/decyphir/Det-ai/rlrom/rlrom/testers.py:90: FutureWarning: The behavior of DataFrame concatenation with empty or all-NA entries is deprecated. In a future version, this will no longer exclude empty or all-NA columns when determining the result dtypes. To retain the old behavior, exclude the relevant entries before the concat operation.\n",
      "  self.evals = pd.concat([ self.evals,  new_record ])\n"
     ]
    }
   ],
   "source": [
    "for i in list_seeds:\n",
    "    print(T.test_seed(i))\n"
   ]
  },
  {
   "cell_type": "code",
   "execution_count": 7,
   "metadata": {
    "metadata": {}
   },
   "outputs": [
    {
     "data": {
      "text/html": [
       "    <style>\n",
       "        .bk-notebook-logo {\n",
       "            display: block;\n",
       "            width: 20px;\n",
       "            height: 20px;\n",
       "            background-image: url(data:image/png;base64,iVBORw0KGgoAAAANSUhEUgAAABQAAAAUCAYAAACNiR0NAAAABHNCSVQICAgIfAhkiAAAAAlwSFlzAAALEgAACxIB0t1+/AAAABx0RVh0U29mdHdhcmUAQWRvYmUgRmlyZXdvcmtzIENTNui8sowAAAOkSURBVDiNjZRtaJVlGMd/1/08zzln5zjP1LWcU9N0NkN8m2CYjpgQYQXqSs0I84OLIC0hkEKoPtiH3gmKoiJDU7QpLgoLjLIQCpEsNJ1vqUOdO7ppbuec5+V+rj4ctwzd8IIbbi6u+8f1539dt3A78eXC7QizUF7gyV1fD1Yqg4JWz84yffhm0qkFqBogB9rM8tZdtwVsPUhWhGcFJngGeWrPzHm5oaMmkfEg1usvLFyc8jLRqDOMru7AyC8saQr7GG7f5fvDeH7Ej8CM66nIF+8yngt6HWaKh7k49Soy9nXurCi1o3qUbS3zWfrYeQDTB/Qj6kX6Ybhw4B+bOYoLKCC9H3Nu/leUTZ1JdRWkkn2ldcCamzrcf47KKXdAJllSlxAOkRgyHsGC/zRday5Qld9DyoM4/q/rUoy/CXh3jzOu3bHUVZeU+DEn8FInkPBFlu3+nW3Nw0mk6vCDiWg8CeJaxEwuHS3+z5RgY+YBR6V1Z1nxSOfoaPa4LASWxxdNp+VWTk7+4vzaou8v8PN+xo+KY2xsw6une2frhw05CTYOmQvsEhjhWjn0bmXPjpE1+kplmmkP3suftwTubK9Vq22qKmrBhpY4jvd5afdRA3wGjFAgcnTK2s4hY0/GPNIb0nErGMCRxWOOX64Z8RAC4oCXdklmEvcL8o0BfkNK4lUg9HTl+oPlQxdNo3Mg4Nv175e/1LDGzZen30MEjRUtmXSfiTVu1kK8W4txyV6BMKlbgk3lMwYCiusNy9fVfvvwMxv8Ynl6vxoByANLTWplvuj/nF9m2+PDtt1eiHPBr1oIfhCChQMBw6Aw0UulqTKZdfVvfG7VcfIqLG9bcldL/+pdWTLxLUy8Qq38heUIjh4XlzZxzQm19lLFlr8vdQ97rjZVOLf8nclzckbcD4wxXMidpX30sFd37Fv/GtwwhzhxGVAprjbg0gCAEeIgwCZyTV2Z1REEW8O4py0wsjeloKoMr6iCY6dP92H6Vw/oTyICIthibxjm/DfN9lVz8IqtqKYLUXfoKVMVQVVJOElGjrnnUt9T9wbgp8AyYKaGlqingHZU/uG2NTZSVqwHQTWkx9hxjkpWDaCg6Ckj5qebgBVbT3V3NNXMSiWSDdGV3hrtzla7J+duwPOToIg42ChPQOQjspnSlp1V+Gjdged7+8UN5CRAV7a5EdFNwCjEaBR27b3W890TE7g24NAP/mMDXRWrGoFPQI9ls/MWO2dWFAar/xcOIImbbpA3zgAAAABJRU5ErkJggg==);\n",
       "        }\n",
       "    </style>\n",
       "    <div>\n",
       "        <a href=\"https://bokeh.org\" target=\"_blank\" class=\"bk-notebook-logo\"></a>\n",
       "        <span id=\"bed5d477-fdd3-4a05-847b-91ed3cfd46a3\">Loading BokehJS ...</span>\n",
       "    </div>\n"
      ]
     },
     "metadata": {},
     "output_type": "display_data"
    },
    {
     "data": {
      "application/javascript": "'use strict';\n(function(root) {\n  function now() {\n    return new Date();\n  }\n\n  const force = true;\n\n  if (typeof root._bokeh_onload_callbacks === \"undefined\" || force === true) {\n    root._bokeh_onload_callbacks = [];\n    root._bokeh_is_loading = undefined;\n  }\n\nconst JS_MIME_TYPE = 'application/javascript';\n  const HTML_MIME_TYPE = 'text/html';\n  const EXEC_MIME_TYPE = 'application/vnd.bokehjs_exec.v0+json';\n  const CLASS_NAME = 'output_bokeh rendered_html';\n\n  /**\n   * Render data to the DOM node\n   */\n  function render(props, node) {\n    const script = document.createElement(\"script\");\n    node.appendChild(script);\n  }\n\n  /**\n   * Handle when an output is cleared or removed\n   */\n  function handleClearOutput(event, handle) {\n    function drop(id) {\n      const view = Bokeh.index.get_by_id(id)\n      if (view != null) {\n        view.model.document.clear()\n        Bokeh.index.delete(view)\n      }\n    }\n\n    const cell = handle.cell;\n\n    const id = cell.output_area._bokeh_element_id;\n    const server_id = cell.output_area._bokeh_server_id;\n\n    // Clean up Bokeh references\n    if (id != null) {\n      drop(id)\n    }\n\n    if (server_id !== undefined) {\n      // Clean up Bokeh references\n      const cmd_clean = \"from bokeh.io.state import curstate; print(curstate().uuid_to_server['\" + server_id + \"'].get_sessions()[0].document.roots[0]._id)\";\n      cell.notebook.kernel.execute(cmd_clean, {\n        iopub: {\n          output: function(msg) {\n            const id = msg.content.text.trim()\n            drop(id)\n          }\n        }\n      });\n      // Destroy server and session\n      const cmd_destroy = \"import bokeh.io.notebook as ion; ion.destroy_server('\" + server_id + \"')\";\n      cell.notebook.kernel.execute(cmd_destroy);\n    }\n  }\n\n  /**\n   * Handle when a new output is added\n   */\n  function handleAddOutput(event, handle) {\n    const output_area = handle.output_area;\n    const output = handle.output;\n\n    // limit handleAddOutput to display_data with EXEC_MIME_TYPE content only\n    if ((output.output_type != \"display_data\") || (!Object.prototype.hasOwnProperty.call(output.data, EXEC_MIME_TYPE))) {\n      return\n    }\n\n    const toinsert = output_area.element.find(\".\" + CLASS_NAME.split(' ')[0]);\n\n    if (output.metadata[EXEC_MIME_TYPE][\"id\"] !== undefined) {\n      toinsert[toinsert.length - 1].firstChild.textContent = output.data[JS_MIME_TYPE];\n      // store reference to embed id on output_area\n      output_area._bokeh_element_id = output.metadata[EXEC_MIME_TYPE][\"id\"];\n    }\n    if (output.metadata[EXEC_MIME_TYPE][\"server_id\"] !== undefined) {\n      const bk_div = document.createElement(\"div\");\n      bk_div.innerHTML = output.data[HTML_MIME_TYPE];\n      const script_attrs = bk_div.children[0].attributes;\n      for (let i = 0; i < script_attrs.length; i++) {\n        toinsert[toinsert.length - 1].firstChild.setAttribute(script_attrs[i].name, script_attrs[i].value);\n        toinsert[toinsert.length - 1].firstChild.textContent = bk_div.children[0].textContent\n      }\n      // store reference to server id on output_area\n      output_area._bokeh_server_id = output.metadata[EXEC_MIME_TYPE][\"server_id\"];\n    }\n  }\n\n  function register_renderer(events, OutputArea) {\n\n    function append_mime(data, metadata, element) {\n      // create a DOM node to render to\n      const toinsert = this.create_output_subarea(\n        metadata,\n        CLASS_NAME,\n        EXEC_MIME_TYPE\n      );\n      this.keyboard_manager.register_events(toinsert);\n      // Render to node\n      const props = {data: data, metadata: metadata[EXEC_MIME_TYPE]};\n      render(props, toinsert[toinsert.length - 1]);\n      element.append(toinsert);\n      return toinsert\n    }\n\n    /* Handle when an output is cleared or removed */\n    events.on('clear_output.CodeCell', handleClearOutput);\n    events.on('delete.Cell', handleClearOutput);\n\n    /* Handle when a new output is added */\n    events.on('output_added.OutputArea', handleAddOutput);\n\n    /**\n     * Register the mime type and append_mime function with output_area\n     */\n    OutputArea.prototype.register_mime_type(EXEC_MIME_TYPE, append_mime, {\n      /* Is output safe? */\n      safe: true,\n      /* Index of renderer in `output_area.display_order` */\n      index: 0\n    });\n  }\n\n  // register the mime type if in Jupyter Notebook environment and previously unregistered\n  if (root.Jupyter !== undefined) {\n    const events = require('base/js/events');\n    const OutputArea = require('notebook/js/outputarea').OutputArea;\n\n    if (OutputArea.prototype.mime_types().indexOf(EXEC_MIME_TYPE) == -1) {\n      register_renderer(events, OutputArea);\n    }\n  }\n  if (typeof (root._bokeh_timeout) === \"undefined\" || force === true) {\n    root._bokeh_timeout = Date.now() + 5000;\n    root._bokeh_failed_load = false;\n  }\n\n  const NB_LOAD_WARNING = {'data': {'text/html':\n     \"<div style='background-color: #fdd'>\\n\"+\n     \"<p>\\n\"+\n     \"BokehJS does not appear to have successfully loaded. If loading BokehJS from CDN, this \\n\"+\n     \"may be due to a slow or bad network connection. Possible fixes:\\n\"+\n     \"</p>\\n\"+\n     \"<ul>\\n\"+\n     \"<li>re-rerun `output_notebook()` to attempt to load from CDN again, or</li>\\n\"+\n     \"<li>use INLINE resources instead, as so:</li>\\n\"+\n     \"</ul>\\n\"+\n     \"<code>\\n\"+\n     \"from bokeh.resources import INLINE\\n\"+\n     \"output_notebook(resources=INLINE)\\n\"+\n     \"</code>\\n\"+\n     \"</div>\"}};\n\n  function display_loaded(error = null) {\n    const el = document.getElementById(\"bed5d477-fdd3-4a05-847b-91ed3cfd46a3\");\n    if (el != null) {\n      const html = (() => {\n        if (typeof root.Bokeh === \"undefined\") {\n          if (error == null) {\n            return \"BokehJS is loading ...\";\n          } else {\n            return \"BokehJS failed to load.\";\n          }\n        } else {\n          const prefix = `BokehJS ${root.Bokeh.version}`;\n          if (error == null) {\n            return `${prefix} successfully loaded.`;\n          } else {\n            return `${prefix} <b>encountered errors</b> while loading and may not function as expected.`;\n          }\n        }\n      })();\n      el.innerHTML = html;\n\n      if (error != null) {\n        const wrapper = document.createElement(\"div\");\n        wrapper.style.overflow = \"auto\";\n        wrapper.style.height = \"5em\";\n        wrapper.style.resize = \"vertical\";\n        const content = document.createElement(\"div\");\n        content.style.fontFamily = \"monospace\";\n        content.style.whiteSpace = \"pre-wrap\";\n        content.style.backgroundColor = \"rgb(255, 221, 221)\";\n        content.textContent = error.stack ?? error.toString();\n        wrapper.append(content);\n        el.append(wrapper);\n      }\n    } else if (Date.now() < root._bokeh_timeout) {\n      setTimeout(() => display_loaded(error), 100);\n    }\n  }\n\n  function run_callbacks() {\n    try {\n      root._bokeh_onload_callbacks.forEach(function(callback) {\n        if (callback != null)\n          callback();\n      });\n    } finally {\n      delete root._bokeh_onload_callbacks\n    }\n    console.debug(\"Bokeh: all callbacks have finished\");\n  }\n\n  function load_libs(css_urls, js_urls, callback) {\n    if (css_urls == null) css_urls = [];\n    if (js_urls == null) js_urls = [];\n\n    root._bokeh_onload_callbacks.push(callback);\n    if (root._bokeh_is_loading > 0) {\n      console.debug(\"Bokeh: BokehJS is being loaded, scheduling callback at\", now());\n      return null;\n    }\n    if (js_urls == null || js_urls.length === 0) {\n      run_callbacks();\n      return null;\n    }\n    console.debug(\"Bokeh: BokehJS not loaded, scheduling load and callback at\", now());\n    root._bokeh_is_loading = css_urls.length + js_urls.length;\n\n    function on_load() {\n      root._bokeh_is_loading--;\n      if (root._bokeh_is_loading === 0) {\n        console.debug(\"Bokeh: all BokehJS libraries/stylesheets loaded\");\n        run_callbacks()\n      }\n    }\n\n    function on_error(url) {\n      console.error(\"failed to load \" + url);\n    }\n\n    for (let i = 0; i < css_urls.length; i++) {\n      const url = css_urls[i];\n      const element = document.createElement(\"link\");\n      element.onload = on_load;\n      element.onerror = on_error.bind(null, url);\n      element.rel = \"stylesheet\";\n      element.type = \"text/css\";\n      element.href = url;\n      console.debug(\"Bokeh: injecting link tag for BokehJS stylesheet: \", url);\n      document.body.appendChild(element);\n    }\n\n    for (let i = 0; i < js_urls.length; i++) {\n      const url = js_urls[i];\n      const element = document.createElement('script');\n      element.onload = on_load;\n      element.onerror = on_error.bind(null, url);\n      element.async = false;\n      element.src = url;\n      console.debug(\"Bokeh: injecting script tag for BokehJS library: \", url);\n      document.head.appendChild(element);\n    }\n  };\n\n  function inject_raw_css(css) {\n    const element = document.createElement(\"style\");\n    element.appendChild(document.createTextNode(css));\n    document.body.appendChild(element);\n  }\n\n  const js_urls = [\"https://cdn.bokeh.org/bokeh/release/bokeh-3.4.1.min.js\", \"https://cdn.bokeh.org/bokeh/release/bokeh-gl-3.4.1.min.js\", \"https://cdn.bokeh.org/bokeh/release/bokeh-widgets-3.4.1.min.js\", \"https://cdn.bokeh.org/bokeh/release/bokeh-tables-3.4.1.min.js\", \"https://cdn.bokeh.org/bokeh/release/bokeh-mathjax-3.4.1.min.js\"];\n  const css_urls = [];\n\n  const inline_js = [    function(Bokeh) {\n      Bokeh.set_log_level(\"info\");\n    },\nfunction(Bokeh) {\n    }\n  ];\n\n  function run_inline_js() {\n    if (root.Bokeh !== undefined || force === true) {\n      try {\n            for (let i = 0; i < inline_js.length; i++) {\n      inline_js[i].call(root, root.Bokeh);\n    }\n\n      } catch (error) {display_loaded(error);throw error;\n      }if (force === true) {\n        display_loaded();\n      }} else if (Date.now() < root._bokeh_timeout) {\n      setTimeout(run_inline_js, 100);\n    } else if (!root._bokeh_failed_load) {\n      console.log(\"Bokeh: BokehJS failed to load within specified timeout.\");\n      root._bokeh_failed_load = true;\n    } else if (force !== true) {\n      const cell = $(document.getElementById(\"bed5d477-fdd3-4a05-847b-91ed3cfd46a3\")).parents('.cell').data().cell;\n      cell.output_area.append_execute_result(NB_LOAD_WARNING)\n    }\n  }\n\n  if (root._bokeh_is_loading === 0) {\n    console.debug(\"Bokeh: BokehJS loaded, going straight to plotting\");\n    run_inline_js();\n  } else {\n    load_libs(css_urls, js_urls, function() {\n      console.debug(\"Bokeh: BokehJS plotting callback run at\", now());\n      run_inline_js();\n    });\n  }\n}(window));",
      "application/vnd.bokehjs_load.v0+json": ""
     },
     "metadata": {},
     "output_type": "display_data"
    }
   ],
   "source": [
    "from bokeh.plotting import figure,show\n",
    "from bokeh.io import output_notebook\n",
    "output_notebook()"
   ]
  },
  {
   "cell_type": "code",
   "execution_count": 8,
   "metadata": {
    "metadata": {}
   },
   "outputs": [],
   "source": [
    "def get_df(self, signals_names=None):\n",
    "        \n",
    "        if signals_names is None:\n",
    "            signals_names = self.signals_names\n",
    "        elif type(signals_names) is str:\n",
    "            signals_names = [signals_names]\n",
    "                \n",
    "        \n",
    "        df_signals = pd.DataFrame()\n",
    "\n",
    "        df_signals['time'] = self.get_time()\n",
    "        for signal in signals_names:\n",
    "            df_signals[signal]= self.get_signal(signal)\n",
    "        \n",
    "        return df_signals\n"
   ]
  },
  {
   "cell_type": "code",
   "execution_count": 9,
   "metadata": {
    "metadata": {}
   },
   "outputs": [
    {
     "data": {
      "text/html": [
       "<div>\n",
       "<style scoped>\n",
       "    .dataframe tbody tr th:only-of-type {\n",
       "        vertical-align: middle;\n",
       "    }\n",
       "\n",
       "    .dataframe tbody tr th {\n",
       "        vertical-align: top;\n",
       "    }\n",
       "\n",
       "    .dataframe thead th {\n",
       "        text-align: right;\n",
       "    }\n",
       "</style>\n",
       "<table border=\"1\" class=\"dataframe\">\n",
       "  <thead>\n",
       "    <tr style=\"text-align: right;\">\n",
       "      <th></th>\n",
       "      <th>time</th>\n",
       "      <th>torque</th>\n",
       "    </tr>\n",
       "  </thead>\n",
       "  <tbody>\n",
       "    <tr>\n",
       "      <th>0</th>\n",
       "      <td>0.00</td>\n",
       "      <td>2.000000</td>\n",
       "    </tr>\n",
       "    <tr>\n",
       "      <th>1</th>\n",
       "      <td>0.05</td>\n",
       "      <td>2.000000</td>\n",
       "    </tr>\n",
       "    <tr>\n",
       "      <th>2</th>\n",
       "      <td>0.10</td>\n",
       "      <td>2.000000</td>\n",
       "    </tr>\n",
       "    <tr>\n",
       "      <th>3</th>\n",
       "      <td>0.15</td>\n",
       "      <td>2.000000</td>\n",
       "    </tr>\n",
       "    <tr>\n",
       "      <th>4</th>\n",
       "      <td>0.20</td>\n",
       "      <td>2.000000</td>\n",
       "    </tr>\n",
       "    <tr>\n",
       "      <th>...</th>\n",
       "      <td>...</td>\n",
       "      <td>...</td>\n",
       "    </tr>\n",
       "    <tr>\n",
       "      <th>95</th>\n",
       "      <td>4.75</td>\n",
       "      <td>0.702417</td>\n",
       "    </tr>\n",
       "    <tr>\n",
       "      <th>96</th>\n",
       "      <td>4.80</td>\n",
       "      <td>0.703338</td>\n",
       "    </tr>\n",
       "    <tr>\n",
       "      <th>97</th>\n",
       "      <td>4.85</td>\n",
       "      <td>0.704195</td>\n",
       "    </tr>\n",
       "    <tr>\n",
       "      <th>98</th>\n",
       "      <td>4.90</td>\n",
       "      <td>0.704993</td>\n",
       "    </tr>\n",
       "    <tr>\n",
       "      <th>99</th>\n",
       "      <td>4.95</td>\n",
       "      <td>0.705736</td>\n",
       "    </tr>\n",
       "  </tbody>\n",
       "</table>\n",
       "<p>100 rows × 2 columns</p>\n",
       "</div>"
      ],
      "text/plain": [
       "    time    torque\n",
       "0   0.00  2.000000\n",
       "1   0.05  2.000000\n",
       "2   0.10  2.000000\n",
       "3   0.15  2.000000\n",
       "4   0.20  2.000000\n",
       "..   ...       ...\n",
       "95  4.75  0.702417\n",
       "96  4.80  0.703338\n",
       "97  4.85  0.704195\n",
       "98  4.90  0.704993\n",
       "99  4.95  0.705736\n",
       "\n",
       "[100 rows x 2 columns]"
      ]
     },
     "execution_count": 9,
     "metadata": {},
     "output_type": "execute_result"
    }
   ],
   "source": [
    "get_df(T,'torque')"
   ]
  },
  {
   "cell_type": "code",
   "execution_count": 10,
   "metadata": {
    "metadata": {}
   },
   "outputs": [
    {
     "name": "stdout",
     "output_type": "stream",
     "text": [
      "Plot ok.\n"
     ]
    },
    {
     "data": {
      "text/html": [
       "\n",
       "  <div id=\"bfc4d681-d8c1-498b-bac6-2948235def57\" data-root-id=\"p1190\" style=\"display: contents;\"></div>\n"
      ]
     },
     "metadata": {},
     "output_type": "display_data"
    },
    {
     "data": {
      "application/javascript": "(function(root) {\n  function embed_document(root) {\n  const docs_json = {\"82f6ed02-7bc3-47dd-9ffd-e44b6078a635\":{\"version\":\"3.4.1\",\"title\":\"Bokeh Application\",\"roots\":[{\"type\":\"object\",\"name\":\"GridPlot\",\"id\":\"p1190\",\"attributes\":{\"rows\":null,\"cols\":null,\"sizing_mode\":\"stretch_width\",\"toolbar\":{\"type\":\"object\",\"name\":\"Toolbar\",\"id\":\"p1189\",\"attributes\":{\"tools\":[{\"type\":\"object\",\"name\":\"ToolProxy\",\"id\":\"p1183\",\"attributes\":{\"tools\":[{\"type\":\"object\",\"name\":\"PanTool\",\"id\":\"p1022\"},{\"type\":\"object\",\"name\":\"PanTool\",\"id\":\"p1065\"},{\"type\":\"object\",\"name\":\"PanTool\",\"id\":\"p1108\"},{\"type\":\"object\",\"name\":\"PanTool\",\"id\":\"p1161\"}]}},{\"type\":\"object\",\"name\":\"ToolProxy\",\"id\":\"p1184\",\"attributes\":{\"tools\":[{\"type\":\"object\",\"name\":\"WheelZoomTool\",\"id\":\"p1023\",\"attributes\":{\"renderers\":\"auto\"}},{\"type\":\"object\",\"name\":\"WheelZoomTool\",\"id\":\"p1066\",\"attributes\":{\"renderers\":\"auto\"}},{\"type\":\"object\",\"name\":\"WheelZoomTool\",\"id\":\"p1109\",\"attributes\":{\"renderers\":\"auto\"}},{\"type\":\"object\",\"name\":\"WheelZoomTool\",\"id\":\"p1162\",\"attributes\":{\"renderers\":\"auto\"}}]}},{\"type\":\"object\",\"name\":\"ToolProxy\",\"id\":\"p1185\",\"attributes\":{\"tools\":[{\"type\":\"object\",\"name\":\"BoxZoomTool\",\"id\":\"p1024\",\"attributes\":{\"overlay\":{\"type\":\"object\",\"name\":\"BoxAnnotation\",\"id\":\"p1025\",\"attributes\":{\"syncable\":false,\"level\":\"overlay\",\"visible\":false,\"left\":{\"type\":\"number\",\"value\":\"nan\"},\"right\":{\"type\":\"number\",\"value\":\"nan\"},\"top\":{\"type\":\"number\",\"value\":\"nan\"},\"bottom\":{\"type\":\"number\",\"value\":\"nan\"},\"left_units\":\"canvas\",\"right_units\":\"canvas\",\"top_units\":\"canvas\",\"bottom_units\":\"canvas\",\"line_color\":\"black\",\"line_alpha\":1.0,\"line_width\":2,\"line_dash\":[4,4],\"fill_color\":\"lightgrey\",\"fill_alpha\":0.5}}}},{\"type\":\"object\",\"name\":\"BoxZoomTool\",\"id\":\"p1067\",\"attributes\":{\"overlay\":{\"type\":\"object\",\"name\":\"BoxAnnotation\",\"id\":\"p1068\",\"attributes\":{\"syncable\":false,\"level\":\"overlay\",\"visible\":false,\"left\":{\"type\":\"number\",\"value\":\"nan\"},\"right\":{\"type\":\"number\",\"value\":\"nan\"},\"top\":{\"type\":\"number\",\"value\":\"nan\"},\"bottom\":{\"type\":\"number\",\"value\":\"nan\"},\"left_units\":\"canvas\",\"right_units\":\"canvas\",\"top_units\":\"canvas\",\"bottom_units\":\"canvas\",\"line_color\":\"black\",\"line_alpha\":1.0,\"line_width\":2,\"line_dash\":[4,4],\"fill_color\":\"lightgrey\",\"fill_alpha\":0.5}}}},{\"type\":\"object\",\"name\":\"BoxZoomTool\",\"id\":\"p1110\",\"attributes\":{\"overlay\":{\"type\":\"object\",\"name\":\"BoxAnnotation\",\"id\":\"p1111\",\"attributes\":{\"syncable\":false,\"level\":\"overlay\",\"visible\":false,\"left\":{\"type\":\"number\",\"value\":\"nan\"},\"right\":{\"type\":\"number\",\"value\":\"nan\"},\"top\":{\"type\":\"number\",\"value\":\"nan\"},\"bottom\":{\"type\":\"number\",\"value\":\"nan\"},\"left_units\":\"canvas\",\"right_units\":\"canvas\",\"top_units\":\"canvas\",\"bottom_units\":\"canvas\",\"line_color\":\"black\",\"line_alpha\":1.0,\"line_width\":2,\"line_dash\":[4,4],\"fill_color\":\"lightgrey\",\"fill_alpha\":0.5}}}},{\"type\":\"object\",\"name\":\"BoxZoomTool\",\"id\":\"p1163\",\"attributes\":{\"overlay\":{\"type\":\"object\",\"name\":\"BoxAnnotation\",\"id\":\"p1164\",\"attributes\":{\"syncable\":false,\"level\":\"overlay\",\"visible\":false,\"left\":{\"type\":\"number\",\"value\":\"nan\"},\"right\":{\"type\":\"number\",\"value\":\"nan\"},\"top\":{\"type\":\"number\",\"value\":\"nan\"},\"bottom\":{\"type\":\"number\",\"value\":\"nan\"},\"left_units\":\"canvas\",\"right_units\":\"canvas\",\"top_units\":\"canvas\",\"bottom_units\":\"canvas\",\"line_color\":\"black\",\"line_alpha\":1.0,\"line_width\":2,\"line_dash\":[4,4],\"fill_color\":\"lightgrey\",\"fill_alpha\":0.5}}}}]}},{\"type\":\"object\",\"name\":\"SaveTool\",\"id\":\"p1186\"},{\"type\":\"object\",\"name\":\"ToolProxy\",\"id\":\"p1187\",\"attributes\":{\"tools\":[{\"type\":\"object\",\"name\":\"ResetTool\",\"id\":\"p1031\"},{\"type\":\"object\",\"name\":\"ResetTool\",\"id\":\"p1074\"},{\"type\":\"object\",\"name\":\"ResetTool\",\"id\":\"p1117\"},{\"type\":\"object\",\"name\":\"ResetTool\",\"id\":\"p1170\"}]}},{\"type\":\"object\",\"name\":\"ToolProxy\",\"id\":\"p1188\",\"attributes\":{\"tools\":[{\"type\":\"object\",\"name\":\"HelpTool\",\"id\":\"p1032\"},{\"type\":\"object\",\"name\":\"HelpTool\",\"id\":\"p1075\"},{\"type\":\"object\",\"name\":\"HelpTool\",\"id\":\"p1118\"},{\"type\":\"object\",\"name\":\"HelpTool\",\"id\":\"p1171\"}]}}]}},\"children\":[[{\"type\":\"object\",\"name\":\"Figure\",\"id\":\"p1001\",\"attributes\":{\"height\":200,\"sizing_mode\":\"stretch_width\",\"x_range\":{\"type\":\"object\",\"name\":\"DataRange1d\",\"id\":\"p1002\"},\"y_range\":{\"type\":\"object\",\"name\":\"DataRange1d\",\"id\":\"p1003\"},\"x_scale\":{\"type\":\"object\",\"name\":\"LinearScale\",\"id\":\"p1010\"},\"y_scale\":{\"type\":\"object\",\"name\":\"LinearScale\",\"id\":\"p1011\"},\"title\":{\"type\":\"object\",\"name\":\"Title\",\"id\":\"p1008\"},\"renderers\":[{\"type\":\"object\",\"name\":\"GlyphRenderer\",\"id\":\"p1039\",\"attributes\":{\"data_source\":{\"type\":\"object\",\"name\":\"ColumnDataSource\",\"id\":\"p1033\",\"attributes\":{\"selected\":{\"type\":\"object\",\"name\":\"Selection\",\"id\":\"p1034\",\"attributes\":{\"indices\":[],\"line_indices\":[]}},\"selection_policy\":{\"type\":\"object\",\"name\":\"UnionRenderers\",\"id\":\"p1035\"},\"data\":{\"type\":\"map\",\"entries\":[[\"x\",{\"type\":\"ndarray\",\"array\":{\"type\":\"bytes\",\"data\":\"AAAAAAAAAACamZmZmZmpP5qZmZmZmbk/NDMzMzMzwz+amZmZmZnJPwAAAAAAANA/MzMzMzMz0z9mZmZmZmbWP5mZmZmZmdk/zMzMzMzM3D/////////fP5mZmZmZmeE/MzMzMzMz4z/NzMzMzMzkP2dmZmZmZuY/AQAAAAAA6D+bmZmZmZnpPzUzMzMzM+s/z8zMzMzM7D9pZmZmZmbuPwEAAAAAAPA/zszMzMzM8D+bmZmZmZnxP2hmZmZmZvI/NTMzMzMz8z8CAAAAAAD0P8/MzMzMzPQ/nJmZmZmZ9T9pZmZmZmb2PzYzMzMzM/c/AwAAAAAA+D/QzMzMzMz4P52ZmZmZmfk/amZmZmZm+j83MzMzMzP7PwQAAAAAAPw/0czMzMzM/D+emZmZmZn9P2tmZmZmZv4/ODMzMzMz/z8CAAAAAAAAQGhmZmZmZgBAzszMzMzMAEA0MzMzMzMBQJqZmZmZmQFAAAAAAAAAAkBmZmZmZmYCQMzMzMzMzAJAMjMzMzMzA0CYmZmZmZkDQP7//////wNAZGZmZmZmBEDKzMzMzMwEQDAzMzMzMwVAlpmZmZmZBUD8//////8FQGJmZmZmZgZAyMzMzMzMBkAuMzMzMzMHQJSZmZmZmQdA+v//////B0BgZmZmZmYIQMbMzMzMzAhALDMzMzMzCUCSmZmZmZkJQPj//////wlAXmZmZmZmCkDEzMzMzMwKQCozMzMzMwtAkJmZmZmZC0D2//////8LQFxmZmZmZgxAwszMzMzMDEAoMzMzMzMNQI6ZmZmZmQ1A9P//////DUBaZmZmZmYOQMDMzMzMzA5AJjMzMzMzD0CMmZmZmZkPQPL//////w9ALDMzMzMzEEBfZmZmZmYQQJKZmZmZmRBAxczMzMzMEED4//////8QQCszMzMzMxFAXmZmZmZmEUCRmZmZmZkRQMTMzMzMzBFA9///////EUAqMzMzMzMSQF1mZmZmZhJAkJmZmZmZEkDDzMzMzMwSQPb//////xJAKTMzMzMzE0BcZmZmZmYTQI+ZmZmZmRNAwszMzMzME0A=\"},\"shape\":[100],\"dtype\":\"float64\",\"order\":\"little\"}],[\"y\",{\"type\":\"ndarray\",\"array\":{\"type\":\"bytes\",\"data\":\"AAAAAAAAAMAAAAAAAAAAwAAAAAAAAADAAAAAAAAAAMAAAACASH/+vwAAACDqlvW/AAAAAItc7L8AAAAg10jjvwAAAOBN39u/AAAA4FPX1L8AAACA3x3PvwAAAKDvU8a/AAAAQLAdvb8AAAAA0d+tvwAAAABo3ny/AAAAAOnhpD8AAACAIuS1PwAAAGCvTcA/AAAAgKZRxT8AAADgWgPKPwAAAKDCZ84/AAAAALpB0T8AAADAbi3TPwAAAEAH+dQ/AAAAAIOm1j8AAABAujfYPwAAAIBurtk/AAAAoEgM2z8AAACg3VLcPwAAAOCmg90/AAAAgAug3j8AAACgV6nfPwAAAGBmUOA/AAAA4MrD4D8AAABAYi/hPwAAAOCyk+E/AAAAYDXx4T8AAAAAXkjiPwAAAICameI/AAAAQEzl4j8AAAAg1ivjPwAAAOCObeM/AAAAYMmq4z8AAAAg1ePjPwAAAOD3GOQ/AAAA4HRK5D8AAABAjnjkPwAAAMB+o+Q/AAAAAHvL5D8AAABAt/DkPwAAAGBlE+U/AAAAoLAz5T8AAABAw1HlPwAAAIDCbeU/AAAAgNSH5T8AAABgGaDlPwAAAMCztuU/AAAAoL7L5T8AAABAV9/lPwAAAGCT8eU/AAAAQI4C5j8AAACAXBLmPwAAAIAUIeY/AAAAgMcu5j8AAADAiDvmPwAAAABpR+Y/AAAAoHZS5j8AAACAwFzmPwAAAMBTZuY/AAAAgD5v5j8AAABAi3fmPwAAACBFf+Y/AAAAIHaG5j8AAADAKI3mPwAAAOBjk+Y/AAAA4C+Z5j8AAACAlp7mPwAAAECco+Y/AAAAgEuo5j8AAAAApazmPwAAAOCxsOY/AAAAoHi05j8AAADg+rfmPwAAACBBu+Y/AAAAIEu+5j8AAADAH8HmPwAAAODCw+Y/AAAAoDbG5j8AAADgfsjmPwAAAECgyuY/AAAA4JrM5j8AAACAcc7mPwAAAMAo0OY/AAAAAMDR5j8AAABAPdPmPwAAACCg1OY/AAAAYOfV5j8AAADAGtfmPwAAAGA32OY/AAAAAEPZ5j8=\"},\"shape\":[100],\"dtype\":\"float64\",\"order\":\"little\"}]]}}},\"view\":{\"type\":\"object\",\"name\":\"CDSView\",\"id\":\"p1040\",\"attributes\":{\"filter\":{\"type\":\"object\",\"name\":\"AllIndices\",\"id\":\"p1041\"}}},\"glyph\":{\"type\":\"object\",\"name\":\"Line\",\"id\":\"p1036\",\"attributes\":{\"x\":{\"type\":\"field\",\"field\":\"x\"},\"y\":{\"type\":\"field\",\"field\":\"y\"},\"line_color\":\"#1b9e77\"}},\"nonselection_glyph\":{\"type\":\"object\",\"name\":\"Line\",\"id\":\"p1037\",\"attributes\":{\"x\":{\"type\":\"field\",\"field\":\"x\"},\"y\":{\"type\":\"field\",\"field\":\"y\"},\"line_color\":\"#1b9e77\",\"line_alpha\":0.1}},\"muted_glyph\":{\"type\":\"object\",\"name\":\"Line\",\"id\":\"p1038\",\"attributes\":{\"x\":{\"type\":\"field\",\"field\":\"x\"},\"y\":{\"type\":\"field\",\"field\":\"y\"},\"line_color\":\"#1b9e77\",\"line_alpha\":0.2}}}}],\"toolbar\":{\"type\":\"object\",\"name\":\"Toolbar\",\"id\":\"p1009\",\"attributes\":{\"tools\":[{\"id\":\"p1022\"},{\"id\":\"p1023\"},{\"id\":\"p1024\"},{\"type\":\"object\",\"name\":\"SaveTool\",\"id\":\"p1030\"},{\"id\":\"p1031\"},{\"id\":\"p1032\"}]}},\"toolbar_location\":null,\"left\":[{\"type\":\"object\",\"name\":\"LinearAxis\",\"id\":\"p1017\",\"attributes\":{\"ticker\":{\"type\":\"object\",\"name\":\"BasicTicker\",\"id\":\"p1018\",\"attributes\":{\"mantissas\":[1,2,5]}},\"formatter\":{\"type\":\"object\",\"name\":\"BasicTickFormatter\",\"id\":\"p1019\"},\"major_label_policy\":{\"type\":\"object\",\"name\":\"AllLabels\",\"id\":\"p1020\"}}}],\"below\":[{\"type\":\"object\",\"name\":\"LinearAxis\",\"id\":\"p1012\",\"attributes\":{\"ticker\":{\"type\":\"object\",\"name\":\"BasicTicker\",\"id\":\"p1013\",\"attributes\":{\"mantissas\":[1,2,5]}},\"formatter\":{\"type\":\"object\",\"name\":\"BasicTickFormatter\",\"id\":\"p1014\"},\"major_label_policy\":{\"type\":\"object\",\"name\":\"AllLabels\",\"id\":\"p1015\"}}}],\"center\":[{\"type\":\"object\",\"name\":\"Grid\",\"id\":\"p1016\",\"attributes\":{\"axis\":{\"id\":\"p1012\"}}},{\"type\":\"object\",\"name\":\"Grid\",\"id\":\"p1021\",\"attributes\":{\"dimension\":1,\"axis\":{\"id\":\"p1017\"}}},{\"type\":\"object\",\"name\":\"Legend\",\"id\":\"p1042\",\"attributes\":{\"items\":[{\"type\":\"object\",\"name\":\"LegendItem\",\"id\":\"p1043\",\"attributes\":{\"label\":{\"type\":\"value\",\"value\":\"torque\"},\"renderers\":[{\"id\":\"p1039\"}]}}]}}]}},0,0],[{\"type\":\"object\",\"name\":\"Figure\",\"id\":\"p1044\",\"attributes\":{\"height\":200,\"sizing_mode\":\"stretch_width\",\"x_range\":{\"id\":\"p1002\"},\"y_range\":{\"type\":\"object\",\"name\":\"DataRange1d\",\"id\":\"p1046\"},\"x_scale\":{\"type\":\"object\",\"name\":\"LinearScale\",\"id\":\"p1053\"},\"y_scale\":{\"type\":\"object\",\"name\":\"LinearScale\",\"id\":\"p1054\"},\"title\":{\"type\":\"object\",\"name\":\"Title\",\"id\":\"p1051\"},\"renderers\":[{\"type\":\"object\",\"name\":\"GlyphRenderer\",\"id\":\"p1082\",\"attributes\":{\"data_source\":{\"type\":\"object\",\"name\":\"ColumnDataSource\",\"id\":\"p1076\",\"attributes\":{\"selected\":{\"type\":\"object\",\"name\":\"Selection\",\"id\":\"p1077\",\"attributes\":{\"indices\":[],\"line_indices\":[]}},\"selection_policy\":{\"type\":\"object\",\"name\":\"UnionRenderers\",\"id\":\"p1078\"},\"data\":{\"type\":\"map\",\"entries\":[[\"x\",{\"type\":\"ndarray\",\"array\":{\"type\":\"bytes\",\"data\":\"AAAAAAAAAACamZmZmZmpP5qZmZmZmbk/NDMzMzMzwz+amZmZmZnJPwAAAAAAANA/MzMzMzMz0z9mZmZmZmbWP5mZmZmZmdk/zMzMzMzM3D/////////fP5mZmZmZmeE/MzMzMzMz4z/NzMzMzMzkP2dmZmZmZuY/AQAAAAAA6D+bmZmZmZnpPzUzMzMzM+s/z8zMzMzM7D9pZmZmZmbuPwEAAAAAAPA/zszMzMzM8D+bmZmZmZnxP2hmZmZmZvI/NTMzMzMz8z8CAAAAAAD0P8/MzMzMzPQ/nJmZmZmZ9T9pZmZmZmb2PzYzMzMzM/c/AwAAAAAA+D/QzMzMzMz4P52ZmZmZmfk/amZmZmZm+j83MzMzMzP7PwQAAAAAAPw/0czMzMzM/D+emZmZmZn9P2tmZmZmZv4/ODMzMzMz/z8CAAAAAAAAQGhmZmZmZgBAzszMzMzMAEA0MzMzMzMBQJqZmZmZmQFAAAAAAAAAAkBmZmZmZmYCQMzMzMzMzAJAMjMzMzMzA0CYmZmZmZkDQP7//////wNAZGZmZmZmBEDKzMzMzMwEQDAzMzMzMwVAlpmZmZmZBUD8//////8FQGJmZmZmZgZAyMzMzMzMBkAuMzMzMzMHQJSZmZmZmQdA+v//////B0BgZmZmZmYIQMbMzMzMzAhALDMzMzMzCUCSmZmZmZkJQPj//////wlAXmZmZmZmCkDEzMzMzMwKQCozMzMzMwtAkJmZmZmZC0D2//////8LQFxmZmZmZgxAwszMzMzMDEAoMzMzMzMNQI6ZmZmZmQ1A9P//////DUBaZmZmZmYOQMDMzMzMzA5AJjMzMzMzD0CMmZmZmZkPQPL//////w9ALDMzMzMzEEBfZmZmZmYQQJKZmZmZmRBAxczMzMzMEED4//////8QQCszMzMzMxFAXmZmZmZmEUCRmZmZmZkRQMTMzMzMzBFA9///////EUAqMzMzMzMSQF1mZmZmZhJAkJmZmZmZEkDDzMzMzMwSQPb//////xJAKTMzMzMzE0BcZmZmZmYTQI+ZmZmZmRNAwszMzMzME0A=\"},\"shape\":[100],\"dtype\":\"float64\",\"order\":\"little\"}],[\"y\",{\"type\":\"ndarray\",\"array\":{\"type\":\"bytes\",\"data\":\"AAAAgGnp7z8AAABgDtHvPwAAAMD9u+8/AAAAICiv7z8AAABg8azvPwAAAODytO8/AAAAIMDB7z8AAAAgMc/vPwAAAEBX2+8/AAAAIJPl7z8AAAAA1e3vPwAAAEBB9O8/AAAAoAz57z8AAACgbfzvPwAAAOCX/u8/AAAA4Ln/7z8AAABg/f/vPwAAAGCH/+8/AAAAQHj+7z8AAAAg7PzvPwAAAMD7+u8/AAAAgLz47z8AAACgQPbvPwAAAACY8+8/AAAAANDw7z8AAAAA9O3vPwAAAKAN6+8/AAAAwCTo7z8AAABAQOXvPwAAAGBl4u8/AAAAgJjf7z8AAABA3dzvPwAAAGA22u8/AAAAwKXX7z8AAAAgLdXvPwAAAGDN0u8/AAAAIIfQ7z8AAADgWs7vPwAAAIBIzO8/AAAA4E/K7z8AAACgcMjvPwAAACCqxu8/AAAA4PvE7z8AAAAAZcPvPwAAAMDkwe8/AAAAYHrA7z8AAADAJL/vPwAAAEDjve8/AAAAwLS87z8AAACAmLvvPwAAAICNuu8/AAAA4JK57z8AAADAp7jvPwAAAGDLt+8/AAAA4Py27z8AAACAO7bvPwAAAICGte8/AAAAIN207z8AAACgPrTvPwAAAICqs+8/AAAAACCz7z8AAACgnrLvPwAAAMAlsu8/AAAA4LSx7z8AAACAS7HvPwAAACDpsO8/AAAAQI2w7z8AAACAN7DvPwAAAKDnr+8/AAAAAJ2v7z8AAACAV6/vPwAAAKAWr+8/AAAAINqu7z8AAADAoa7vPwAAACBtru8/AAAAIDyu7z8AAACADq7vPwAAAADkre8/AAAAQLyt7z8AAABgl63vPwAAAAB1re8/AAAA4FSt7z8AAAAAN63vPwAAACAbre8/AAAAQAGt7z8AAAAg6azvPwAAAKDSrO8/AAAAwL2s7z8AAABAqqzvPwAAAACYrO8/AAAAIIes7z8AAABgd6zvPwAAAMBorO8/AAAAIFus7z8AAABgTqzvPwAAAIBCrO8/AAAAgDes7z8AAABALazvPwAAAMAjrO8/AAAAwBqs7z8=\"},\"shape\":[100],\"dtype\":\"float64\",\"order\":\"little\"}]]}}},\"view\":{\"type\":\"object\",\"name\":\"CDSView\",\"id\":\"p1083\",\"attributes\":{\"filter\":{\"type\":\"object\",\"name\":\"AllIndices\",\"id\":\"p1084\"}}},\"glyph\":{\"type\":\"object\",\"name\":\"Line\",\"id\":\"p1079\",\"attributes\":{\"x\":{\"type\":\"field\",\"field\":\"x\"},\"y\":{\"type\":\"field\",\"field\":\"y\"},\"line_color\":\"#d95f02\"}},\"nonselection_glyph\":{\"type\":\"object\",\"name\":\"Line\",\"id\":\"p1080\",\"attributes\":{\"x\":{\"type\":\"field\",\"field\":\"x\"},\"y\":{\"type\":\"field\",\"field\":\"y\"},\"line_color\":\"#d95f02\",\"line_alpha\":0.1}},\"muted_glyph\":{\"type\":\"object\",\"name\":\"Line\",\"id\":\"p1081\",\"attributes\":{\"x\":{\"type\":\"field\",\"field\":\"x\"},\"y\":{\"type\":\"field\",\"field\":\"y\"},\"line_color\":\"#d95f02\",\"line_alpha\":0.2}}}}],\"toolbar\":{\"type\":\"object\",\"name\":\"Toolbar\",\"id\":\"p1052\",\"attributes\":{\"tools\":[{\"id\":\"p1065\"},{\"id\":\"p1066\"},{\"id\":\"p1067\"},{\"type\":\"object\",\"name\":\"SaveTool\",\"id\":\"p1073\"},{\"id\":\"p1074\"},{\"id\":\"p1075\"}]}},\"toolbar_location\":null,\"left\":[{\"type\":\"object\",\"name\":\"LinearAxis\",\"id\":\"p1060\",\"attributes\":{\"ticker\":{\"type\":\"object\",\"name\":\"BasicTicker\",\"id\":\"p1061\",\"attributes\":{\"mantissas\":[1,2,5]}},\"formatter\":{\"type\":\"object\",\"name\":\"BasicTickFormatter\",\"id\":\"p1062\"},\"major_label_policy\":{\"type\":\"object\",\"name\":\"AllLabels\",\"id\":\"p1063\"}}}],\"below\":[{\"type\":\"object\",\"name\":\"LinearAxis\",\"id\":\"p1055\",\"attributes\":{\"ticker\":{\"type\":\"object\",\"name\":\"BasicTicker\",\"id\":\"p1056\",\"attributes\":{\"mantissas\":[1,2,5]}},\"formatter\":{\"type\":\"object\",\"name\":\"BasicTickFormatter\",\"id\":\"p1057\"},\"major_label_policy\":{\"type\":\"object\",\"name\":\"AllLabels\",\"id\":\"p1058\"}}}],\"center\":[{\"type\":\"object\",\"name\":\"Grid\",\"id\":\"p1059\",\"attributes\":{\"axis\":{\"id\":\"p1055\"}}},{\"type\":\"object\",\"name\":\"Grid\",\"id\":\"p1064\",\"attributes\":{\"dimension\":1,\"axis\":{\"id\":\"p1060\"}}},{\"type\":\"object\",\"name\":\"Legend\",\"id\":\"p1085\",\"attributes\":{\"items\":[{\"type\":\"object\",\"name\":\"LegendItem\",\"id\":\"p1086\",\"attributes\":{\"label\":{\"type\":\"value\",\"value\":\"cos_theta\"},\"renderers\":[{\"id\":\"p1082\"}]}}]}}]}},1,0],[{\"type\":\"object\",\"name\":\"Figure\",\"id\":\"p1087\",\"attributes\":{\"height\":200,\"sizing_mode\":\"stretch_width\",\"x_range\":{\"id\":\"p1002\"},\"y_range\":{\"type\":\"object\",\"name\":\"DataRange1d\",\"id\":\"p1089\"},\"x_scale\":{\"type\":\"object\",\"name\":\"LinearScale\",\"id\":\"p1096\"},\"y_scale\":{\"type\":\"object\",\"name\":\"LinearScale\",\"id\":\"p1097\"},\"title\":{\"type\":\"object\",\"name\":\"Title\",\"id\":\"p1094\"},\"renderers\":[{\"type\":\"object\",\"name\":\"GlyphRenderer\",\"id\":\"p1125\",\"attributes\":{\"data_source\":{\"type\":\"object\",\"name\":\"ColumnDataSource\",\"id\":\"p1119\",\"attributes\":{\"selected\":{\"type\":\"object\",\"name\":\"Selection\",\"id\":\"p1120\",\"attributes\":{\"indices\":[],\"line_indices\":[]}},\"selection_policy\":{\"type\":\"object\",\"name\":\"UnionRenderers\",\"id\":\"p1121\"},\"data\":{\"type\":\"map\",\"entries\":[[\"x\",{\"type\":\"ndarray\",\"array\":{\"type\":\"bytes\",\"data\":\"AAAAAAAAAACamZmZmZmpP5qZmZmZmbk/NDMzMzMzwz+amZmZmZnJPwAAAAAAANA/MzMzMzMz0z9mZmZmZmbWP5mZmZmZmdk/zMzMzMzM3D/////////fP5mZmZmZmeE/MzMzMzMz4z/NzMzMzMzkP2dmZmZmZuY/AQAAAAAA6D+bmZmZmZnpPzUzMzMzM+s/z8zMzMzM7D9pZmZmZmbuPwEAAAAAAPA/zszMzMzM8D+bmZmZmZnxP2hmZmZmZvI/NTMzMzMz8z8CAAAAAAD0P8/MzMzMzPQ/nJmZmZmZ9T9pZmZmZmb2PzYzMzMzM/c/AwAAAAAA+D/QzMzMzMz4P52ZmZmZmfk/amZmZmZm+j83MzMzMzP7PwQAAAAAAPw/0czMzMzM/D+emZmZmZn9P2tmZmZmZv4/ODMzMzMz/z8CAAAAAAAAQGhmZmZmZgBAzszMzMzMAEA0MzMzMzMBQJqZmZmZmQFAAAAAAAAAAkBmZmZmZmYCQMzMzMzMzAJAMjMzMzMzA0CYmZmZmZkDQP7//////wNAZGZmZmZmBEDKzMzMzMwEQDAzMzMzMwVAlpmZmZmZBUD8//////8FQGJmZmZmZgZAyMzMzMzMBkAuMzMzMzMHQJSZmZmZmQdA+v//////B0BgZmZmZmYIQMbMzMzMzAhALDMzMzMzCUCSmZmZmZkJQPj//////wlAXmZmZmZmCkDEzMzMzMwKQCozMzMzMwtAkJmZmZmZC0D2//////8LQFxmZmZmZgxAwszMzMzMDEAoMzMzMzMNQI6ZmZmZmQ1A9P//////DUBaZmZmZmYOQMDMzMzMzA5AJjMzMzMzD0CMmZmZmZkPQPL//////w9ALDMzMzMzEEBfZmZmZmYQQJKZmZmZmRBAxczMzMzMEED4//////8QQCszMzMzMxFAXmZmZmZmEUCRmZmZmZkRQMTMzMzMzBFA9///////EUAqMzMzMzMSQF1mZmZmZhJAkJmZmZmZEkDDzMzMzMwSQPb//////xJAKTMzMzMzE0BcZmZmZmYTQI+ZmZmZmRNAwszMzMzME0A=\"},\"shape\":[100],\"dtype\":\"float64\",\"order\":\"little\"}],[\"y\",{\"type\":\"ndarray\",\"array\":{\"type\":\"bytes\",\"data\":\"AAAAYF//sj8AAAAA7l27PwAAAMCPdcA/AAAAACzwwT8AAADATi7CPwAAAKBmScE/AAAAINh/vz8AAACARue7PwAAAEARMbg/AAAAgKqLtD8AAAAgSQqxPwAAAIA8aKs/AAAAYEIWpT8AAAAgGTyePwAAAIAh+pI/AAAAoMm/gD8AAADg0Z9ZvwAAACAv9oW/AAAAgPvKk78AAABgGhGcvwAAAIBb6qG/AAAAIG6Opb8AAADAK/iovwAAAODZKqy/AAAAYJwpr78AAAAguvuwvwAAAACgS7K/AAAAgN2Fs78AAACAv6u0vwAAAACCvrW/AAAAgFC/tr8AAACgRq+3vwAAAABxj7i/AAAAAM1gub8AAADgSSS6vwAAACDJ2rq/AAAAQB+Fu78AAABAFCS8vwAAAGBkuLy/AAAAIMBCvb8AAADAzcO9vwAAACApPL6/AAAAgGSsvr8AAAAACRW/vwAAAACXdr+/AAAA4IbRv78AAADAJBPAvwAAAECkOsC/AAAAIHNfwL8AAACgv4HAvwAAAAC1ocC/AAAAYHu/wL8AAACgONvAvwAAAAAQ9cC/AAAAICINwb8AAAAAjiPBvwAAAEBwOMG/AAAAgONLwb8AAADgAF7BvwAAAKDfbsG/AAAAYJV+wb8AAACgNo3BvwAAACDWmsG/AAAAoIWnwb8AAABgVbPBvwAAAOBUvsG/AAAAYJLIwb8AAAAgG9LBvwAAAKD72sG/AAAAQD/jwb8AAAAA8erBvwAAAOAa8sG/AAAAIMb4wb8AAACA+/7BvwAAAADDBMK/AAAAYCQKwr8AAACgJg/CvwAAAEDQE8K/AAAAgCcYwr8AAADgMRzCvwAAAMD0H8K/AAAAAHUjwr8AAABgtybCvwAAACDAKcK/AAAAAJMswr8AAAAANC/CvwAAAGCmMcK/AAAAgO0zwr8AAABADDbCvwAAAIAFOMK/AAAAwNs5wr8AAACAkTvCvwAAAAApPcK/AAAAQKQ+wr8AAABABUDCvwAAAOBNQcK/AAAAoH9Cwr8AAABgnEPCvwAAAGClRMK/AAAAIJxFwr8=\"},\"shape\":[100],\"dtype\":\"float64\",\"order\":\"little\"}]]}}},\"view\":{\"type\":\"object\",\"name\":\"CDSView\",\"id\":\"p1126\",\"attributes\":{\"filter\":{\"type\":\"object\",\"name\":\"AllIndices\",\"id\":\"p1127\"}}},\"glyph\":{\"type\":\"object\",\"name\":\"Line\",\"id\":\"p1122\",\"attributes\":{\"x\":{\"type\":\"field\",\"field\":\"x\"},\"y\":{\"type\":\"field\",\"field\":\"y\"},\"line_color\":\"#7570b3\"}},\"nonselection_glyph\":{\"type\":\"object\",\"name\":\"Line\",\"id\":\"p1123\",\"attributes\":{\"x\":{\"type\":\"field\",\"field\":\"x\"},\"y\":{\"type\":\"field\",\"field\":\"y\"},\"line_color\":\"#7570b3\",\"line_alpha\":0.1}},\"muted_glyph\":{\"type\":\"object\",\"name\":\"Line\",\"id\":\"p1124\",\"attributes\":{\"x\":{\"type\":\"field\",\"field\":\"x\"},\"y\":{\"type\":\"field\",\"field\":\"y\"},\"line_color\":\"#7570b3\",\"line_alpha\":0.2}}}},{\"type\":\"object\",\"name\":\"GlyphRenderer\",\"id\":\"p1136\",\"attributes\":{\"data_source\":{\"type\":\"object\",\"name\":\"ColumnDataSource\",\"id\":\"p1130\",\"attributes\":{\"selected\":{\"type\":\"object\",\"name\":\"Selection\",\"id\":\"p1131\",\"attributes\":{\"indices\":[],\"line_indices\":[]}},\"selection_policy\":{\"type\":\"object\",\"name\":\"UnionRenderers\",\"id\":\"p1132\"},\"data\":{\"type\":\"map\",\"entries\":[[\"x\",{\"type\":\"ndarray\",\"array\":{\"type\":\"bytes\",\"data\":\"AAAAAAAAAACamZmZmZmpP5qZmZmZmbk/NDMzMzMzwz+amZmZmZnJPwAAAAAAANA/MzMzMzMz0z9mZmZmZmbWP5mZmZmZmdk/zMzMzMzM3D/////////fP5mZmZmZmeE/MzMzMzMz4z/NzMzMzMzkP2dmZmZmZuY/AQAAAAAA6D+bmZmZmZnpPzUzMzMzM+s/z8zMzMzM7D9pZmZmZmbuPwEAAAAAAPA/zszMzMzM8D+bmZmZmZnxP2hmZmZmZvI/NTMzMzMz8z8CAAAAAAD0P8/MzMzMzPQ/nJmZmZmZ9T9pZmZmZmb2PzYzMzMzM/c/AwAAAAAA+D/QzMzMzMz4P52ZmZmZmfk/amZmZmZm+j83MzMzMzP7PwQAAAAAAPw/0czMzMzM/D+emZmZmZn9P2tmZmZmZv4/ODMzMzMz/z8CAAAAAAAAQGhmZmZmZgBAzszMzMzMAEA0MzMzMzMBQJqZmZmZmQFAAAAAAAAAAkBmZmZmZmYCQMzMzMzMzAJAMjMzMzMzA0CYmZmZmZkDQP7//////wNAZGZmZmZmBEDKzMzMzMwEQDAzMzMzMwVAlpmZmZmZBUD8//////8FQGJmZmZmZgZAyMzMzMzMBkAuMzMzMzMHQJSZmZmZmQdA+v//////B0BgZmZmZmYIQMbMzMzMzAhALDMzMzMzCUCSmZmZmZkJQPj//////wlAXmZmZmZmCkDEzMzMzMwKQCozMzMzMwtAkJmZmZmZC0D2//////8LQFxmZmZmZgxAwszMzMzMDEAoMzMzMzMNQI6ZmZmZmQ1A9P//////DUBaZmZmZmYOQMDMzMzMzA5AJjMzMzMzD0CMmZmZmZkPQPL//////w9ALDMzMzMzEEBfZmZmZmYQQJKZmZmZmRBAxczMzMzMEED4//////8QQCszMzMzMxFAXmZmZmZmEUCRmZmZmZkRQMTMzMzMzBFA9///////EUAqMzMzMzMSQF1mZmZmZhJAkJmZmZmZEkDDzMzMzMwSQPb//////xJAKTMzMzMzE0BcZmZmZmYTQI+ZmZmZmRNAwszMzMzME0A=\"},\"shape\":[100],\"dtype\":\"float64\",\"order\":\"little\"}],[\"y\",{\"type\":\"ndarray\",\"array\":{\"type\":\"bytes\",\"data\":\"AAAAoGXU7D8AAAAAvQLlPwAAAIDj89s/AAAAYIzZzT8AAACgG52jPwAAAGC7DsK/AAAAoPr/zr8AAACALhrSvwAAAKDep9K/AAAAAPdM0r8AAACgE5PRvwAAAMCWttC/AAAAAAajz78AAABg4N3NvwAAAAAJJ8y/AAAAYDqCyr8AAABAxPDIvwAAAIDkcse/AAAAQGEIxr8AAAAAw7DEvwAAAEB2a8O/AAAAANc3wr8AAABAOhXBvwAAACDuAsC/AAAAIIMAvr8AAABgAhm8vwAAAMD3Tbq/AAAAIAeeuL8AAABA2we3vwAAAAAmirW/AAAAQKMjtL8AAADAGNOyvwAAAEBZl7G/AAAA4D9vsL8AAAAgZrOuvwAAAIBPq6y/AAAAQDbEqr8AAADgMfyovwAAAMBuUae/AAAAACzCpb8AAABgyEykvwAAAECu76K/AAAA4GGpob8AAADAe3igvwAAAIBGt56/AAAAgDKjnL8AAAAAY7KavwAAACCV4pi/AAAA4Kcxl78AAADgpZ2VvwAAAEC0JJS/AAAAgAvFkr8AAACABn2RvwAAAMAXS5C/AAAAgKNbjr8AAACAq0eMvwAAAEDGV4q/AAAAQH6JiL8AAADgm9qGvwAAAID6SIW/AAAAwLvSg78AAADgAHaCvwAAAIAYMYG/AAAAoF0CgL8AAACAsdB9vwAAAMA+w3u/AAAAoLvZeb8AAAAgwxF4vwAAAGASaXa/AAAAAJTddL8AAADAOW1zvwAAAAAuFnK/AAAAYLbWcL8AAAAAclpvvwAAAGBHMG2/AAAAYEQsa78AAABA6ktpvwAAAMCWjGe/AAAAoDXsZb8AAADgSWhkvwAAAMBI/2K/AAAAIEmvYb8AAAAgVnZgvwAAAIAupl6/AAAA4HiHXL8AAABAeI5avwAAAEBwuFi/AAAAAMcCV78AAACgc2tVvwAAAMBj8FO/AAAAgC6PUr8AAABAV0ZRvwAAAKB1FFC/AAAAIDHvTb8AAAAgjd1LvwAAAMDv70m/AAAAoNkjSL8AAADgyXhGvwAAAADT6kS/AAAAANZ4Q78=\"},\"shape\":[100],\"dtype\":\"float64\",\"order\":\"little\"}]]}}},\"view\":{\"type\":\"object\",\"name\":\"CDSView\",\"id\":\"p1137\",\"attributes\":{\"filter\":{\"type\":\"object\",\"name\":\"AllIndices\",\"id\":\"p1138\"}}},\"glyph\":{\"type\":\"object\",\"name\":\"Line\",\"id\":\"p1133\",\"attributes\":{\"x\":{\"type\":\"field\",\"field\":\"x\"},\"y\":{\"type\":\"field\",\"field\":\"y\"},\"line_color\":\"#e7298a\"}},\"nonselection_glyph\":{\"type\":\"object\",\"name\":\"Line\",\"id\":\"p1134\",\"attributes\":{\"x\":{\"type\":\"field\",\"field\":\"x\"},\"y\":{\"type\":\"field\",\"field\":\"y\"},\"line_color\":\"#e7298a\",\"line_alpha\":0.1}},\"muted_glyph\":{\"type\":\"object\",\"name\":\"Line\",\"id\":\"p1135\",\"attributes\":{\"x\":{\"type\":\"field\",\"field\":\"x\"},\"y\":{\"type\":\"field\",\"field\":\"y\"},\"line_color\":\"#e7298a\",\"line_alpha\":0.2}}}}],\"toolbar\":{\"type\":\"object\",\"name\":\"Toolbar\",\"id\":\"p1095\",\"attributes\":{\"tools\":[{\"id\":\"p1108\"},{\"id\":\"p1109\"},{\"id\":\"p1110\"},{\"type\":\"object\",\"name\":\"SaveTool\",\"id\":\"p1116\"},{\"id\":\"p1117\"},{\"id\":\"p1118\"}]}},\"toolbar_location\":null,\"left\":[{\"type\":\"object\",\"name\":\"LinearAxis\",\"id\":\"p1103\",\"attributes\":{\"ticker\":{\"type\":\"object\",\"name\":\"BasicTicker\",\"id\":\"p1104\",\"attributes\":{\"mantissas\":[1,2,5]}},\"formatter\":{\"type\":\"object\",\"name\":\"BasicTickFormatter\",\"id\":\"p1105\"},\"major_label_policy\":{\"type\":\"object\",\"name\":\"AllLabels\",\"id\":\"p1106\"}}}],\"below\":[{\"type\":\"object\",\"name\":\"LinearAxis\",\"id\":\"p1098\",\"attributes\":{\"ticker\":{\"type\":\"object\",\"name\":\"BasicTicker\",\"id\":\"p1099\",\"attributes\":{\"mantissas\":[1,2,5]}},\"formatter\":{\"type\":\"object\",\"name\":\"BasicTickFormatter\",\"id\":\"p1100\"},\"major_label_policy\":{\"type\":\"object\",\"name\":\"AllLabels\",\"id\":\"p1101\"}}}],\"center\":[{\"type\":\"object\",\"name\":\"Grid\",\"id\":\"p1102\",\"attributes\":{\"axis\":{\"id\":\"p1098\"}}},{\"type\":\"object\",\"name\":\"Grid\",\"id\":\"p1107\",\"attributes\":{\"dimension\":1,\"axis\":{\"id\":\"p1103\"}}},{\"type\":\"object\",\"name\":\"Legend\",\"id\":\"p1128\",\"attributes\":{\"items\":[{\"type\":\"object\",\"name\":\"LegendItem\",\"id\":\"p1129\",\"attributes\":{\"label\":{\"type\":\"value\",\"value\":\"sin_theta\"},\"renderers\":[{\"id\":\"p1125\"}]}},{\"type\":\"object\",\"name\":\"LegendItem\",\"id\":\"p1139\",\"attributes\":{\"label\":{\"type\":\"value\",\"value\":\"theta_dot\"},\"renderers\":[{\"id\":\"p1136\"}]}}]}}]}},2,0],[{\"type\":\"object\",\"name\":\"Figure\",\"id\":\"p1140\",\"attributes\":{\"height\":200,\"sizing_mode\":\"stretch_width\",\"x_range\":{\"id\":\"p1002\"},\"y_range\":{\"type\":\"object\",\"name\":\"DataRange1d\",\"id\":\"p1142\"},\"x_scale\":{\"type\":\"object\",\"name\":\"LinearScale\",\"id\":\"p1149\"},\"y_scale\":{\"type\":\"object\",\"name\":\"LinearScale\",\"id\":\"p1150\"},\"title\":{\"type\":\"object\",\"name\":\"Title\",\"id\":\"p1147\"},\"renderers\":[{\"type\":\"object\",\"name\":\"GlyphRenderer\",\"id\":\"p1178\",\"attributes\":{\"data_source\":{\"type\":\"object\",\"name\":\"ColumnDataSource\",\"id\":\"p1172\",\"attributes\":{\"selected\":{\"type\":\"object\",\"name\":\"Selection\",\"id\":\"p1173\",\"attributes\":{\"indices\":[],\"line_indices\":[]}},\"selection_policy\":{\"type\":\"object\",\"name\":\"UnionRenderers\",\"id\":\"p1174\"},\"data\":{\"type\":\"map\",\"entries\":[[\"x\",{\"type\":\"ndarray\",\"array\":{\"type\":\"bytes\",\"data\":\"AAAAAAAAAACamZmZmZmpP5qZmZmZmbk/NDMzMzMzwz+amZmZmZnJPwAAAAAAANA/MzMzMzMz0z9mZmZmZmbWP5mZmZmZmdk/zMzMzMzM3D/////////fP5mZmZmZmeE/MzMzMzMz4z/NzMzMzMzkP2dmZmZmZuY/AQAAAAAA6D+bmZmZmZnpPzUzMzMzM+s/z8zMzMzM7D9pZmZmZmbuPwEAAAAAAPA/zszMzMzM8D+bmZmZmZnxP2hmZmZmZvI/NTMzMzMz8z8CAAAAAAD0P8/MzMzMzPQ/nJmZmZmZ9T9pZmZmZmb2PzYzMzMzM/c/AwAAAAAA+D/QzMzMzMz4P52ZmZmZmfk/amZmZmZm+j83MzMzMzP7PwQAAAAAAPw/0czMzMzM/D+emZmZmZn9P2tmZmZmZv4/ODMzMzMz/z8CAAAAAAAAQGhmZmZmZgBAzszMzMzMAEA0MzMzMzMBQJqZmZmZmQFAAAAAAAAAAkBmZmZmZmYCQMzMzMzMzAJAMjMzMzMzA0CYmZmZmZkDQP7//////wNAZGZmZmZmBEDKzMzMzMwEQDAzMzMzMwVAlpmZmZmZBUD8//////8FQGJmZmZmZgZAyMzMzMzMBkAuMzMzMzMHQJSZmZmZmQdA+v//////B0BgZmZmZmYIQMbMzMzMzAhALDMzMzMzCUCSmZmZmZkJQPj//////wlAXmZmZmZmCkDEzMzMzMwKQCozMzMzMwtAkJmZmZmZC0D2//////8LQFxmZmZmZgxAwszMzMzMDEAoMzMzMzMNQI6ZmZmZmQ1A9P//////DUBaZmZmZmYOQMDMzMzMzA5AJjMzMzMzD0CMmZmZmZkPQPL//////w9ALDMzMzMzEEBfZmZmZmYQQJKZmZmZmRBAxczMzMzMEED4//////8QQCszMzMzMxFAXmZmZmZmEUCRmZmZmZkRQMTMzMzMzBFA9///////EUAqMzMzMzMSQF1mZmZmZhJAkJmZmZmZEkDDzMzMzMwSQPb//////xJAKTMzMzMzE0BcZmZmZmYTQI+ZmZmZmRNAwszMzMzME0A=\"},\"shape\":[100],\"dtype\":\"float64\",\"order\":\"little\"}],[\"y\",{\"type\":\"ndarray\",\"array\":{\"type\":\"bytes\",\"data\":\"NTPpshM3t79CuXAcev6tv9ABIcXqU6S/i7n637Ponb87Trx5iquYvyouYBSpsZa/1p8aII1klr98VG8eQMeUv8i6VlEaEZK/X2x69roujr+ZyWHa0aaIv+yF+lsm54O/5ogN8HEDgL9qfoWQ5+J5v7W7m/OeOHW/mDmadTvZcb/sUhcebS5vv6BZLYI4kWy/VN/JxnCPa7/jKRaxIOZrv7lGFjpTWm2/W+VCIWi4b7/EYsFztGlxv9wvI2spQnO/mGX6ysBUdb8RVpzHBZN3vzTKgauf8Hm/gxrX8xFjfL/xY6Nig+F+vyH7MYhEsoC/6r0Mw/zygb9HKebzYDCDv8fklpFhaIS/wPVlQFeZhb+oy4FX9MGGv18Nrkg54Ye/NQsMe2f2iL8EYV7P+ACKv3FiUEiWAIu/mtLavQ/1i78qXrwcV96Mv0biLIF4vI2/pwBFiZaPjr+8iXTq5VePvzsf2nHUCpC/XenAnZZkkL9BcFLIZLmQv5JSMQdtCZG/HbspZd9Ukb87Xyt/7ZuRv63Z2aHJ3pG/pHkP66Udkr/Avoo4tFiSvyTNIYolkJK/l2CaGCrEkr//QKGi8PSSv6TjJMWmIpO/ZqsWJnhNk7/T9JgBj3WTv6aq9n8Tm5O/n0Vgiiy+k79QUIDy/t6Tv8f2vvet/ZO/GlZx2VoalL+t65FXJTWUvwkORGwrTpS/A8MbWolllL/8vhvvWXuUvwKsl2+2j5S/2Cbmy7ailL9Q25xdcbSUv9Gqnz/7xJS/na+EQ2jUlL/JTYYWy+KUv7uKrA018JS/SMskk7b8lL9GsyQuXwiVv8vEjR49E5W/BP+9G14dlb96DlVoziaVv9uRchKaL5W/Bo4DQMw3lb8sxqcNbz+Vv+G8EF6MRpW/hWai5yxNlb/gsIRJWVOVv/tvFGoZWZW/UtQWjXRelb/j+p2ccWOVvxj5ZhkXaJW/13GVyGpslb+nNCI9cnCVv1SjKdIydJW/CNtLN7F3lb83H7Q08nqVv59uW9P5fZW/fK70y8uAlb/hsXo0bIOVv9pHejTehZW/V7r3OSWIlb8=\"},\"shape\":[100],\"dtype\":\"float64\",\"order\":\"little\"}]]}}},\"view\":{\"type\":\"object\",\"name\":\"CDSView\",\"id\":\"p1179\",\"attributes\":{\"filter\":{\"type\":\"object\",\"name\":\"AllIndices\",\"id\":\"p1180\"}}},\"glyph\":{\"type\":\"object\",\"name\":\"Line\",\"id\":\"p1175\",\"attributes\":{\"x\":{\"type\":\"field\",\"field\":\"x\"},\"y\":{\"type\":\"field\",\"field\":\"y\"},\"line_color\":\"#66a61e\"}},\"nonselection_glyph\":{\"type\":\"object\",\"name\":\"Line\",\"id\":\"p1176\",\"attributes\":{\"x\":{\"type\":\"field\",\"field\":\"x\"},\"y\":{\"type\":\"field\",\"field\":\"y\"},\"line_color\":\"#66a61e\",\"line_alpha\":0.1}},\"muted_glyph\":{\"type\":\"object\",\"name\":\"Line\",\"id\":\"p1177\",\"attributes\":{\"x\":{\"type\":\"field\",\"field\":\"x\"},\"y\":{\"type\":\"field\",\"field\":\"y\"},\"line_color\":\"#66a61e\",\"line_alpha\":0.2}}}}],\"toolbar\":{\"type\":\"object\",\"name\":\"Toolbar\",\"id\":\"p1148\",\"attributes\":{\"tools\":[{\"id\":\"p1161\"},{\"id\":\"p1162\"},{\"id\":\"p1163\"},{\"type\":\"object\",\"name\":\"SaveTool\",\"id\":\"p1169\"},{\"id\":\"p1170\"},{\"id\":\"p1171\"}]}},\"toolbar_location\":null,\"left\":[{\"type\":\"object\",\"name\":\"LinearAxis\",\"id\":\"p1156\",\"attributes\":{\"ticker\":{\"type\":\"object\",\"name\":\"BasicTicker\",\"id\":\"p1157\",\"attributes\":{\"mantissas\":[1,2,5]}},\"formatter\":{\"type\":\"object\",\"name\":\"BasicTickFormatter\",\"id\":\"p1158\"},\"major_label_policy\":{\"type\":\"object\",\"name\":\"AllLabels\",\"id\":\"p1159\"}}}],\"below\":[{\"type\":\"object\",\"name\":\"LinearAxis\",\"id\":\"p1151\",\"attributes\":{\"ticker\":{\"type\":\"object\",\"name\":\"BasicTicker\",\"id\":\"p1152\",\"attributes\":{\"mantissas\":[1,2,5]}},\"formatter\":{\"type\":\"object\",\"name\":\"BasicTickFormatter\",\"id\":\"p1153\"},\"major_label_policy\":{\"type\":\"object\",\"name\":\"AllLabels\",\"id\":\"p1154\"}}}],\"center\":[{\"type\":\"object\",\"name\":\"Grid\",\"id\":\"p1155\",\"attributes\":{\"axis\":{\"id\":\"p1151\"}}},{\"type\":\"object\",\"name\":\"Grid\",\"id\":\"p1160\",\"attributes\":{\"dimension\":1,\"axis\":{\"id\":\"p1156\"}}},{\"type\":\"object\",\"name\":\"Legend\",\"id\":\"p1181\",\"attributes\":{\"items\":[{\"type\":\"object\",\"name\":\"LegendItem\",\"id\":\"p1182\",\"attributes\":{\"label\":{\"type\":\"value\",\"value\":\"reward\"},\"renderers\":[{\"id\":\"p1178\"}]}}]}}]}},3,0]]}}]}};\n  const render_items = [{\"docid\":\"82f6ed02-7bc3-47dd-9ffd-e44b6078a635\",\"roots\":{\"p1190\":\"bfc4d681-d8c1-498b-bac6-2948235def57\"},\"root_ids\":[\"p1190\"]}];\n  void root.Bokeh.embed.embed_items_notebook(docs_json, render_items);\n  }\n  if (root.Bokeh !== undefined) {\n    embed_document(root);\n  } else {\n    let attempts = 0;\n    const timer = setInterval(function(root) {\n      if (root.Bokeh !== undefined) {\n        clearInterval(timer);\n        embed_document(root);\n      } else {\n        attempts++;\n        if (attempts > 100) {\n          clearInterval(timer);\n          console.log(\"Bokeh: ERROR: Unable to run BokehJS code because BokehJS library is missing\");\n        }\n      }\n    }, 10, root)\n  }\n})(window);",
      "application/vnd.bokehjs_exec.v0+json": ""
     },
     "metadata": {
      "application/vnd.bokehjs_exec.v0+json": {
       "id": "p1190"
      }
     },
     "output_type": "display_data"
    }
   ],
   "source": [
    "\n",
    "lay_str = \"\"\"\n",
    "torque, \n",
    "cos_theta,\n",
    "sin_theta, theta_dot, \n",
    "reward\n",
    "\"\"\"\n",
    "\n",
    "T.set_current_trace(1)\n",
    "fig, status = T.get_fig(lay_str)\n",
    "print(status)\n",
    "show(fig)"
   ]
  },
  {
   "cell_type": "code",
   "execution_count": 14,
   "metadata": {
    "metadata": {}
   },
   "outputs": [],
   "source": [
    "stl_string = T.get_signal_string()+\"\"\" \n",
    "mu := reward[t] > -0.005 \n",
    "phi := ev_[0,100] mu\n",
    "\"\"\"\n",
    "T.specs = stl_string"
   ]
  },
  {
   "cell_type": "code",
   "execution_count": 15,
   "metadata": {
    "metadata": {}
   },
   "outputs": [
    {
     "name": "stdout",
     "output_type": "stream",
     "text": [
      "Plot ok.\n"
     ]
    },
    {
     "name": "stderr",
     "output_type": "stream",
     "text": [
      "/home/alex/Dropbox/workspace/decyphir/Det-ai/rlrom/rlrom/testers.py:172: FutureWarning: The behavior of DataFrame concatenation with empty or all-NA entries is deprecated. In a future version, this will no longer exclude empty or all-NA columns when determining the result dtypes. To retain the old behavior, exclude the relevant entries before the concat operation.\n",
      "  df_rob = pd.concat([df_rob, new_record])\n",
      "/home/alex/Dropbox/workspace/decyphir/Det-ai/rlrom/rlrom/testers.py:172: FutureWarning: The behavior of DataFrame concatenation with empty or all-NA entries is deprecated. In a future version, this will no longer exclude empty or all-NA columns when determining the result dtypes. To retain the old behavior, exclude the relevant entries before the concat operation.\n",
      "  df_rob = pd.concat([df_rob, new_record])\n"
     ]
    },
    {
     "data": {
      "text/html": [
       "\n",
       "  <div id=\"d4ea5a2d-6abf-48eb-afaa-f58fb591e355\" data-root-id=\"p1416\" style=\"display: contents;\"></div>\n"
      ]
     },
     "metadata": {},
     "output_type": "display_data"
    },
    {
     "data": {
      "application/javascript": "(function(root) {\n  function embed_document(root) {\n  const docs_json = {\"82c4ed61-f624-4f10-aaf9-48c32eed8508\":{\"version\":\"3.4.1\",\"title\":\"Bokeh Application\",\"roots\":[{\"type\":\"object\",\"name\":\"GridPlot\",\"id\":\"p1416\",\"attributes\":{\"rows\":null,\"cols\":null,\"sizing_mode\":\"stretch_width\",\"toolbar\":{\"type\":\"object\",\"name\":\"Toolbar\",\"id\":\"p1415\",\"attributes\":{\"tools\":[{\"type\":\"object\",\"name\":\"ToolProxy\",\"id\":\"p1409\",\"attributes\":{\"tools\":[{\"type\":\"object\",\"name\":\"PanTool\",\"id\":\"p1334\"},{\"type\":\"object\",\"name\":\"PanTool\",\"id\":\"p1377\"}]}},{\"type\":\"object\",\"name\":\"ToolProxy\",\"id\":\"p1410\",\"attributes\":{\"tools\":[{\"type\":\"object\",\"name\":\"WheelZoomTool\",\"id\":\"p1335\",\"attributes\":{\"renderers\":\"auto\"}},{\"type\":\"object\",\"name\":\"WheelZoomTool\",\"id\":\"p1378\",\"attributes\":{\"renderers\":\"auto\"}}]}},{\"type\":\"object\",\"name\":\"ToolProxy\",\"id\":\"p1411\",\"attributes\":{\"tools\":[{\"type\":\"object\",\"name\":\"BoxZoomTool\",\"id\":\"p1336\",\"attributes\":{\"overlay\":{\"type\":\"object\",\"name\":\"BoxAnnotation\",\"id\":\"p1337\",\"attributes\":{\"syncable\":false,\"level\":\"overlay\",\"visible\":false,\"left\":{\"type\":\"number\",\"value\":\"nan\"},\"right\":{\"type\":\"number\",\"value\":\"nan\"},\"top\":{\"type\":\"number\",\"value\":\"nan\"},\"bottom\":{\"type\":\"number\",\"value\":\"nan\"},\"left_units\":\"canvas\",\"right_units\":\"canvas\",\"top_units\":\"canvas\",\"bottom_units\":\"canvas\",\"line_color\":\"black\",\"line_alpha\":1.0,\"line_width\":2,\"line_dash\":[4,4],\"fill_color\":\"lightgrey\",\"fill_alpha\":0.5}}}},{\"type\":\"object\",\"name\":\"BoxZoomTool\",\"id\":\"p1379\",\"attributes\":{\"overlay\":{\"type\":\"object\",\"name\":\"BoxAnnotation\",\"id\":\"p1380\",\"attributes\":{\"syncable\":false,\"level\":\"overlay\",\"visible\":false,\"left\":{\"type\":\"number\",\"value\":\"nan\"},\"right\":{\"type\":\"number\",\"value\":\"nan\"},\"top\":{\"type\":\"number\",\"value\":\"nan\"},\"bottom\":{\"type\":\"number\",\"value\":\"nan\"},\"left_units\":\"canvas\",\"right_units\":\"canvas\",\"top_units\":\"canvas\",\"bottom_units\":\"canvas\",\"line_color\":\"black\",\"line_alpha\":1.0,\"line_width\":2,\"line_dash\":[4,4],\"fill_color\":\"lightgrey\",\"fill_alpha\":0.5}}}}]}},{\"type\":\"object\",\"name\":\"SaveTool\",\"id\":\"p1412\"},{\"type\":\"object\",\"name\":\"ToolProxy\",\"id\":\"p1413\",\"attributes\":{\"tools\":[{\"type\":\"object\",\"name\":\"ResetTool\",\"id\":\"p1343\"},{\"type\":\"object\",\"name\":\"ResetTool\",\"id\":\"p1386\"}]}},{\"type\":\"object\",\"name\":\"ToolProxy\",\"id\":\"p1414\",\"attributes\":{\"tools\":[{\"type\":\"object\",\"name\":\"HelpTool\",\"id\":\"p1344\"},{\"type\":\"object\",\"name\":\"HelpTool\",\"id\":\"p1387\"}]}}]}},\"children\":[[{\"type\":\"object\",\"name\":\"Figure\",\"id\":\"p1313\",\"attributes\":{\"height\":200,\"sizing_mode\":\"stretch_width\",\"x_range\":{\"type\":\"object\",\"name\":\"DataRange1d\",\"id\":\"p1314\"},\"y_range\":{\"type\":\"object\",\"name\":\"DataRange1d\",\"id\":\"p1315\"},\"x_scale\":{\"type\":\"object\",\"name\":\"LinearScale\",\"id\":\"p1322\"},\"y_scale\":{\"type\":\"object\",\"name\":\"LinearScale\",\"id\":\"p1323\"},\"title\":{\"type\":\"object\",\"name\":\"Title\",\"id\":\"p1320\"},\"renderers\":[{\"type\":\"object\",\"name\":\"GlyphRenderer\",\"id\":\"p1351\",\"attributes\":{\"data_source\":{\"type\":\"object\",\"name\":\"ColumnDataSource\",\"id\":\"p1345\",\"attributes\":{\"selected\":{\"type\":\"object\",\"name\":\"Selection\",\"id\":\"p1346\",\"attributes\":{\"indices\":[],\"line_indices\":[]}},\"selection_policy\":{\"type\":\"object\",\"name\":\"UnionRenderers\",\"id\":\"p1347\"},\"data\":{\"type\":\"map\",\"entries\":[[\"x\",{\"type\":\"ndarray\",\"array\":{\"type\":\"bytes\",\"data\":\"AAAAAAAAAACamZmZmZmpP5qZmZmZmbk/NDMzMzMzwz+amZmZmZnJPwAAAAAAANA/MzMzMzMz0z9mZmZmZmbWP5mZmZmZmdk/zMzMzMzM3D/////////fP5mZmZmZmeE/MzMzMzMz4z/NzMzMzMzkP2dmZmZmZuY/AQAAAAAA6D+bmZmZmZnpPzUzMzMzM+s/z8zMzMzM7D9pZmZmZmbuPwEAAAAAAPA/zszMzMzM8D+bmZmZmZnxP2hmZmZmZvI/NTMzMzMz8z8CAAAAAAD0P8/MzMzMzPQ/nJmZmZmZ9T9pZmZmZmb2PzYzMzMzM/c/AwAAAAAA+D/QzMzMzMz4P52ZmZmZmfk/amZmZmZm+j83MzMzMzP7PwQAAAAAAPw/0czMzMzM/D+emZmZmZn9P2tmZmZmZv4/ODMzMzMz/z8CAAAAAAAAQGhmZmZmZgBAzszMzMzMAEA0MzMzMzMBQJqZmZmZmQFAAAAAAAAAAkBmZmZmZmYCQMzMzMzMzAJAMjMzMzMzA0CYmZmZmZkDQP7//////wNAZGZmZmZmBEDKzMzMzMwEQDAzMzMzMwVAlpmZmZmZBUD8//////8FQGJmZmZmZgZAyMzMzMzMBkAuMzMzMzMHQJSZmZmZmQdA+v//////B0BgZmZmZmYIQMbMzMzMzAhALDMzMzMzCUCSmZmZmZkJQPj//////wlAXmZmZmZmCkDEzMzMzMwKQCozMzMzMwtAkJmZmZmZC0D2//////8LQFxmZmZmZgxAwszMzMzMDEAoMzMzMzMNQI6ZmZmZmQ1A9P//////DUBaZmZmZmYOQMDMzMzMzA5AJjMzMzMzD0CMmZmZmZkPQPL//////w9ALDMzMzMzEEBfZmZmZmYQQJKZmZmZmRBAxczMzMzMEED4//////8QQCszMzMzMxFAXmZmZmZmEUCRmZmZmZkRQMTMzMzMzBFA9///////EUAqMzMzMzMSQF1mZmZmZhJAkJmZmZmZEkDDzMzMzMwSQPb//////xJAKTMzMzMzE0BcZmZmZmYTQI+ZmZmZmRNAwszMzMzME0A=\"},\"shape\":[100],\"dtype\":\"float64\",\"order\":\"little\"}],[\"y\",{\"type\":\"ndarray\",\"array\":{\"type\":\"bytes\",\"data\":\"NTPpshM3t79CuXAcev6tv9ABIcXqU6S/i7n637Ponb87Trx5iquYvyouYBSpsZa/1p8aII1klr98VG8eQMeUv8i6VlEaEZK/X2x69roujr+ZyWHa0aaIv+yF+lsm54O/5ogN8HEDgL9qfoWQ5+J5v7W7m/OeOHW/mDmadTvZcb/sUhcebS5vv6BZLYI4kWy/VN/JxnCPa7/jKRaxIOZrv7lGFjpTWm2/W+VCIWi4b7/EYsFztGlxv9wvI2spQnO/mGX6ysBUdb8RVpzHBZN3vzTKgauf8Hm/gxrX8xFjfL/xY6Nig+F+vyH7MYhEsoC/6r0Mw/zygb9HKebzYDCDv8fklpFhaIS/wPVlQFeZhb+oy4FX9MGGv18Nrkg54Ye/NQsMe2f2iL8EYV7P+ACKv3FiUEiWAIu/mtLavQ/1i78qXrwcV96Mv0biLIF4vI2/pwBFiZaPjr+8iXTq5VePvzsf2nHUCpC/XenAnZZkkL9BcFLIZLmQv5JSMQdtCZG/HbspZd9Ukb87Xyt/7ZuRv63Z2aHJ3pG/pHkP66Udkr/Avoo4tFiSvyTNIYolkJK/l2CaGCrEkr//QKGi8PSSv6TjJMWmIpO/ZqsWJnhNk7/T9JgBj3WTv6aq9n8Tm5O/n0Vgiiy+k79QUIDy/t6Tv8f2vvet/ZO/GlZx2VoalL+t65FXJTWUvwkORGwrTpS/A8MbWolllL/8vhvvWXuUvwKsl2+2j5S/2Cbmy7ailL9Q25xdcbSUv9Gqnz/7xJS/na+EQ2jUlL/JTYYWy+KUv7uKrA018JS/SMskk7b8lL9GsyQuXwiVv8vEjR49E5W/BP+9G14dlb96DlVoziaVv9uRchKaL5W/Bo4DQMw3lb8sxqcNbz+Vv+G8EF6MRpW/hWai5yxNlb/gsIRJWVOVv/tvFGoZWZW/UtQWjXRelb/j+p2ccWOVvxj5ZhkXaJW/13GVyGpslb+nNCI9cnCVv1SjKdIydJW/CNtLN7F3lb83H7Q08nqVv59uW9P5fZW/fK70y8uAlb/hsXo0bIOVv9pHejTehZW/V7r3OSWIlb8=\"},\"shape\":[100],\"dtype\":\"float64\",\"order\":\"little\"}]]}}},\"view\":{\"type\":\"object\",\"name\":\"CDSView\",\"id\":\"p1352\",\"attributes\":{\"filter\":{\"type\":\"object\",\"name\":\"AllIndices\",\"id\":\"p1353\"}}},\"glyph\":{\"type\":\"object\",\"name\":\"Line\",\"id\":\"p1348\",\"attributes\":{\"x\":{\"type\":\"field\",\"field\":\"x\"},\"y\":{\"type\":\"field\",\"field\":\"y\"},\"line_color\":\"#1b9e77\"}},\"nonselection_glyph\":{\"type\":\"object\",\"name\":\"Line\",\"id\":\"p1349\",\"attributes\":{\"x\":{\"type\":\"field\",\"field\":\"x\"},\"y\":{\"type\":\"field\",\"field\":\"y\"},\"line_color\":\"#1b9e77\",\"line_alpha\":0.1}},\"muted_glyph\":{\"type\":\"object\",\"name\":\"Line\",\"id\":\"p1350\",\"attributes\":{\"x\":{\"type\":\"field\",\"field\":\"x\"},\"y\":{\"type\":\"field\",\"field\":\"y\"},\"line_color\":\"#1b9e77\",\"line_alpha\":0.2}}}}],\"toolbar\":{\"type\":\"object\",\"name\":\"Toolbar\",\"id\":\"p1321\",\"attributes\":{\"tools\":[{\"id\":\"p1334\"},{\"id\":\"p1335\"},{\"id\":\"p1336\"},{\"type\":\"object\",\"name\":\"SaveTool\",\"id\":\"p1342\"},{\"id\":\"p1343\"},{\"id\":\"p1344\"}]}},\"toolbar_location\":null,\"left\":[{\"type\":\"object\",\"name\":\"LinearAxis\",\"id\":\"p1329\",\"attributes\":{\"ticker\":{\"type\":\"object\",\"name\":\"BasicTicker\",\"id\":\"p1330\",\"attributes\":{\"mantissas\":[1,2,5]}},\"formatter\":{\"type\":\"object\",\"name\":\"BasicTickFormatter\",\"id\":\"p1331\"},\"major_label_policy\":{\"type\":\"object\",\"name\":\"AllLabels\",\"id\":\"p1332\"}}}],\"below\":[{\"type\":\"object\",\"name\":\"LinearAxis\",\"id\":\"p1324\",\"attributes\":{\"ticker\":{\"type\":\"object\",\"name\":\"BasicTicker\",\"id\":\"p1325\",\"attributes\":{\"mantissas\":[1,2,5]}},\"formatter\":{\"type\":\"object\",\"name\":\"BasicTickFormatter\",\"id\":\"p1326\"},\"major_label_policy\":{\"type\":\"object\",\"name\":\"AllLabels\",\"id\":\"p1327\"}}}],\"center\":[{\"type\":\"object\",\"name\":\"Grid\",\"id\":\"p1328\",\"attributes\":{\"axis\":{\"id\":\"p1324\"}}},{\"type\":\"object\",\"name\":\"Grid\",\"id\":\"p1333\",\"attributes\":{\"dimension\":1,\"axis\":{\"id\":\"p1329\"}}},{\"type\":\"object\",\"name\":\"Legend\",\"id\":\"p1354\",\"attributes\":{\"items\":[{\"type\":\"object\",\"name\":\"LegendItem\",\"id\":\"p1355\",\"attributes\":{\"label\":{\"type\":\"value\",\"value\":\"reward\"},\"renderers\":[{\"id\":\"p1351\"}]}}]}}]}},0,0],[{\"type\":\"object\",\"name\":\"Figure\",\"id\":\"p1356\",\"attributes\":{\"height\":200,\"sizing_mode\":\"stretch_width\",\"x_range\":{\"id\":\"p1314\"},\"y_range\":{\"type\":\"object\",\"name\":\"DataRange1d\",\"id\":\"p1358\"},\"x_scale\":{\"type\":\"object\",\"name\":\"LinearScale\",\"id\":\"p1365\"},\"y_scale\":{\"type\":\"object\",\"name\":\"LinearScale\",\"id\":\"p1366\"},\"title\":{\"type\":\"object\",\"name\":\"Title\",\"id\":\"p1363\"},\"renderers\":[{\"type\":\"object\",\"name\":\"GlyphRenderer\",\"id\":\"p1394\",\"attributes\":{\"data_source\":{\"type\":\"object\",\"name\":\"ColumnDataSource\",\"id\":\"p1388\",\"attributes\":{\"selected\":{\"type\":\"object\",\"name\":\"Selection\",\"id\":\"p1389\",\"attributes\":{\"indices\":[],\"line_indices\":[]}},\"selection_policy\":{\"type\":\"object\",\"name\":\"UnionRenderers\",\"id\":\"p1390\"},\"data\":{\"type\":\"map\",\"entries\":[[\"x\",{\"type\":\"ndarray\",\"array\":{\"type\":\"bytes\",\"data\":\"AAAAAAAAAACamZmZmZmpP5qZmZmZmbk/NDMzMzMzwz+amZmZmZnJPwAAAAAAANA/MzMzMzMz0z9mZmZmZmbWP5mZmZmZmdk/zMzMzMzM3D/////////fP5mZmZmZmeE/MzMzMzMz4z/NzMzMzMzkP2dmZmZmZuY/AQAAAAAA6D+bmZmZmZnpPzUzMzMzM+s/z8zMzMzM7D9pZmZmZmbuPwEAAAAAAPA/zszMzMzM8D+bmZmZmZnxP2hmZmZmZvI/NTMzMzMz8z8CAAAAAAD0P8/MzMzMzPQ/nJmZmZmZ9T9pZmZmZmb2PzYzMzMzM/c/AwAAAAAA+D/QzMzMzMz4P52ZmZmZmfk/amZmZmZm+j83MzMzMzP7PwQAAAAAAPw/0czMzMzM/D+emZmZmZn9P2tmZmZmZv4/ODMzMzMz/z8CAAAAAAAAQGhmZmZmZgBAzszMzMzMAEA0MzMzMzMBQJqZmZmZmQFAAAAAAAAAAkBmZmZmZmYCQMzMzMzMzAJAMjMzMzMzA0CYmZmZmZkDQP7//////wNAZGZmZmZmBEDKzMzMzMwEQDAzMzMzMwVAlpmZmZmZBUD8//////8FQGJmZmZmZgZAyMzMzMzMBkAuMzMzMzMHQJSZmZmZmQdA+v//////B0BgZmZmZmYIQMbMzMzMzAhALDMzMzMzCUCSmZmZmZkJQPj//////wlAXmZmZmZmCkDEzMzMzMwKQCozMzMzMwtAkJmZmZmZC0D2//////8LQFxmZmZmZgxAwszMzMzMDEAoMzMzMzMNQI6ZmZmZmQ1A9P//////DUBaZmZmZmYOQMDMzMzMzA5AJjMzMzMzD0CMmZmZmZkPQPL//////w9ALDMzMzMzEEBfZmZmZmYQQJKZmZmZmRBAxczMzMzMEED4//////8QQCszMzMzMxFAXmZmZmZmEUCRmZmZmZkRQMTMzMzMzBFA9///////EUAqMzMzMzMSQF1mZmZmZhJAkJmZmZmZEkDDzMzMzMwSQPb//////xJAKTMzMzMzE0BcZmZmZmYTQI+ZmZmZmRNAwszMzMzME0A=\"},\"shape\":[100],\"dtype\":\"float64\",\"order\":\"little\"}],[\"y\",{\"type\":\"ndarray\",\"array\":{\"type\":\"bytes\",\"data\":\"AAAAAAAAAAAAAAAAAAAAAAAAAAAAAAAAAAAAAAAAAAAAAAAAAAAAAAAAAAAAAAAAAAAAAAAAAAAAAAAAAAAAAAAAAAAAAAAAAAAAAAAAAAAAAAAAAAAAAAAAAAAAAAAAAAAAAAAAAAAAAAAAAAAAAAAAAAAAAAAAAAAAAAAA8D8AAAAAAADwPwAAAAAAAPA/AAAAAAAA8D8AAAAAAADwPwAAAAAAAPA/AAAAAAAA8D8AAAAAAADwPwAAAAAAAPA/AAAAAAAAAAAAAAAAAAAAAAAAAAAAAAAAAAAAAAAAAAAAAAAAAAAAAAAAAAAAAAAAAAAAAAAAAAAAAAAAAAAAAAAAAAAAAAAAAAAAAAAAAAAAAAAAAAAAAAAAAAAAAAAAAAAAAAAAAAAAAAAAAAAAAAAAAAAAAAAAAAAAAAAAAAAAAAAAAAAAAAAAAAAAAAAAAAAAAAAAAAAAAAAAAAAAAAAAAAAAAAAAAAAAAAAAAAAAAAAAAAAAAAAAAAAAAAAAAAAAAAAAAAAAAAAAAAAAAAAAAAAAAAAAAAAAAAAAAAAAAAAAAAAAAAAAAAAAAAAAAAAAAAAAAAAAAAAAAAAAAAAAAAAAAAAAAAAAAAAAAAAAAAAAAAAAAAAAAAAAAAAAAAAAAAAAAAAAAAAAAAAAAAAAAAAAAAAAAAAAAAAAAAAAAAAAAAAAAAAAAAAAAAAAAAAAAAAAAAAAAAAAAAAAAAAAAAAAAAAAAAAAAAAAAAAAAAAAAAAAAAAAAAAAAAAAAAAAAAAAAAAAAAAAAAAAAAAAAAAAAAAAAAAAAAAAAAAAAAAAAAAAAAAAAAAAAAAAAAAAAAAAAAAAAAAAAAAAAAAAAAAAAAAAAAAAAAAAAAAAAAAAAAAAAAAAAAAAAAAAAAAAAAAAAAAAAAAAAAAAAAAAAAAAAAAAAAAAAAAAAAAAAAAAAAAAAAAAAAAAAAAAAAAAAAAAAAAAAAAAAAAAAAAAAAAAAAAAAAAAAAAAAAAAAAAAAAAAAAAAAAAAAAAAAAAAAAAAAAAAAAAAAAAAAAAAAAAAAAAAAAAAAAAAAAA=\"},\"shape\":[100],\"dtype\":\"float64\",\"order\":\"little\"}]]}}},\"view\":{\"type\":\"object\",\"name\":\"CDSView\",\"id\":\"p1395\",\"attributes\":{\"filter\":{\"type\":\"object\",\"name\":\"AllIndices\",\"id\":\"p1396\"}}},\"glyph\":{\"type\":\"object\",\"name\":\"Line\",\"id\":\"p1391\",\"attributes\":{\"x\":{\"type\":\"field\",\"field\":\"x\"},\"y\":{\"type\":\"field\",\"field\":\"y\"},\"line_color\":\"#d95f02\"}},\"nonselection_glyph\":{\"type\":\"object\",\"name\":\"Line\",\"id\":\"p1392\",\"attributes\":{\"x\":{\"type\":\"field\",\"field\":\"x\"},\"y\":{\"type\":\"field\",\"field\":\"y\"},\"line_color\":\"#d95f02\",\"line_alpha\":0.1}},\"muted_glyph\":{\"type\":\"object\",\"name\":\"Line\",\"id\":\"p1393\",\"attributes\":{\"x\":{\"type\":\"field\",\"field\":\"x\"},\"y\":{\"type\":\"field\",\"field\":\"y\"},\"line_color\":\"#d95f02\",\"line_alpha\":0.2}}}},{\"type\":\"object\",\"name\":\"GlyphRenderer\",\"id\":\"p1405\",\"attributes\":{\"data_source\":{\"type\":\"object\",\"name\":\"ColumnDataSource\",\"id\":\"p1399\",\"attributes\":{\"selected\":{\"type\":\"object\",\"name\":\"Selection\",\"id\":\"p1400\",\"attributes\":{\"indices\":[],\"line_indices\":[]}},\"selection_policy\":{\"type\":\"object\",\"name\":\"UnionRenderers\",\"id\":\"p1401\"},\"data\":{\"type\":\"map\",\"entries\":[[\"x\",{\"type\":\"ndarray\",\"array\":{\"type\":\"bytes\",\"data\":\"AAAAAAAAAACamZmZmZmpP5qZmZmZmbk/NDMzMzMzwz+amZmZmZnJPwAAAAAAANA/MzMzMzMz0z9mZmZmZmbWP5mZmZmZmdk/zMzMzMzM3D/////////fP5mZmZmZmeE/MzMzMzMz4z/NzMzMzMzkP2dmZmZmZuY/AQAAAAAA6D+bmZmZmZnpPzUzMzMzM+s/z8zMzMzM7D9pZmZmZmbuPwEAAAAAAPA/zszMzMzM8D+bmZmZmZnxP2hmZmZmZvI/NTMzMzMz8z8CAAAAAAD0P8/MzMzMzPQ/nJmZmZmZ9T9pZmZmZmb2PzYzMzMzM/c/AwAAAAAA+D/QzMzMzMz4P52ZmZmZmfk/amZmZmZm+j83MzMzMzP7PwQAAAAAAPw/0czMzMzM/D+emZmZmZn9P2tmZmZmZv4/ODMzMzMz/z8CAAAAAAAAQGhmZmZmZgBAzszMzMzMAEA0MzMzMzMBQJqZmZmZmQFAAAAAAAAAAkBmZmZmZmYCQMzMzMzMzAJAMjMzMzMzA0CYmZmZmZkDQP7//////wNAZGZmZmZmBEDKzMzMzMwEQDAzMzMzMwVAlpmZmZmZBUD8//////8FQGJmZmZmZgZAyMzMzMzMBkAuMzMzMzMHQJSZmZmZmQdA+v//////B0BgZmZmZmYIQMbMzMzMzAhALDMzMzMzCUCSmZmZmZkJQPj//////wlAXmZmZmZmCkDEzMzMzMwKQCozMzMzMwtAkJmZmZmZC0D2//////8LQFxmZmZmZgxAwszMzMzMDEAoMzMzMzMNQI6ZmZmZmQ1A9P//////DUBaZmZmZmYOQMDMzMzMzA5AJjMzMzMzD0CMmZmZmZkPQPL//////w9ALDMzMzMzEEBfZmZmZmYQQJKZmZmZmRBAxczMzMzMEED4//////8QQCszMzMzMxFAXmZmZmZmEUCRmZmZmZkRQMTMzMzMzBFA9///////EUAqMzMzMzMSQF1mZmZmZhJAkJmZmZmZEkDDzMzMzMwSQPb//////xJAKTMzMzMzE0BcZmZmZmYTQI+ZmZmZmRNAwszMzMzME0A=\"},\"shape\":[100],\"dtype\":\"float64\",\"order\":\"little\"}],[\"y\",{\"type\":\"ndarray\",\"array\":{\"type\":\"bytes\",\"data\":\"7VFunmXvtb+z9nrzHW+rv0E/K5yOxKG/bDQPjvvJmL8cydAn0oyTvwupdMLwkpG/txovztRFkb+6ngeZD1GPv1Jr1v7D5Im/ImKjUkrxg7+3fhVtwtJ8v133RnBrU3O/ovrZMAUYZ7+8p10jGaBVv0DntH21tye/GNeekC4NRT8UrIniqo5TP6yeXRoUyVg/RJMkkaPMWj8m/ou8Qx9aP3rEi6reNlc/Nocy3LR6Uj+4jWWfZolIP/BJrsh9izM/oCOKafA7K7+wDHL/I8FIv+TWTo/51lW/IBiksMKgX7/snuo1RM1kv47Da5FP02m/ss7WfDDWbr8TPh6g4OVxvxO1f9vhVXS/BdcdOc23dr/VglVnBwl5v0MGrkmRR3u/7wFqru1xfb+NrQ5XEId/vzRYeaQlw4C/XMgDGp+3gb/sU+V45qCCvwjYVd0Hf4O/avZt5SVShL9+f51GdRqFvzg03T842IW/fMiql7yLhr9E1s3sWDWHv+aai2pp1Ye//Gt8Jk5siL84tH9aavqIvxyp3J8igIm/CulHMtv9ib9Ccz7N93OKvwqQbHDa4oq/8LZdjeNKi7/Ad2uhcKyLvwq9cubcB4y/jkxWqH9djL9o31pfra2Mvw5LFly2+Iy/AIHpcOg+jb9ililBjYCNv1DjpkvrvY2/9qELD0X3jb8czUwL2iyOv9QRsTTmXo6/yHtgEKKNjr+6c2A6Q7mOv8ZNWDv84Y6/ckP18/wHj79irGIXciuPv2RLaNuFTI+//FQy419rj79UkTWJJYiPvzgLgnf5oo+/Uoxygvy7j79OXHK4TdOPv1h/RJkJ6Y+/yvOkk0v9j79biWkWFgiQv7wMh8DhEJC/5wgY7hMZkL8NQby7tiCQv8I3JQzUJ5C/ZuG2lXQukL/BK5n3oDSQv9zqKBhhOpC/M08rO7w/kL/EdbJKuUSQv/lze8deSZC/uOypdrJNkL+IrzbruVGQvzUePoB6VZC/6VVg5fhYkL8YmsjiOVyQv4Dpb4FBX5C/XSkJehNikL/CLI/is2SQv7vCjuIlZ5C/ODUM6GxpkL8=\"},\"shape\":[100],\"dtype\":\"float64\",\"order\":\"little\"}]]}}},\"view\":{\"type\":\"object\",\"name\":\"CDSView\",\"id\":\"p1406\",\"attributes\":{\"filter\":{\"type\":\"object\",\"name\":\"AllIndices\",\"id\":\"p1407\"}}},\"glyph\":{\"type\":\"object\",\"name\":\"Line\",\"id\":\"p1402\",\"attributes\":{\"x\":{\"type\":\"field\",\"field\":\"x\"},\"y\":{\"type\":\"field\",\"field\":\"y\"},\"line_color\":\"#7570b3\"}},\"nonselection_glyph\":{\"type\":\"object\",\"name\":\"Line\",\"id\":\"p1403\",\"attributes\":{\"x\":{\"type\":\"field\",\"field\":\"x\"},\"y\":{\"type\":\"field\",\"field\":\"y\"},\"line_color\":\"#7570b3\",\"line_alpha\":0.1}},\"muted_glyph\":{\"type\":\"object\",\"name\":\"Line\",\"id\":\"p1404\",\"attributes\":{\"x\":{\"type\":\"field\",\"field\":\"x\"},\"y\":{\"type\":\"field\",\"field\":\"y\"},\"line_color\":\"#7570b3\",\"line_alpha\":0.2}}}}],\"toolbar\":{\"type\":\"object\",\"name\":\"Toolbar\",\"id\":\"p1364\",\"attributes\":{\"tools\":[{\"id\":\"p1377\"},{\"id\":\"p1378\"},{\"id\":\"p1379\"},{\"type\":\"object\",\"name\":\"SaveTool\",\"id\":\"p1385\"},{\"id\":\"p1386\"},{\"id\":\"p1387\"}]}},\"toolbar_location\":null,\"left\":[{\"type\":\"object\",\"name\":\"LinearAxis\",\"id\":\"p1372\",\"attributes\":{\"ticker\":{\"type\":\"object\",\"name\":\"BasicTicker\",\"id\":\"p1373\",\"attributes\":{\"mantissas\":[1,2,5]}},\"formatter\":{\"type\":\"object\",\"name\":\"BasicTickFormatter\",\"id\":\"p1374\"},\"major_label_policy\":{\"type\":\"object\",\"name\":\"AllLabels\",\"id\":\"p1375\"}}}],\"below\":[{\"type\":\"object\",\"name\":\"LinearAxis\",\"id\":\"p1367\",\"attributes\":{\"ticker\":{\"type\":\"object\",\"name\":\"BasicTicker\",\"id\":\"p1368\",\"attributes\":{\"mantissas\":[1,2,5]}},\"formatter\":{\"type\":\"object\",\"name\":\"BasicTickFormatter\",\"id\":\"p1369\"},\"major_label_policy\":{\"type\":\"object\",\"name\":\"AllLabels\",\"id\":\"p1370\"}}}],\"center\":[{\"type\":\"object\",\"name\":\"Grid\",\"id\":\"p1371\",\"attributes\":{\"axis\":{\"id\":\"p1367\"}}},{\"type\":\"object\",\"name\":\"Grid\",\"id\":\"p1376\",\"attributes\":{\"dimension\":1,\"axis\":{\"id\":\"p1372\"}}},{\"type\":\"object\",\"name\":\"Legend\",\"id\":\"p1397\",\"attributes\":{\"items\":[{\"type\":\"object\",\"name\":\"LegendItem\",\"id\":\"p1398\",\"attributes\":{\"label\":{\"type\":\"value\",\"value\":\"sat(mu)\"},\"renderers\":[{\"id\":\"p1394\"}]}},{\"type\":\"object\",\"name\":\"LegendItem\",\"id\":\"p1408\",\"attributes\":{\"label\":{\"type\":\"value\",\"value\":\"rho(mu)\"},\"renderers\":[{\"id\":\"p1405\"}]}}]}}]}},1,0]]}}]}};\n  const render_items = [{\"docid\":\"82c4ed61-f624-4f10-aaf9-48c32eed8508\",\"roots\":{\"p1416\":\"d4ea5a2d-6abf-48eb-afaa-f58fb591e355\"},\"root_ids\":[\"p1416\"]}];\n  void root.Bokeh.embed.embed_items_notebook(docs_json, render_items);\n  }\n  if (root.Bokeh !== undefined) {\n    embed_document(root);\n  } else {\n    let attempts = 0;\n    const timer = setInterval(function(root) {\n      if (root.Bokeh !== undefined) {\n        clearInterval(timer);\n        embed_document(root);\n      } else {\n        attempts++;\n        if (attempts > 100) {\n          clearInterval(timer);\n          console.log(\"Bokeh: ERROR: Unable to run BokehJS code because BokehJS library is missing\");\n        }\n      }\n    }, 10, root)\n  }\n})(window);",
      "application/vnd.bokehjs_exec.v0+json": ""
     },
     "metadata": {
      "application/vnd.bokehjs_exec.v0+json": {
       "id": "p1416"
      }
     },
     "output_type": "display_data"
    }
   ],
   "source": [
    "lay_str = \"\"\"\n",
    "reward,\n",
    "sat(mu), rho(mu)\n",
    "\"\"\"\n",
    "\n",
    "fig, status = T.get_fig(lay_str)\n",
    "print(status)\n",
    "show(fig)"
   ]
  },
  {
   "cell_type": "code",
   "execution_count": 13,
   "metadata": {
    "metadata": {}
   },
   "outputs": [
    {
     "ename": "IndexError",
     "evalue": "single positional indexer is out-of-bounds",
     "output_type": "error",
     "traceback": [
      "\u001b[0;31m---------------------------------------------------------------------------\u001b[0m",
      "\u001b[0;31mIndexError\u001b[0m                                Traceback (most recent call last)",
      "Cell \u001b[0;32mIn[13], line 3\u001b[0m\n\u001b[1;32m      1\u001b[0m \u001b[38;5;66;03m# get row i in df_signals as an array\u001b[39;00m\n\u001b[1;32m      2\u001b[0m i \u001b[38;5;241m=\u001b[39m \u001b[38;5;241m0\u001b[39m\n\u001b[0;32m----> 3\u001b[0m \u001b[38;5;28mprint\u001b[39m(\u001b[43mdf_signals\u001b[49m\u001b[38;5;241;43m.\u001b[39;49m\u001b[43miloc\u001b[49m\u001b[43m[\u001b[49m\u001b[43mi\u001b[49m\u001b[43m]\u001b[49m\u001b[38;5;241m.\u001b[39mvalues)\n",
      "File \u001b[0;32m~/.local/lib/python3.10/site-packages/pandas/core/indexing.py:1191\u001b[0m, in \u001b[0;36m_LocationIndexer.__getitem__\u001b[0;34m(self, key)\u001b[0m\n\u001b[1;32m   1189\u001b[0m maybe_callable \u001b[38;5;241m=\u001b[39m com\u001b[38;5;241m.\u001b[39mapply_if_callable(key, \u001b[38;5;28mself\u001b[39m\u001b[38;5;241m.\u001b[39mobj)\n\u001b[1;32m   1190\u001b[0m maybe_callable \u001b[38;5;241m=\u001b[39m \u001b[38;5;28mself\u001b[39m\u001b[38;5;241m.\u001b[39m_check_deprecated_callable_usage(key, maybe_callable)\n\u001b[0;32m-> 1191\u001b[0m \u001b[38;5;28;01mreturn\u001b[39;00m \u001b[38;5;28;43mself\u001b[39;49m\u001b[38;5;241;43m.\u001b[39;49m\u001b[43m_getitem_axis\u001b[49m\u001b[43m(\u001b[49m\u001b[43mmaybe_callable\u001b[49m\u001b[43m,\u001b[49m\u001b[43m \u001b[49m\u001b[43maxis\u001b[49m\u001b[38;5;241;43m=\u001b[39;49m\u001b[43maxis\u001b[49m\u001b[43m)\u001b[49m\n",
      "File \u001b[0;32m~/.local/lib/python3.10/site-packages/pandas/core/indexing.py:1752\u001b[0m, in \u001b[0;36m_iLocIndexer._getitem_axis\u001b[0;34m(self, key, axis)\u001b[0m\n\u001b[1;32m   1749\u001b[0m     \u001b[38;5;28;01mraise\u001b[39;00m \u001b[38;5;167;01mTypeError\u001b[39;00m(\u001b[38;5;124m\"\u001b[39m\u001b[38;5;124mCannot index by location index with a non-integer key\u001b[39m\u001b[38;5;124m\"\u001b[39m)\n\u001b[1;32m   1751\u001b[0m \u001b[38;5;66;03m# validate the location\u001b[39;00m\n\u001b[0;32m-> 1752\u001b[0m \u001b[38;5;28;43mself\u001b[39;49m\u001b[38;5;241;43m.\u001b[39;49m\u001b[43m_validate_integer\u001b[49m\u001b[43m(\u001b[49m\u001b[43mkey\u001b[49m\u001b[43m,\u001b[49m\u001b[43m \u001b[49m\u001b[43maxis\u001b[49m\u001b[43m)\u001b[49m\n\u001b[1;32m   1754\u001b[0m \u001b[38;5;28;01mreturn\u001b[39;00m \u001b[38;5;28mself\u001b[39m\u001b[38;5;241m.\u001b[39mobj\u001b[38;5;241m.\u001b[39m_ixs(key, axis\u001b[38;5;241m=\u001b[39maxis)\n",
      "File \u001b[0;32m~/.local/lib/python3.10/site-packages/pandas/core/indexing.py:1685\u001b[0m, in \u001b[0;36m_iLocIndexer._validate_integer\u001b[0;34m(self, key, axis)\u001b[0m\n\u001b[1;32m   1683\u001b[0m len_axis \u001b[38;5;241m=\u001b[39m \u001b[38;5;28mlen\u001b[39m(\u001b[38;5;28mself\u001b[39m\u001b[38;5;241m.\u001b[39mobj\u001b[38;5;241m.\u001b[39m_get_axis(axis))\n\u001b[1;32m   1684\u001b[0m \u001b[38;5;28;01mif\u001b[39;00m key \u001b[38;5;241m>\u001b[39m\u001b[38;5;241m=\u001b[39m len_axis \u001b[38;5;129;01mor\u001b[39;00m key \u001b[38;5;241m<\u001b[39m \u001b[38;5;241m-\u001b[39mlen_axis:\n\u001b[0;32m-> 1685\u001b[0m     \u001b[38;5;28;01mraise\u001b[39;00m \u001b[38;5;167;01mIndexError\u001b[39;00m(\u001b[38;5;124m\"\u001b[39m\u001b[38;5;124msingle positional indexer is out-of-bounds\u001b[39m\u001b[38;5;124m\"\u001b[39m)\n",
      "\u001b[0;31mIndexError\u001b[0m: single positional indexer is out-of-bounds"
     ]
    }
   ],
   "source": [
    "# get row i in df_signals as an array\n",
    "i = 0\n",
    "print(df_signals.iloc[i].values)"
   ]
  },
  {
   "cell_type": "code",
   "execution_count": null,
   "metadata": {},
   "outputs": [],
   "source": [
    "# get number of rows in df_signals\n",
    "n = len(df_signals)\n",
    "print(range(n))\n",
    "for i in range(n):\n",
    "    print(df_signals.iloc[i].values)"
   ]
  },
  {
   "cell_type": "code",
   "execution_count": null,
   "metadata": {},
   "outputs": [],
   "source": [
    "df_robs = pd.DataFrame(columns=[\"time\"] + formulas, dtype=float)\n",
    "\n",
    "# fill first row of df_robs with 0\n",
    "# df_robs.loc[0] = [0] + [0]*len(formulas)\n",
    "\n",
    "\n"
   ]
  },
  {
   "cell_type": "code",
   "execution_count": null,
   "metadata": {},
   "outputs": [],
   "source": [
    "\n",
    "for idx in range(len(df_signals)):    \n",
    "    time = df_signals[\"time\"][idx]\n",
    "    values = []\n",
    "    for idx_formula in range(len(formulas)):\n",
    "        v = stl_driver.get_online_rob(formulas[idx_formula], time)[0]\n",
    "        values.append(v)\n",
    "    df_robs.loc[idx] = [time] + values\n",
    "\n",
    "print(df_robs.head(1))"
   ]
  },
  {
   "cell_type": "code",
   "execution_count": null,
   "metadata": {},
   "outputs": [],
   "source": [
    "# check if roro is a column of df_robs\n",
    "print(\"roro\" in df_robs.columns)"
   ]
  },
  {
   "cell_type": "code",
   "execution_count": null,
   "metadata": {},
   "outputs": [],
   "source": [
    "\n",
    "for idx in range(len(df_signals)):\n",
    "    for idx_formula in range(len(formulas)):\n",
    "       print(idx_formula)\n",
    "       time = df_signals[\"time\"]\n",
    "       df_robs[\"time\"] = time\n",
    "       df_robs[formulas[idx_formula]] = stl_driver.get_online_rob(formulas[idx_formula], time)[0]"
   ]
  }
 ],
 "metadata": {
  "kernelspec": {
   "display_name": "Python 3",
   "language": "python",
   "name": "python3"
  },
  "language_info": {
   "codemirror_mode": {
    "name": "ipython",
    "version": 3
   },
   "file_extension": ".py",
   "mimetype": "text/x-python",
   "name": "python",
   "nbconvert_exporter": "python",
   "pygments_lexer": "ipython3",
   "version": "3.10.12"
  }
 },
 "nbformat": 4,
 "nbformat_minor": 2
}
