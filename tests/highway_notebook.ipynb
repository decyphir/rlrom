{
 "cells": [
  {
   "cell_type": "code",
   "execution_count": null,
   "metadata": {},
   "outputs": [],
   "source": [
    "from  train_highway_env import *\n",
    "from bokeh.io import output_notebook\n",
    "from bokeh.plotting import show\n",
    "import rlrom.plots\n",
    "output_notebook()  # Add this at the top of your notebook"
   ]
  },
  {
   "cell_type": "code",
   "execution_count": null,
   "metadata": {},
   "outputs": [],
   "source": [
    "cfg = utils.load_cfg('cfg_main.yml')    \n",
    "tester = HwEnvTester(cfg)\n",
    "#tester.run_seed(seed=0, num_steps=100)\n",
    "tester.run_seed(num_steps=100)\n"
   ]
  },
  {
   "cell_type": "code",
   "execution_count": null,
   "metadata": {},
   "outputs": [],
   "source": [
    "OBS = tester.env.episode['observations']"
   ]
  },
  {
   "cell_type": "code",
   "execution_count": null,
   "metadata": {},
   "outputs": [],
   "source": [
    "lay = \"\"\"            \n",
    "    ego_vx\n",
    "    sat(safe)\n",
    "    obs_safe_hor_0\n",
    "    \"\"\"\n",
    "fig, status=  rlrom.plots.get_fig(tester.env, lay)\n",
    "show(fig)"
   ]
  }
 ],
 "metadata": {
  "kernelspec": {
   "display_name": "Python 3",
   "language": "python",
   "name": "python3"
  },
  "language_info": {
   "codemirror_mode": {
    "name": "ipython",
    "version": 3
   },
   "file_extension": ".py",
   "mimetype": "text/x-python",
   "name": "python",
   "nbconvert_exporter": "python",
   "pygments_lexer": "ipython3",
   "version": "3.10.12"
  }
 },
 "nbformat": 4,
 "nbformat_minor": 2
}
