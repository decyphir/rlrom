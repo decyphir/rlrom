{
 "cells": [
  {
   "cell_type": "code",
   "execution_count": null,
   "metadata": {},
   "outputs": [],
   "source": [
    "from  train_highway_env import *"
   ]
  },
  {
   "cell_type": "code",
   "execution_count": null,
   "metadata": {},
   "outputs": [],
   "source": [
    "cfg = utils.load_cfg('cfg_main.yml')    \n",
    "tester = Tester(cfg)\n",
    "obs,_ = tester.env.reset(seed=0)\n",
    "pprint(obs)\n",
    "tester.env.close()"
   ]
  },
  {
   "cell_type": "code",
   "execution_count": null,
   "metadata": {},
   "outputs": [],
   "source": [
    "cfg = utils.load_cfg('cfg_main.yml')    \n",
    "tester = Tester(cfg)\n",
    "tester.run_seed(seed=0, num_steps=50)\n",
    "\n",
    "lay = \"\"\"    \n",
    "    ego_x\n",
    "    ego_y\n",
    "    ego_vx\n",
    "    car1_x\n",
    "\"\"\"\n",
    "lay = utils.get_layout_from_string(lay)\n",
    "\n",
    "width = 12\n",
    "height = 6\n",
    "fig, axs = plt.subplots(len(lay),1, figsize=(width, height))\n",
    "\n",
    "idx_ax =0\n",
    "for sig_list in lay:\n",
    "    for sig in sig_list:\n",
    "        if len(lay)>1:\n",
    "            tester.env.plot_signal(sig, axs[idx_ax])\n",
    "        else:\n",
    "            tester.env.plot_signal(sig, axs)\n",
    "    idx_ax +=1\n"
   ]
  }
 ],
 "metadata": {
  "kernelspec": {
   "display_name": "Python 3",
   "language": "python",
   "name": "python3"
  },
  "language_info": {
   "codemirror_mode": {
    "name": "ipython",
    "version": 3
   },
   "file_extension": ".py",
   "mimetype": "text/x-python",
   "name": "python",
   "nbconvert_exporter": "python",
   "pygments_lexer": "ipython3",
   "version": "3.10.12"
  }
 },
 "nbformat": 4,
 "nbformat_minor": 2
}
