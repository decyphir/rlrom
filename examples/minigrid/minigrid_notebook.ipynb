{
 "cells": [
  {
   "cell_type": "code",
   "execution_count": null,
   "id": "2a45da62",
   "metadata": {},
   "outputs": [],
   "source": [
    "from rlrom.testers import RLTester\n",
    "from rlrom.trainers import RLTrainer\n",
    "import rlrom.utils as utils\n",
    "from bokeh.io import output_notebook\n",
    "from bokeh.plotting import show\n",
    "import minigrid\n",
    "from unlock_custom import UnlockEnvV1\n",
    "from rlrom.wrappers.reward_machine import RewardMachine\n",
    "output_notebook()\n",
    "from pprint import pprint"
   ]
  },
  {
   "cell_type": "markdown",
   "id": "bafec502",
   "metadata": {},
   "source": [
    "# Testing"
   ]
  },
  {
   "cell_type": "code",
   "execution_count": null,
   "id": "27ad7a25",
   "metadata": {},
   "outputs": [],
   "source": [
    "\n",
    "cfg = utils.load_cfg('cfg0_specs.yml')\n",
    "pprint(cfg)\n"
   ]
  },
  {
   "cell_type": "code",
   "execution_count": null,
   "id": "3c95e742",
   "metadata": {},
   "outputs": [],
   "source": [
    "Te = RLTester(cfg)\n",
    "Te.run_cfg_test()"
   ]
  },
  {
   "cell_type": "code",
   "execution_count": null,
   "id": "5190f1d2",
   "metadata": {},
   "outputs": [],
   "source": [
    "lay = \"\"\"\n",
    "_ep(0)\n",
    " sat(has_key)\n",
    " sat(not_has_key)\n",
    " reward\n",
    "\"\"\"\n",
    "fig, _=  Te.get_fig(lay)\n",
    "show(fig)"
   ]
  },
  {
   "cell_type": "markdown",
   "id": "3f74ed79",
   "metadata": {},
   "source": [
    "# Training"
   ]
  },
  {
   "cell_type": "code",
   "execution_count": null,
   "id": "946aa406",
   "metadata": {},
   "outputs": [],
   "source": [
    "cfg = 'cfg0tr_ppo.yml'\n",
    "T = RLTrainer(cfg)\n",
    "T.train()"
   ]
  },
  {
   "cell_type": "code",
   "execution_count": null,
   "id": "dfe2053e",
   "metadata": {},
   "outputs": [],
   "source": []
  }
 ],
 "metadata": {
  "kernelspec": {
   "display_name": "rlrom (3.13.7)",
   "language": "python",
   "name": "python3"
  },
  "language_info": {
   "codemirror_mode": {
    "name": "ipython",
    "version": 3
   },
   "file_extension": ".py",
   "mimetype": "text/x-python",
   "name": "python",
   "nbconvert_exporter": "python",
   "pygments_lexer": "ipython3",
   "version": "3.13.7"
  }
 },
 "nbformat": 4,
 "nbformat_minor": 5
}
