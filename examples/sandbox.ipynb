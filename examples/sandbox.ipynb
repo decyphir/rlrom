{
 "cells": [
  {
   "cell_type": "code",
   "execution_count": 1,
   "id": "7848c314",
   "metadata": {},
   "outputs": [
    {
     "name": "stderr",
     "output_type": "stream",
     "text": [
      "2025-10-14 21:44:30.100492: I tensorflow/core/util/port.cc:153] oneDNN custom operations are on. You may see slightly different numerical results due to floating-point round-off errors from different computation orders. To turn them off, set the environment variable `TF_ENABLE_ONEDNN_OPTS=0`.\n",
      "2025-10-14 21:44:30.133203: I tensorflow/core/platform/cpu_feature_guard.cc:210] This TensorFlow binary is optimized to use available CPU instructions in performance-critical operations.\n",
      "To enable the following instructions: AVX2 AVX_VNNI FMA, in other operations, rebuild TensorFlow with the appropriate compiler flags.\n",
      "2025-10-14 21:44:30.675782: I tensorflow/core/util/port.cc:153] oneDNN custom operations are on. You may see slightly different numerical results due to floating-point round-off errors from different computation orders. To turn them off, set the environment variable `TF_ENABLE_ONEDNN_OPTS=0`.\n"
     ]
    }
   ],
   "source": [
    "from rlrom.trainers import RLTrainer\n",
    "from rlrom.testers import RLTester\n",
    "import os, sys, glob\n",
    "from rlrom.utils import *\n",
    "from pprint import pprint\n",
    "import polars as pl\n",
    "from datetime import date"
   ]
  },
  {
   "cell_type": "code",
   "execution_count": 2,
   "id": "93199c58",
   "metadata": {},
   "outputs": [
    {
     "name": "stdout",
     "output_type": "stream",
     "text": [
      "loading field [ specs ] from STL file [ cartpole.stl ]\n",
      "loading field [ ppo ] from YAML file [ cartpole_ppo.yml ]\n"
     ]
    }
   ],
   "source": [
    "cfg_file = 'cartpole/cfg0tr_ppo_specs.yml'\n",
    "#cfg_file = 'highway_env/cfg0tr.yml'\n",
    "#T = RLTrainer(cfg_file)\n",
    "cfg = load_cfg(cfg_file)\n"
   ]
  },
  {
   "cell_type": "code",
   "execution_count": 3,
   "id": "19f2577c",
   "metadata": {},
   "outputs": [
    {
     "name": "stdout",
     "output_type": "stream",
     "text": [
      "shape: (1, 4)\n",
      "┌────────────┬──────────┬─────────────────────────────────┬─────────────────────────────────┐\n",
      "│ date       ┆ training ┆ checkpoints                     ┆ path                            │\n",
      "│ ---        ┆ ---      ┆ ---                             ┆ ---                             │\n",
      "│ date       ┆ str      ┆ object                          ┆ str                             │\n",
      "╞════════════╪══════════╪═════════════════════════════════╪═════════════════════════════════╡\n",
      "│ 2025-10-02 ┆ 0        ┆ naive plan: (run LazyFrame.exp… ┆ /home/alex/workspace/rlrom/exa… │\n",
      "└────────────┴──────────┴─────────────────────────────────┴─────────────────────────────────┘\n"
     ]
    }
   ],
   "source": [
    "df = get_df_all_trainings(cfg)\n",
    "print(df.collect())"
   ]
  },
  {
   "cell_type": "code",
   "execution_count": null,
   "id": "ff5f1f61",
   "metadata": {},
   "outputs": [
    {
     "name": "stdout",
     "output_type": "stream",
     "text": [
      "shape: (20, 9)\n",
      "┌────────┬────────────┬────────────┬───────────┬───┬───────────┬───────────┬───────────┬───────────┐\n",
      "│ steps  ┆ res_files  ┆ model_file ┆ res       ┆ … ┆ mean_ep_r ┆ cart_on_l ┆ phi_left_ ┆ reward_fo │\n",
      "│ ---    ┆ ---        ┆ s          ┆ ---       ┆   ┆ ew        ┆ eft       ┆ goal      ┆ rmulas    │\n",
      "│ i64    ┆ str        ┆ ---        ┆ struct[4] ┆   ┆ ---       ┆ ---       ┆ ---       ┆ ---       │\n",
      "│        ┆            ┆ str        ┆           ┆   ┆ f64       ┆ struct[3] ┆ struct[2] ┆ struct[1] │\n",
      "╞════════╪════════════╪════════════╪═══════════╪═══╪═══════════╪═══════════╪═══════════╪═══════════╡\n",
      "│ 10000  ┆ /home/alex ┆ /home/alex ┆ {{[0.0,   ┆ … ┆ 27.5      ┆ {-0.25013 ┆ {-0.47302 ┆ {{0.0,-0. │\n",
      "│        ┆ /workspace ┆ /workspace ┆ -0.428293 ┆   ┆           ┆ 1,0.0,-6. ┆ 3,0.0}    ┆ 250131,-6 │\n",
      "│        ┆ /rlrom/exa ┆ /rlrom/exa ┆ , … -0.49 ┆   ┆           ┆ 703729}   ┆           ┆ .703729}} │\n",
      "│        ┆ …          ┆ …          ┆ 7704…     ┆   ┆           ┆           ┆           ┆           │\n",
      "│ 20000  ┆ /home/alex ┆ /home/alex ┆ {{[0.0,   ┆ … ┆ 62.770565 ┆ {-0.26658 ┆ {-0.50118 ┆ {{1.1,-0. │\n",
      "│        ┆ /workspace ┆ /workspace ┆ -0.489555 ┆   ┆           ┆ 1,1.1,-18 ┆ 3,0.0}    ┆ 266581,-1 │\n",
      "│        ┆ /rlrom/exa ┆ /rlrom/exa ┆ , … -0.51 ┆   ┆           ┆ .211938}  ┆           ┆ 8.211938} │\n",
      "│        ┆ …          ┆ …          ┆ 3838…     ┆   ┆           ┆           ┆           ┆ }         │\n",
      "│ 30000  ┆ /home/alex ┆ /home/alex ┆ {{[0.0278 ┆ … ┆ 138.83359 ┆ {-0.39844 ┆ {-0.86192 ┆ {{2.7,-0. │\n",
      "│        ┆ /workspace ┆ /workspace ┆ 62, -0.43 ┆   ┆ 5         ┆ 1,2.7,-56 ┆ 2,0.0}    ┆ 398441,-5 │\n",
      "│        ┆ /rlrom/exa ┆ /rlrom/exa ┆ 4565, …   ┆   ┆           ┆ .914397}  ┆           ┆ 6.914397} │\n",
      "│        ┆ …          ┆ …          ┆ -1.0…     ┆   ┆           ┆           ┆           ┆ }         │\n",
      "│ 40000  ┆ /home/alex ┆ /home/alex ┆ {{[0.0403 ┆ … ┆ 218.20653 ┆ {-0.38973 ┆ {-0.69586 ┆ {{11.2,-0 │\n",
      "│        ┆ /workspace ┆ /workspace ┆ 86, -0.34 ┆   ┆           ┆ 6,11.2,-8 ┆ 8,0.0}    ┆ .389736,- │\n",
      "│        ┆ /rlrom/exa ┆ /rlrom/exa ┆ 0625, …   ┆   ┆           ┆ 3.257149} ┆           ┆ 83.257149 │\n",
      "│        ┆ …          ┆ …          ┆ -1.1…     ┆   ┆           ┆           ┆           ┆ }}        │\n",
      "│ 50000  ┆ /home/alex ┆ /home/alex ┆ {{[0.0625 ┆ … ┆ 405.29841 ┆ {-0.20427 ┆ {-0.24064 ┆ {{21.6,-0 │\n",
      "│        ┆ /workspace ┆ /workspace ┆ 1, -0.464 ┆   ┆ 7         ┆ 3,21.6,-8 ┆ ,0.0}     ┆ .204273,- │\n",
      "│        ┆ /rlrom/exa ┆ /rlrom/exa ┆ 411, …    ┆   ┆           ┆ 0.68572}  ┆           ┆ 80.68572} │\n",
      "│        ┆ …          ┆ …          ┆ -0.46…    ┆   ┆           ┆           ┆           ┆ }         │\n",
      "│ …      ┆ …          ┆ …          ┆ …         ┆ … ┆ …         ┆ …         ┆ …         ┆ …         │\n",
      "│ 160000 ┆ /home/alex ┆ /home/alex ┆ {{[0.7733 ┆ … ┆ 788.17777 ┆ {0.321872 ┆ {0.000287 ┆ {{400.9,0 │\n",
      "│        ┆ /workspace ┆ /workspace ┆ 95,       ┆   ┆ 2         ┆ ,400.9,17 ┆ ,0.9}     ┆ .321872,1 │\n",
      "│        ┆ /rlrom/exa ┆ /rlrom/exa ┆ 0.042973, ┆   ┆           ┆ 5.856002} ┆           ┆ 75.856002 │\n",
      "│        ┆ …          ┆ …          ┆ … 0.033…  ┆   ┆           ┆           ┆           ┆ }}        │\n",
      "│ 170000 ┆ /home/alex ┆ /home/alex ┆ {{[0.7640 ┆ … ┆ 802.83310 ┆ {0.339626 ┆ {0.005525 ┆ {{404.9,0 │\n",
      "│        ┆ /workspace ┆ /workspace ┆ 59,       ┆   ┆ 7         ┆ ,404.9,18 ┆ ,0.9}     ┆ .339626,1 │\n",
      "│        ┆ /rlrom/exa ┆ /rlrom/exa ┆ 0.042943, ┆   ┆           ┆ 4.19089}  ┆           ┆ 84.19089} │\n",
      "│        ┆ …          ┆ …          ┆ … 0.034…  ┆   ┆           ┆           ┆           ┆ }         │\n",
      "│ 180000 ┆ /home/alex ┆ /home/alex ┆ {{[0.7673 ┆ … ┆ 805.61189 ┆ {0.342199 ┆ {0.002874 ┆ {{404.7,0 │\n",
      "│        ┆ /workspace ┆ /workspace ┆ 98,       ┆   ┆ 9         ┆ ,404.7,18 ┆ ,0.9}     ┆ .342199,1 │\n",
      "│        ┆ /rlrom/exa ┆ /rlrom/exa ┆ 0.044088, ┆   ┆           ┆ 5.903537} ┆           ┆ 85.903537 │\n",
      "│        ┆ …          ┆ …          ┆ … 0.037…  ┆   ┆           ┆           ┆           ┆ }}        │\n",
      "│ 190000 ┆ /home/alex ┆ /home/alex ┆ {{[0.7705 ┆ … ┆ 889.71073 ┆ {0.408731 ┆ {0.080355 ┆ {{449.3,0 │\n",
      "│        ┆ /workspace ┆ /workspace ┆ 72,       ┆   ┆ 4         ┆ ,449.3,20 ┆ ,1.0}     ┆ .408731,2 │\n",
      "│        ┆ /rlrom/exa ┆ /rlrom/exa ┆ 0.042667, ┆   ┆           ┆ 4.365649} ┆           ┆ 04.365649 │\n",
      "│        ┆ …          ┆ …          ┆ … 0.033…  ┆   ┆           ┆           ┆           ┆ }}        │\n",
      "│ 200000 ┆ /home/alex ┆ /home/alex ┆ {{[0.8129 ┆ … ┆ 815.05499 ┆ {0.35224, ┆ {0.007039 ┆ {{404.2,0 │\n",
      "│        ┆ /workspace ┆ /workspace ┆ 85,       ┆   ┆ 8         ┆ 404.2,190 ┆ ,0.9}     ┆ .35224,19 │\n",
      "│        ┆ /rlrom/exa ┆ /rlrom/exa ┆ 0.047054, ┆   ┆           ┆ .714927}  ┆           ┆ 0.714927} │\n",
      "│        ┆ …          ┆ …          ┆ … -0.59…  ┆   ┆           ┆           ┆           ┆ }         │\n",
      "└────────┴────────────┴────────────┴───────────┴───┴───────────┴───────────┴───────────┴───────────┘\n"
     ]
    }
   ],
   "source": [
    "# get last training\n",
    "df_training = get_df_training_res(df.collect()['checkpoints'][0])\n",
    "print(df_training.collect().select(pl.exclude('')))\n"
   ]
  },
  {
   "cell_type": "code",
   "execution_count": null,
   "id": "4b155a5d",
   "metadata": {},
   "outputs": [
    {
     "name": "stdout",
     "output_type": "stream",
     "text": [
      "shape: (8, 9)\n",
      "┌────────┬────────────┬────────────┬───────────┬───┬───────────┬───────────┬───────────┬───────────┐\n",
      "│ steps  ┆ res_files  ┆ model_file ┆ ep_len    ┆ … ┆ mean_ep_l ┆ mean_ep_r ┆ eval_form ┆ reward_fo │\n",
      "│ ---    ┆ ---        ┆ s          ┆ ---       ┆   ┆ en        ┆ ew        ┆ ulas      ┆ rmulas    │\n",
      "│ i64    ┆ str        ┆ ---        ┆ list[i64] ┆   ┆ ---       ┆ ---       ┆ ---       ┆ ---       │\n",
      "│        ┆            ┆ str        ┆           ┆   ┆ f64       ┆ f64       ┆ struct[0] ┆ struct[0] │\n",
      "╞════════╪════════════╪════════════╪═══════════╪═══╪═══════════╪═══════════╪═══════════╪═══════════╡\n",
      "│ 15000  ┆ /home/alex ┆ /home/alex ┆ [28, 23,  ┆ … ┆ 41.5      ┆ 41.5      ┆ {}        ┆ {}        │\n",
      "│        ┆ /workspace ┆ /workspace ┆ … 22]     ┆   ┆           ┆           ┆           ┆           │\n",
      "│        ┆ /rlrom/exa ┆ /rlrom/exa ┆           ┆   ┆           ┆           ┆           ┆           │\n",
      "│        ┆ …          ┆ …          ┆           ┆   ┆           ┆           ┆           ┆           │\n",
      "│ 30000  ┆ /home/alex ┆ /home/alex ┆ [72, 96,  ┆ … ┆ 124.6     ┆ 124.6     ┆ {}        ┆ {}        │\n",
      "│        ┆ /workspace ┆ /workspace ┆ … 88]     ┆   ┆           ┆           ┆           ┆           │\n",
      "│        ┆ /rlrom/exa ┆ /rlrom/exa ┆           ┆   ┆           ┆           ┆           ┆           │\n",
      "│        ┆ …          ┆ …          ┆           ┆   ┆           ┆           ┆           ┆           │\n",
      "│ 45000  ┆ /home/alex ┆ /home/alex ┆ [256,     ┆ … ┆ 281.9     ┆ 281.9     ┆ {}        ┆ {}        │\n",
      "│        ┆ /workspace ┆ /workspace ┆ 173, …    ┆   ┆           ┆           ┆           ┆           │\n",
      "│        ┆ /rlrom/exa ┆ /rlrom/exa ┆ 316]      ┆   ┆           ┆           ┆           ┆           │\n",
      "│        ┆ …          ┆ …          ┆           ┆   ┆           ┆           ┆           ┆           │\n",
      "│ 60000  ┆ /home/alex ┆ /home/alex ┆ [500,     ┆ … ┆ 497.5     ┆ 497.5     ┆ {}        ┆ {}        │\n",
      "│        ┆ /workspace ┆ /workspace ┆ 500, …    ┆   ┆           ┆           ┆           ┆           │\n",
      "│        ┆ /rlrom/exa ┆ /rlrom/exa ┆ 500]      ┆   ┆           ┆           ┆           ┆           │\n",
      "│        ┆ …          ┆ …          ┆           ┆   ┆           ┆           ┆           ┆           │\n",
      "│ 75000  ┆ /home/alex ┆ /home/alex ┆ [500,     ┆ … ┆ 500.0     ┆ 500.0     ┆ {}        ┆ {}        │\n",
      "│        ┆ /workspace ┆ /workspace ┆ 500, …    ┆   ┆           ┆           ┆           ┆           │\n",
      "│        ┆ /rlrom/exa ┆ /rlrom/exa ┆ 500]      ┆   ┆           ┆           ┆           ┆           │\n",
      "│        ┆ …          ┆ …          ┆           ┆   ┆           ┆           ┆           ┆           │\n",
      "│ 90000  ┆ /home/alex ┆ /home/alex ┆ [500,     ┆ … ┆ 500.0     ┆ 500.0     ┆ {}        ┆ {}        │\n",
      "│        ┆ /workspace ┆ /workspace ┆ 500, …    ┆   ┆           ┆           ┆           ┆           │\n",
      "│        ┆ /rlrom/exa ┆ /rlrom/exa ┆ 500]      ┆   ┆           ┆           ┆           ┆           │\n",
      "│        ┆ …          ┆ …          ┆           ┆   ┆           ┆           ┆           ┆           │\n",
      "│ 105000 ┆ /home/alex ┆ /home/alex ┆ [500,     ┆ … ┆ 500.0     ┆ 500.0     ┆ {}        ┆ {}        │\n",
      "│        ┆ /workspace ┆ /workspace ┆ 500, …    ┆   ┆           ┆           ┆           ┆           │\n",
      "│        ┆ /rlrom/exa ┆ /rlrom/exa ┆ 500]      ┆   ┆           ┆           ┆           ┆           │\n",
      "│        ┆ …          ┆ …          ┆           ┆   ┆           ┆           ┆           ┆           │\n",
      "│ 106496 ┆ /home/alex ┆ /home/alex ┆ [500,     ┆ … ┆ 500.0     ┆ 500.0     ┆ {}        ┆ {}        │\n",
      "│        ┆ /workspace ┆ /workspace ┆ 500, …    ┆   ┆           ┆           ┆           ┆           │\n",
      "│        ┆ /rlrom/exa ┆ /rlrom/exa ┆ 500]      ┆   ┆           ┆           ┆           ┆           │\n",
      "│        ┆ …          ┆ …          ┆           ┆   ┆           ┆           ┆           ┆           │\n",
      "└────────┴────────────┴────────────┴───────────┴───┴───────────┴───────────┴───────────┴───────────┘\n"
     ]
    }
   ],
   "source": []
  },
  {
   "cell_type": "code",
   "execution_count": null,
   "id": "ecc2a5fe",
   "metadata": {},
   "outputs": [],
   "source": [
    "# get steps\n",
    "steps = df_cp.collect()['steps'][:]\n",
    "steps = steps.to_numpy()\n",
    "print(steps)"
   ]
  },
  {
   "cell_type": "code",
   "execution_count": 8,
   "id": "c0858eff",
   "metadata": {},
   "outputs": [],
   "source": [
    "cfg_specs= cfg.get('cfg_specs')"
   ]
  },
  {
   "cell_type": "code",
   "execution_count": 9,
   "id": "4051d12d",
   "metadata": {},
   "outputs": [
    {
     "name": "stdout",
     "output_type": "stream",
     "text": [
      "{'action_names': {'push': 'action'},\n",
      " 'eval_formulas': {'cart_on_left': {'eval_all_steps': True, 'past_horizon': 0},\n",
      "                   'phi_left_goal': {'eval_all_steps': False, 't0': 0}},\n",
      " 'obs_names': {'theta': 'obs[2]',\n",
      "               'theta_dot': 'obs[3]',\n",
      "               'x': 'obs[0]',\n",
      "               'x_dot': 'obs[1]'},\n",
      " 'reward_formulas': {'cart_on_left': {'lower_bound': 0,\n",
      "                                      'past_horizon': 0,\n",
      "                                      'weight': 10}},\n",
      " 'specs': 'signal push,x,x_dot,theta,theta_dot,reward\\n'\n",
      "          '\\n'\n",
      "          'param epsi= 0.03\\n'\n",
      "          'pole_up := abs(theta[t]) < epsi\\n'\n",
      "          'keep_up := alw_[0,100] pole_up\\n'\n",
      "          'phi_goal_keep_up := ev_[0, 400] keep_up\\n'\n",
      "          '\\n'\n",
      "          'go_left := x_dot[t] < 0\\n'\n",
      "          'cart_on_left := x[t] < -0.5 and x[t]> -0.7\\n'\n",
      "          'phi_left_goal := ev_[0,400] alw_[0, 100] cart_on_left\\n'}\n"
     ]
    }
   ],
   "source": [
    "pprint(cfg_specs)"
   ]
  },
  {
   "cell_type": "code",
   "execution_count": null,
   "id": "1693eb86",
   "metadata": {},
   "outputs": [
    {
     "name": "stdout",
     "output_type": "stream",
     "text": [
      "cart_on_left\n",
      "phi_left_goal\n"
     ]
    }
   ],
   "source": [
    "\n",
    "if cfg_specs is not None:\n",
    "    eval_phis = cfg_specs.get('eval_formulas', [])\n",
    "    for f in eval_phis:\n",
    "        print(f)\n"
   ]
  },
  {
   "cell_type": "code",
   "execution_count": null,
   "id": "23cfdf85",
   "metadata": {},
   "outputs": [],
   "source": []
  }
 ],
 "metadata": {
  "kernelspec": {
   "display_name": "rlrom (3.13.7)",
   "language": "python",
   "name": "python3"
  },
  "language_info": {
   "codemirror_mode": {
    "name": "ipython",
    "version": 3
   },
   "file_extension": ".py",
   "mimetype": "text/x-python",
   "name": "python",
   "nbconvert_exporter": "python",
   "pygments_lexer": "ipython3",
   "version": "3.13.7"
  }
 },
 "nbformat": 4,
 "nbformat_minor": 5
}
