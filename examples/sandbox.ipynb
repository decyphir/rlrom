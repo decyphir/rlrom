{
 "cells": [
  {
   "cell_type": "code",
   "execution_count": 8,
   "id": "7848c314",
   "metadata": {},
   "outputs": [],
   "source": [
    "from rlrom.trainers import RLTrainer\n",
    "from rlrom.testers import RLTester\n",
    "import os, sys, glob\n",
    "from rlrom.utils import *\n",
    "from pprint import pprint"
   ]
  },
  {
   "cell_type": "code",
   "execution_count": 2,
   "id": "93199c58",
   "metadata": {},
   "outputs": [
    {
     "name": "stdout",
     "output_type": "stream",
     "text": [
      "loading field [ ppo ] from YAML file [ cartpole_ppo.yml ]\n"
     ]
    }
   ],
   "source": [
    "cfg_file = 'cartpole/cfg0tr_ppo.yml'\n",
    "#cfg_file = 'highway_env/cfg0tr.yml'\n",
    "#T = RLTrainer(cfg_file)\n",
    "cfg = load_cfg(cfg_file)\n"
   ]
  },
  {
   "cell_type": "code",
   "execution_count": 3,
   "id": "de1ebab7",
   "metadata": {},
   "outputs": [
    {
     "name": "stdout",
     "output_type": "stream",
     "text": [
      "/home/alex/workspace_local/rlrom/examples/cartpole\n",
      "/home/alex/workspace_local/rlrom/examples/cartpole/models/vanilla_ppo.zip\n",
      "[]\n"
     ]
    }
   ],
   "source": [
    "print(cfg.get('this_cfg_pathdir'))\n",
    "mpath,_ = get_model_fullpath(cfg)\n",
    "print(mpath)\n",
    "patt = os.path.splitext(mpath)[0]\n",
    "print(glob.glob(patt))    \n"
   ]
  },
  {
   "cell_type": "code",
   "execution_count": 10,
   "id": "ecc2a5fe",
   "metadata": {},
   "outputs": [],
   "source": [
    "def get_training_folders(cfg):\n",
    "    cfg= load_cfg(cfg)\n",
    "    mpath,_ = get_model_fullpath(cfg)\n",
    "    patt = os.path.splitext(mpath)[0]\n",
    "    globs = glob.glob(patt+'*')\n",
    "    folders = []\n",
    "    for d in globs:\n",
    "        if os.path.isdir(d):\n",
    "            folders.append(d)\n",
    "    return folders \n",
    "\n",
    "def get_date_num(model, training_folder):\n",
    "    s = training_folder.removeprefix(model+'_')\n",
    "    return s.split('__training')"
   ]
  },
  {
   "cell_type": "code",
   "execution_count": 11,
   "id": "d853872b",
   "metadata": {},
   "outputs": [
    {
     "name": "stdout",
     "output_type": "stream",
     "text": [
      "['/home/alex/workspace_local/rlrom/examples/cartpole/models/vanilla_ppo_2025_10_07__training0',\n",
      " '/home/alex/workspace_local/rlrom/examples/cartpole/models/vanilla_ppo_2025_10_07__training1']\n"
     ]
    }
   ],
   "source": [
    "pprint(get_training_folders(cfg))"
   ]
  },
  {
   "cell_type": "code",
   "execution_count": 6,
   "id": "ff782c01",
   "metadata": {},
   "outputs": [
    {
     "name": "stdout",
     "output_type": "stream",
     "text": [
      "{'env_name': 'CartPole-v1', 'model_path': './models', 'model_name': 'vanilla_ppo', 'cfg_test': {'init_seeds': 0, 'num_ep': 10, 'num_steps': 500, 'render_mode': 'human'}, 'cfg_train': {'n_envs': 4, 'total_timesteps': 100000, 'eval_freq': 15000, 'algo': {'ppo': {'device': 'cpu', 'verbose': 0, 'tensorboard_log': './tb_logs'}}}, 'this_cfg_pathdir': '/home/alex/workspace_local/rlrom/examples/cartpole'}\n"
     ]
    }
   ],
   "source": [
    "print(cfg)"
   ]
  }
 ],
 "metadata": {
  "kernelspec": {
   "display_name": "rlrom (3.12.3)",
   "language": "python",
   "name": "python3"
  },
  "language_info": {
   "codemirror_mode": {
    "name": "ipython",
    "version": 3
   },
   "file_extension": ".py",
   "mimetype": "text/x-python",
   "name": "python",
   "nbconvert_exporter": "python",
   "pygments_lexer": "ipython3",
   "version": "3.12.3"
  }
 },
 "nbformat": 4,
 "nbformat_minor": 5
}
