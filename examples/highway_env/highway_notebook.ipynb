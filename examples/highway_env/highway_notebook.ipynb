{
 "cells": [
  {
   "cell_type": "code",
   "execution_count": 1,
   "metadata": {},
   "outputs": [
    {
     "data": {
      "text/html": [
       "    <style>\n",
       "        .bk-notebook-logo {\n",
       "            display: block;\n",
       "            width: 20px;\n",
       "            height: 20px;\n",
       "            background-image: url(data:image/png;base64,iVBORw0KGgoAAAANSUhEUgAAABQAAAAUCAYAAACNiR0NAAAABHNCSVQICAgIfAhkiAAAAAlwSFlzAAALEgAACxIB0t1+/AAAABx0RVh0U29mdHdhcmUAQWRvYmUgRmlyZXdvcmtzIENTNui8sowAAAOkSURBVDiNjZRtaJVlGMd/1/08zzln5zjP1LWcU9N0NkN8m2CYjpgQYQXqSs0I84OLIC0hkEKoPtiH3gmKoiJDU7QpLgoLjLIQCpEsNJ1vqUOdO7ppbuec5+V+rj4ctwzd8IIbbi6u+8f1539dt3A78eXC7QizUF7gyV1fD1Yqg4JWz84yffhm0qkFqBogB9rM8tZdtwVsPUhWhGcFJngGeWrPzHm5oaMmkfEg1usvLFyc8jLRqDOMru7AyC8saQr7GG7f5fvDeH7Ej8CM66nIF+8yngt6HWaKh7k49Soy9nXurCi1o3qUbS3zWfrYeQDTB/Qj6kX6Ybhw4B+bOYoLKCC9H3Nu/leUTZ1JdRWkkn2ldcCamzrcf47KKXdAJllSlxAOkRgyHsGC/zRday5Qld9DyoM4/q/rUoy/CXh3jzOu3bHUVZeU+DEn8FInkPBFlu3+nW3Nw0mk6vCDiWg8CeJaxEwuHS3+z5RgY+YBR6V1Z1nxSOfoaPa4LASWxxdNp+VWTk7+4vzaou8v8PN+xo+KY2xsw6une2frhw05CTYOmQvsEhjhWjn0bmXPjpE1+kplmmkP3suftwTubK9Vq22qKmrBhpY4jvd5afdRA3wGjFAgcnTK2s4hY0/GPNIb0nErGMCRxWOOX64Z8RAC4oCXdklmEvcL8o0BfkNK4lUg9HTl+oPlQxdNo3Mg4Nv175e/1LDGzZen30MEjRUtmXSfiTVu1kK8W4txyV6BMKlbgk3lMwYCiusNy9fVfvvwMxv8Ynl6vxoByANLTWplvuj/nF9m2+PDtt1eiHPBr1oIfhCChQMBw6Aw0UulqTKZdfVvfG7VcfIqLG9bcldL/+pdWTLxLUy8Qq38heUIjh4XlzZxzQm19lLFlr8vdQ97rjZVOLf8nclzckbcD4wxXMidpX30sFd37Fv/GtwwhzhxGVAprjbg0gCAEeIgwCZyTV2Z1REEW8O4py0wsjeloKoMr6iCY6dP92H6Vw/oTyICIthibxjm/DfN9lVz8IqtqKYLUXfoKVMVQVVJOElGjrnnUt9T9wbgp8AyYKaGlqingHZU/uG2NTZSVqwHQTWkx9hxjkpWDaCg6Ckj5qebgBVbT3V3NNXMSiWSDdGV3hrtzla7J+duwPOToIg42ChPQOQjspnSlp1V+Gjdged7+8UN5CRAV7a5EdFNwCjEaBR27b3W890TE7g24NAP/mMDXRWrGoFPQI9ls/MWO2dWFAar/xcOIImbbpA3zgAAAABJRU5ErkJggg==);\n",
       "        }\n",
       "    </style>\n",
       "    <div>\n",
       "        <a href=\"https://bokeh.org\" target=\"_blank\" class=\"bk-notebook-logo\"></a>\n",
       "        <span id=\"c5b3ff15-26d8-43f5-bf71-aeb4a5d5669c\">Loading BokehJS ...</span>\n",
       "    </div>\n"
      ]
     },
     "metadata": {},
     "output_type": "display_data"
    },
    {
     "data": {
      "application/javascript": "'use strict';\n(function(root) {\n  function now() {\n    return new Date();\n  }\n\n  const force = true;\n\n  if (typeof root._bokeh_onload_callbacks === \"undefined\" || force === true) {\n    root._bokeh_onload_callbacks = [];\n    root._bokeh_is_loading = undefined;\n  }\n\nconst JS_MIME_TYPE = 'application/javascript';\n  const HTML_MIME_TYPE = 'text/html';\n  const EXEC_MIME_TYPE = 'application/vnd.bokehjs_exec.v0+json';\n  const CLASS_NAME = 'output_bokeh rendered_html';\n\n  /**\n   * Render data to the DOM node\n   */\n  function render(props, node) {\n    const script = document.createElement(\"script\");\n    node.appendChild(script);\n  }\n\n  /**\n   * Handle when an output is cleared or removed\n   */\n  function handleClearOutput(event, handle) {\n    function drop(id) {\n      const view = Bokeh.index.get_by_id(id)\n      if (view != null) {\n        view.model.document.clear()\n        Bokeh.index.delete(view)\n      }\n    }\n\n    const cell = handle.cell;\n\n    const id = cell.output_area._bokeh_element_id;\n    const server_id = cell.output_area._bokeh_server_id;\n\n    // Clean up Bokeh references\n    if (id != null) {\n      drop(id)\n    }\n\n    if (server_id !== undefined) {\n      // Clean up Bokeh references\n      const cmd_clean = \"from bokeh.io.state import curstate; print(curstate().uuid_to_server['\" + server_id + \"'].get_sessions()[0].document.roots[0]._id)\";\n      cell.notebook.kernel.execute(cmd_clean, {\n        iopub: {\n          output: function(msg) {\n            const id = msg.content.text.trim()\n            drop(id)\n          }\n        }\n      });\n      // Destroy server and session\n      const cmd_destroy = \"import bokeh.io.notebook as ion; ion.destroy_server('\" + server_id + \"')\";\n      cell.notebook.kernel.execute(cmd_destroy);\n    }\n  }\n\n  /**\n   * Handle when a new output is added\n   */\n  function handleAddOutput(event, handle) {\n    const output_area = handle.output_area;\n    const output = handle.output;\n\n    // limit handleAddOutput to display_data with EXEC_MIME_TYPE content only\n    if ((output.output_type != \"display_data\") || (!Object.prototype.hasOwnProperty.call(output.data, EXEC_MIME_TYPE))) {\n      return\n    }\n\n    const toinsert = output_area.element.find(\".\" + CLASS_NAME.split(' ')[0]);\n\n    if (output.metadata[EXEC_MIME_TYPE][\"id\"] !== undefined) {\n      toinsert[toinsert.length - 1].firstChild.textContent = output.data[JS_MIME_TYPE];\n      // store reference to embed id on output_area\n      output_area._bokeh_element_id = output.metadata[EXEC_MIME_TYPE][\"id\"];\n    }\n    if (output.metadata[EXEC_MIME_TYPE][\"server_id\"] !== undefined) {\n      const bk_div = document.createElement(\"div\");\n      bk_div.innerHTML = output.data[HTML_MIME_TYPE];\n      const script_attrs = bk_div.children[0].attributes;\n      for (let i = 0; i < script_attrs.length; i++) {\n        toinsert[toinsert.length - 1].firstChild.setAttribute(script_attrs[i].name, script_attrs[i].value);\n        toinsert[toinsert.length - 1].firstChild.textContent = bk_div.children[0].textContent\n      }\n      // store reference to server id on output_area\n      output_area._bokeh_server_id = output.metadata[EXEC_MIME_TYPE][\"server_id\"];\n    }\n  }\n\n  function register_renderer(events, OutputArea) {\n\n    function append_mime(data, metadata, element) {\n      // create a DOM node to render to\n      const toinsert = this.create_output_subarea(\n        metadata,\n        CLASS_NAME,\n        EXEC_MIME_TYPE\n      );\n      this.keyboard_manager.register_events(toinsert);\n      // Render to node\n      const props = {data: data, metadata: metadata[EXEC_MIME_TYPE]};\n      render(props, toinsert[toinsert.length - 1]);\n      element.append(toinsert);\n      return toinsert\n    }\n\n    /* Handle when an output is cleared or removed */\n    events.on('clear_output.CodeCell', handleClearOutput);\n    events.on('delete.Cell', handleClearOutput);\n\n    /* Handle when a new output is added */\n    events.on('output_added.OutputArea', handleAddOutput);\n\n    /**\n     * Register the mime type and append_mime function with output_area\n     */\n    OutputArea.prototype.register_mime_type(EXEC_MIME_TYPE, append_mime, {\n      /* Is output safe? */\n      safe: true,\n      /* Index of renderer in `output_area.display_order` */\n      index: 0\n    });\n  }\n\n  // register the mime type if in Jupyter Notebook environment and previously unregistered\n  if (root.Jupyter !== undefined) {\n    const events = require('base/js/events');\n    const OutputArea = require('notebook/js/outputarea').OutputArea;\n\n    if (OutputArea.prototype.mime_types().indexOf(EXEC_MIME_TYPE) == -1) {\n      register_renderer(events, OutputArea);\n    }\n  }\n  if (typeof (root._bokeh_timeout) === \"undefined\" || force === true) {\n    root._bokeh_timeout = Date.now() + 5000;\n    root._bokeh_failed_load = false;\n  }\n\n  const NB_LOAD_WARNING = {'data': {'text/html':\n     \"<div style='background-color: #fdd'>\\n\"+\n     \"<p>\\n\"+\n     \"BokehJS does not appear to have successfully loaded. If loading BokehJS from CDN, this \\n\"+\n     \"may be due to a slow or bad network connection. Possible fixes:\\n\"+\n     \"</p>\\n\"+\n     \"<ul>\\n\"+\n     \"<li>re-rerun `output_notebook()` to attempt to load from CDN again, or</li>\\n\"+\n     \"<li>use INLINE resources instead, as so:</li>\\n\"+\n     \"</ul>\\n\"+\n     \"<code>\\n\"+\n     \"from bokeh.resources import INLINE\\n\"+\n     \"output_notebook(resources=INLINE)\\n\"+\n     \"</code>\\n\"+\n     \"</div>\"}};\n\n  function display_loaded(error = null) {\n    const el = document.getElementById(\"c5b3ff15-26d8-43f5-bf71-aeb4a5d5669c\");\n    if (el != null) {\n      const html = (() => {\n        if (typeof root.Bokeh === \"undefined\") {\n          if (error == null) {\n            return \"BokehJS is loading ...\";\n          } else {\n            return \"BokehJS failed to load.\";\n          }\n        } else {\n          const prefix = `BokehJS ${root.Bokeh.version}`;\n          if (error == null) {\n            return `${prefix} successfully loaded.`;\n          } else {\n            return `${prefix} <b>encountered errors</b> while loading and may not function as expected.`;\n          }\n        }\n      })();\n      el.innerHTML = html;\n\n      if (error != null) {\n        const wrapper = document.createElement(\"div\");\n        wrapper.style.overflow = \"auto\";\n        wrapper.style.height = \"5em\";\n        wrapper.style.resize = \"vertical\";\n        const content = document.createElement(\"div\");\n        content.style.fontFamily = \"monospace\";\n        content.style.whiteSpace = \"pre-wrap\";\n        content.style.backgroundColor = \"rgb(255, 221, 221)\";\n        content.textContent = error.stack ?? error.toString();\n        wrapper.append(content);\n        el.append(wrapper);\n      }\n    } else if (Date.now() < root._bokeh_timeout) {\n      setTimeout(() => display_loaded(error), 100);\n    }\n  }\n\n  function run_callbacks() {\n    try {\n      root._bokeh_onload_callbacks.forEach(function(callback) {\n        if (callback != null)\n          callback();\n      });\n    } finally {\n      delete root._bokeh_onload_callbacks\n    }\n    console.debug(\"Bokeh: all callbacks have finished\");\n  }\n\n  function load_libs(css_urls, js_urls, callback) {\n    if (css_urls == null) css_urls = [];\n    if (js_urls == null) js_urls = [];\n\n    root._bokeh_onload_callbacks.push(callback);\n    if (root._bokeh_is_loading > 0) {\n      console.debug(\"Bokeh: BokehJS is being loaded, scheduling callback at\", now());\n      return null;\n    }\n    if (js_urls == null || js_urls.length === 0) {\n      run_callbacks();\n      return null;\n    }\n    console.debug(\"Bokeh: BokehJS not loaded, scheduling load and callback at\", now());\n    root._bokeh_is_loading = css_urls.length + js_urls.length;\n\n    function on_load() {\n      root._bokeh_is_loading--;\n      if (root._bokeh_is_loading === 0) {\n        console.debug(\"Bokeh: all BokehJS libraries/stylesheets loaded\");\n        run_callbacks()\n      }\n    }\n\n    function on_error(url) {\n      console.error(\"failed to load \" + url);\n    }\n\n    for (let i = 0; i < css_urls.length; i++) {\n      const url = css_urls[i];\n      const element = document.createElement(\"link\");\n      element.onload = on_load;\n      element.onerror = on_error.bind(null, url);\n      element.rel = \"stylesheet\";\n      element.type = \"text/css\";\n      element.href = url;\n      console.debug(\"Bokeh: injecting link tag for BokehJS stylesheet: \", url);\n      document.body.appendChild(element);\n    }\n\n    for (let i = 0; i < js_urls.length; i++) {\n      const url = js_urls[i];\n      const element = document.createElement('script');\n      element.onload = on_load;\n      element.onerror = on_error.bind(null, url);\n      element.async = false;\n      element.src = url;\n      console.debug(\"Bokeh: injecting script tag for BokehJS library: \", url);\n      document.head.appendChild(element);\n    }\n  };\n\n  function inject_raw_css(css) {\n    const element = document.createElement(\"style\");\n    element.appendChild(document.createTextNode(css));\n    document.body.appendChild(element);\n  }\n\n  const js_urls = [\"https://cdn.bokeh.org/bokeh/release/bokeh-3.8.0.min.js\", \"https://cdn.bokeh.org/bokeh/release/bokeh-gl-3.8.0.min.js\", \"https://cdn.bokeh.org/bokeh/release/bokeh-widgets-3.8.0.min.js\", \"https://cdn.bokeh.org/bokeh/release/bokeh-tables-3.8.0.min.js\", \"https://cdn.bokeh.org/bokeh/release/bokeh-mathjax-3.8.0.min.js\"];\n  const css_urls = [];\n\n  const inline_js = [    function(Bokeh) {\n      Bokeh.set_log_level(\"info\");\n    },\nfunction(Bokeh) {\n    }\n  ];\n\n  function run_inline_js() {\n    if (root.Bokeh !== undefined || force === true) {\n      try {\n            for (let i = 0; i < inline_js.length; i++) {\n      inline_js[i].call(root, root.Bokeh);\n    }\n\n      } catch (error) {display_loaded(error);throw error;\n      }if (force === true) {\n        display_loaded();\n      }} else if (Date.now() < root._bokeh_timeout) {\n      setTimeout(run_inline_js, 100);\n    } else if (!root._bokeh_failed_load) {\n      console.log(\"Bokeh: BokehJS failed to load within specified timeout.\");\n      root._bokeh_failed_load = true;\n    } else if (force !== true) {\n      const cell = $(document.getElementById(\"c5b3ff15-26d8-43f5-bf71-aeb4a5d5669c\")).parents('.cell').data().cell;\n      cell.output_area.append_execute_result(NB_LOAD_WARNING)\n    }\n  }\n\n  if (root._bokeh_is_loading === 0) {\n    console.debug(\"Bokeh: BokehJS loaded, going straight to plotting\");\n    run_inline_js();\n  } else {\n    load_libs(css_urls, js_urls, function() {\n      console.debug(\"Bokeh: BokehJS plotting callback run at\", now());\n      run_inline_js();\n    });\n  }\n}(window));",
      "application/vnd.bokehjs_load.v0+json": ""
     },
     "metadata": {},
     "output_type": "display_data"
    }
   ],
   "source": [
    "#from  train_highway_env import *\n",
    "from bokeh.io import output_notebook\n",
    "from bokeh.plotting import show\n",
    "import rlrom.plots\n",
    "from rlrom.testers import RLTester\n",
    "import rlrom.utils as utils\n",
    "from pprint import pprint\n",
    "output_notebook()  "
   ]
  },
  {
   "cell_type": "code",
   "execution_count": 4,
   "metadata": {},
   "outputs": [
    {
     "name": "stdout",
     "output_type": "stream",
     "text": [
      "Imported module highway\n",
      "{'cfg_env': {'manual_control': True},\n",
      " 'cfg_test': {'init_seeds': 1,\n",
      "              'num_ep': 5,\n",
      "              'num_steps': 100,\n",
      "              'render_mode': 'human'},\n",
      " 'env_name': 'highway-v0',\n",
      " 'import_module': 'highway',\n",
      " 'make_env_test': 'make_env_test',\n",
      " 'make_env_train': 'make_env_train'}\n"
     ]
    }
   ],
   "source": [
    "cfg = utils.load_cfg('cfg_hw_min.yml')\n",
    "pprint(cfg)\n"
   ]
  },
  {
   "cell_type": "code",
   "execution_count": 5,
   "metadata": {},
   "outputs": [
    {
     "name": "stdout",
     "output_type": "stream",
     "text": [
      "Imported module highway\n",
      "INFO: manual_control set to True, stay alert.\n",
      ".....\n",
      "mean_ep_len: 26.4 | mean_ep_rew: 24.46\n"
     ]
    }
   ],
   "source": [
    "T= RLTester(cfg)\n",
    "Tres= T.run_cfg_test()\n",
    "T.print_res_all_ep(Tres)"
   ]
  },
  {
   "cell_type": "markdown",
   "metadata": {},
   "source": [
    "## Testing and Monitoring agents"
   ]
  },
  {
   "cell_type": "markdown",
   "metadata": {},
   "source": [
    "RLROM works with using configuration files in the YAML format. E.g., below is the `cfg_main0.yml` configuration file.\n",
    "\n",
    "```yaml\n",
    "env_name: highway-v0\n",
    "cfg_env: cfg_env.yml\n",
    "cfg_specs: cfg_specs0.yml\n",
    "cfg_train: \n",
    "  model_name: basic\n",
    "  model_path: ./models\n",
    "  algo:\n",
    "    ppo:    \n",
    "      batch_size: 128\n",
    "      n_envs: 12\n",
    "      neurons: 128\n",
    "      learning_rate: 5e-4    \n",
    "      total_timesteps: 200_000\n",
    "      tensorboard:\n",
    "        tb_path: ./tb_logs    \n",
    "cfg_test: \n",
    "  init_seeds: 0\n",
    "  num_ep: 5\n",
    "  num_steps: 100 \n",
    "  render: true\n",
    "```\n",
    "Note that sections can be included from other files, such as `cfg_env.yml` and `cfg_specs0.yml`.\n"
   ]
  },
  {
   "cell_type": "markdown",
   "metadata": {},
   "source": [
    "The main class of RLROM is named `RLTester`. It is instantiated with a configuration file or dictionary. "
   ]
  },
  {
   "cell_type": "code",
   "execution_count": null,
   "metadata": {},
   "outputs": [],
   "source": [
    "#cfg ='cfg_main0.yml'\n",
    "#cfg ='cfg_main0_with_obs.yml'\n",
    "cfg ='cfg_main_right_lane_with_obs.yml'\n",
    "T = RLTester(cfg)"
   ]
  },
  {
   "cell_type": "markdown",
   "metadata": {},
   "source": [
    "The method `run_cfg_test()` will run the tests as specified in `cfg_test`, in that case 5 episodes with seeds 0 to 4."
   ]
  },
  {
   "cell_type": "code",
   "execution_count": null,
   "metadata": {},
   "outputs": [],
   "source": [
    "Tres = T.run_cfg_test()\n",
    "T.print_res_all_ep(Tres)"
   ]
  },
  {
   "cell_type": "markdown",
   "metadata": {},
   "source": [
    "`Tres` contains a number of evaluations for the different formulas defined in the configuration files. `print_res_all_ep` prints results for the formulas in [cfg_eval.yml](cfg_eval.yml). The `Tres['res']` dictionnary also contains results for the reward_formulas. E.g.,  "
   ]
  },
  {
   "cell_type": "code",
   "execution_count": null,
   "metadata": {},
   "outputs": [],
   "source": [
    "Tres['res']['danger']"
   ]
  },
  {
   "cell_type": "markdown",
   "metadata": {},
   "source": [
    "Here, the `num_sat` shows the number of steps for each episode in which the `danger` formula is true. We can plot signals in episode 3 to see what happens:"
   ]
  },
  {
   "cell_type": "code",
   "execution_count": null,
   "metadata": {},
   "outputs": [],
   "source": [
    "lay = \"\"\"\n",
    "_ep(1)\n",
    "car1_danger, car2_danger\n",
    "sat(danger)\n",
    "reward\n",
    "\"\"\"\n",
    "fig, _=  T.get_fig(lay)\n",
    "show(fig)"
   ]
  },
  {
   "cell_type": "markdown",
   "metadata": {},
   "source": [
    "# Testing Models"
   ]
  },
  {
   "cell_type": "markdown",
   "metadata": {},
   "source": [
    "To train models using the `cfg_main.yml` configuration, we used the script `train_highway_env.py`, using the command:\n",
    "```\n",
    "$ python train_highway_env.py cfg_main.yml\n",
    "```\n",
    "Below, we test several pre-trained model. All formulas are defined in [hw-env_specs.stl](hw-env_specs.stl). The results below show that the trained model overall tend to behave in accordance to the formulas used for training; they can certainly be further improved.  "
   ]
  },
  {
   "cell_type": "code",
   "execution_count": null,
   "metadata": {},
   "outputs": [],
   "source": [
    "num_tests= 100\n",
    "render   = False"
   ]
  },
  {
   "cell_type": "markdown",
   "metadata": {},
   "source": [
    "### Baseline: collision + danger + speed"
   ]
  },
  {
   "cell_type": "markdown",
   "metadata": {},
   "source": [
    "Basic configuration. Collision penalty, adding danger formula with weight -20, velocity reward:\n",
    "```yaml\n",
    "# linear combination : new_reward = reward + w1 rho1 + w2 rho2 etc\n",
    "reward_formulas:\n",
    "  ego_fast:\n",
    "    past_horizon: 0\n",
    "    weight: .1\n",
    "  danger:\n",
    "    past_horizon: 0\n",
    "    weight: -20\n",
    "    lower_bound: 0.0 # we do not want reward when no danger, so we cap negative values for danger to 0. \n",
    "```"
   ]
  },
  {
   "cell_type": "code",
   "execution_count": null,
   "metadata": {},
   "outputs": [],
   "source": [
    "cfg = utils.load_cfg('cfg_main0.yml')\n",
    "cfg['cfg_test']['num_ep'] = num_tests\n",
    "cfg['cfg_test']['render'] = render\n",
    "cfg['cfg_env']['manual_control'] = False\n",
    "cfg0=cfg\n",
    "T0 = RLTester(cfg0)\n",
    "T0_res = T0.run_cfg_test()\n",
    "T0.print_res_all_ep(T0_res)"
   ]
  },
  {
   "cell_type": "markdown",
   "metadata": {},
   "source": [
    "## Baseline with obs"
   ]
  },
  {
   "cell_type": "markdown",
   "metadata": {},
   "source": [
    "Same thing, but adding danger predicate in observation: \n",
    "\n",
    "```yaml\n",
    "obs_formulas:\n",
    "  danger:\n",
    "    obs_name: 'obs_danger'\n",
    "    past_horizon: 0\n",
    "\n",
    "reward_formulas:\n",
    "  ego_fast:\n",
    "    past_horizon: 0\n",
    "    weight: .1\n",
    "  danger:\n",
    "    past_horizon: 0\n",
    "    weight: -20\n",
    "    lower_bound: 0.0\n",
    "```"
   ]
  },
  {
   "cell_type": "code",
   "execution_count": null,
   "metadata": {},
   "outputs": [],
   "source": [
    "cfg = utils.load_cfg('cfg_main0_with_obs.yml')\n",
    "cfg['cfg_test']['num_ep'] = num_tests\n",
    "cfg['cfg_test']['render'] = render\n",
    "cfg['cfg_env']['manual_control'] = False\n",
    "cfg0_obs=cfg\n",
    "T0_obs = RLTester(cfg0_obs)\n",
    "T0_obs_res = T0_obs.run_cfg_test()\n",
    "T0_obs.print_res_all_ep(T0_obs_res)"
   ]
  },
  {
   "cell_type": "markdown",
   "metadata": {},
   "source": [
    "Overall performance is improved about 10%, as seen by `mean_ep_len` and `sum` for `ego_moves`. "
   ]
  },
  {
   "cell_type": "markdown",
   "metadata": {},
   "source": [
    "## Right lane with obs\n",
    "\n",
    "Here we enforce the agent to drive in the right lane.\n",
    "```yaml\n",
    "obs_formulas: \n",
    "  ego_right_lane:\n",
    "    obs_name: 'obs_ego_right_lane'\n",
    "    past_horizon: 0\n",
    "  danger:\n",
    "    obs_name: 'obs_danger'\n",
    "    past_horizon: 0\n",
    "\n",
    "reward_formulas:\n",
    "  ego_right_lane:\n",
    "    past_horizon: 0\n",
    "    weight: 1      \n",
    "  ego_fast:\n",
    "    past_horizon: 0\n",
    "    weight: .1\n",
    "  danger:\n",
    "    past_horizon: 0\n",
    "    weight: -20\n",
    "    lower_bound: 0.0\n",
    "```"
   ]
  },
  {
   "cell_type": "code",
   "execution_count": null,
   "metadata": {},
   "outputs": [],
   "source": [
    "cfg = utils.load_cfg('cfg_main_right_lane_with_obs.yml')\n",
    "cfg['cfg_test']['num_ep'] = num_tests\n",
    "cfg['cfg_test']['render'] = render\n",
    "cfg['cfg_env']['manual_control'] = False\n",
    "cfg_right_lane_obs=cfg\n",
    "Tright_lane_obs = RLTester(cfg_right_lane_obs)\n",
    "Tright_lane_obs_res = Tright_lane_obs.run_cfg_test()\n",
    "Tright_lane_obs.print_res_all_ep(Tright_lane_obs_res)"
   ]
  },
  {
   "cell_type": "markdown",
   "metadata": {},
   "source": [
    "About 50% of the episodes satisfy the formula `phi_right_lane`. "
   ]
  },
  {
   "cell_type": "markdown",
   "metadata": {},
   "source": [
    "## No passing on right "
   ]
  },
  {
   "cell_type": "markdown",
   "metadata": {},
   "source": [
    "Here we tried to prevent the agent to pass other vehicules on their closest lane on the right. \n",
    "\n",
    "```yaml\n",
    "obs_formulas: \n",
    "  car_left:\n",
    "    obs_name: 'obs_car_left'\n",
    "    past_horizon: 0\n",
    "  danger:\n",
    "    obs_name: 'obs_danger'\n",
    "    past_horizon: 0\n",
    "\n",
    "reward_formulas:\n",
    "  ego_fast:\n",
    "    past_horizon: 0\n",
    "    weight: .1\n",
    "  danger:\n",
    "    past_horizon: 0\n",
    "    weight: -25\n",
    "    lower_bound: 0.0\n",
    "  car_left:\n",
    "    past_horizon: 0\n",
    "    weight: -25\n",
    "    lower_bound: 0\n",
    "```"
   ]
  },
  {
   "cell_type": "code",
   "execution_count": null,
   "metadata": {},
   "outputs": [],
   "source": [
    "cfg = utils.load_cfg('cfg_main_car_left.yml')\n",
    "cfg['cfg_test']['num_ep'] = num_tests\n",
    "cfg['cfg_test']['render'] = render\n",
    "cfg['cfg_env']['manual_control'] = False\n",
    "cfg_car_left=cfg\n",
    "Tcar_left = RLTester(cfg_car_left)\n",
    "Tcar_left_res = Tcar_left.run_cfg_test()\n",
    "Tcar_left.print_res_all_ep(Tcar_left_res)"
   ]
  },
  {
   "cell_type": "markdown",
   "metadata": {},
   "source": [
    "Results show a decrease of satisfaction of `car_left` and increase of `phi_car_left` which says that ego should not stay on the right of a car more than 10 steps (`phi_car_left := alw_[0,50] ev_[0,10] (not car_left)` )"
   ]
  }
 ],
 "metadata": {
  "kernelspec": {
   "display_name": "rlrom (3.10.12)",
   "language": "python",
   "name": "python3"
  },
  "language_info": {
   "codemirror_mode": {
    "name": "ipython",
    "version": 3
   },
   "file_extension": ".py",
   "mimetype": "text/x-python",
   "name": "python",
   "nbconvert_exporter": "python",
   "pygments_lexer": "ipython3",
   "version": "3.10.12"
  }
 },
 "nbformat": 4,
 "nbformat_minor": 2
}
