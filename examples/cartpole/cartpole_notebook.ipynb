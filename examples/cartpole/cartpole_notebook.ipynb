{
 "cells": [
  {
   "cell_type": "code",
   "execution_count": 1,
   "id": "2a45da62",
   "metadata": {},
   "outputs": [
    {
     "name": "stderr",
     "output_type": "stream",
     "text": [
      "/home/alex/rlrom_env/lib/python3.10/site-packages/tqdm/auto.py:21: TqdmWarning: IProgress not found. Please update jupyter and ipywidgets. See https://ipywidgets.readthedocs.io/en/stable/user_install.html\n",
      "  from .autonotebook import tqdm as notebook_tqdm\n"
     ]
    }
   ],
   "source": [
    "import os\n",
    "import sys\n",
    "sys.path.insert(0, os.path.abspath('../..'))\n",
    "from rlrom.testers import RLTester"
   ]
  },
  {
   "cell_type": "code",
   "execution_count": 3,
   "id": "ccc1cda8",
   "metadata": {},
   "outputs": [],
   "source": [
    "tester = RLTester('cfg_hug.yml')\n"
   ]
  },
  {
   "cell_type": "code",
   "execution_count": 5,
   "id": "7b4ebf0f",
   "metadata": {},
   "outputs": [
    {
     "name": "stdout",
     "output_type": "stream",
     "text": [
      "ModelInfo(id='ThomasSimonini/demo-hf-CartPole-v1', author=None, sha=None, created_at=datetime.datetime(2022, 3, 2, 23, 29, 5, tzinfo=datetime.timezone.utc), last_modified=None, private=False, disabled=None, downloads=2, downloads_all_time=None, gated=None, gguf=None, inference=None, inference_provider_mapping=None, likes=0, library_name='stable-baselines3', tags=['stable-baselines3', 'CartPole-v1', 'deep-reinforcement-learning', 'reinforcement-learning', 'model-index', 'region:us'], pipeline_tag='reinforcement-learning', mask_token=None, card_data=None, widget_data=None, model_index=None, config=None, transformers_info=None, trending_score=0, siblings=None, spaces=None, safetensors=None, security_repo_status=None, xet_enabled=None)\n"
     ]
    }
   ],
   "source": [
    "list_models, _ = tester.find_huggingface_models()\n",
    "print(list_models[0])"
   ]
  },
  {
   "cell_type": "code",
   "execution_count": null,
   "id": "41e65135",
   "metadata": {},
   "outputs": [
    {
     "name": "stdout",
     "output_type": "stream",
     "text": [
      ".....\n"
     ]
    }
   ],
   "source": [
    "test_result = tester.run_cfg_test()\n"
   ]
  },
  {
   "cell_type": "code",
   "execution_count": null,
   "id": "1788e6e1",
   "metadata": {},
   "outputs": [],
   "source": []
  }
 ],
 "metadata": {
  "kernelspec": {
   "display_name": "rlrom_env (3.10.18)",
   "language": "python",
   "name": "python3"
  },
  "language_info": {
   "codemirror_mode": {
    "name": "ipython",
    "version": 3
   },
   "file_extension": ".py",
   "mimetype": "text/x-python",
   "name": "python",
   "nbconvert_exporter": "python",
   "pygments_lexer": "ipython3",
   "version": "3.10.18"
  }
 },
 "nbformat": 4,
 "nbformat_minor": 5
}
