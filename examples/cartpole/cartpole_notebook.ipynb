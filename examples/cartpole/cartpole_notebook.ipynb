{
 "cells": [
  {
   "cell_type": "code",
   "execution_count": null,
   "id": "2a45da62",
   "metadata": {},
   "outputs": [],
   "source": [
    "from rlrom.testers import RLTester\n",
    "import rlrom.utils as utils\n",
    "from bokeh.io import output_notebook\n",
    "from bokeh.plotting import show\n",
    "output_notebook()\n",
    "from pprint import pprint\n",
    "from gymnasium import spaces"
   ]
  },
  {
   "cell_type": "code",
   "execution_count": null,
   "id": "27ad7a25",
   "metadata": {},
   "outputs": [],
   "source": [
    "cfg = utils.load_cfg('cfg0_hug_specs.yml')\n",
    "#cfg = utils.load_cfg('cfg_min.yml')\n",
    "pprint(cfg)\n"
   ]
  },
  {
   "cell_type": "code",
   "execution_count": null,
   "id": "82fdfb51",
   "metadata": {},
   "outputs": [],
   "source": [
    "T = RLTester(cfg)\n",
    "Tres= T.run_cfg_test()"
   ]
  },
  {
   "cell_type": "code",
   "execution_count": null,
   "id": "5190f1d2",
   "metadata": {},
   "outputs": [],
   "source": [
    "lay = \"\"\"\n",
    "_ep(1)\n",
    " x\n",
    " sat(far_left)\n",
    " reward\n",
    "\"\"\"\n",
    "fig, _=  T.get_fig(lay)\n",
    "show(fig)"
   ]
  }
 ],
 "metadata": {
  "kernelspec": {
   "display_name": "rlrom (3.10.12)",
   "language": "python",
   "name": "python3"
  },
  "language_info": {
   "codemirror_mode": {
    "name": "ipython",
    "version": 3
   },
   "file_extension": ".py",
   "mimetype": "text/x-python",
   "name": "python",
   "nbconvert_exporter": "python",
   "pygments_lexer": "ipython3",
   "version": "3.10.12"
  }
 },
 "nbformat": 4,
 "nbformat_minor": 5
}
