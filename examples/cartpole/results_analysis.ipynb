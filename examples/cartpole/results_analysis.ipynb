{
 "cells": [
  {
   "cell_type": "code",
   "execution_count": 1,
   "id": "7de9853e",
   "metadata": {},
   "outputs": [
    {
     "name": "stderr",
     "output_type": "stream",
     "text": [
      "2025-10-16 09:31:45.408124: I tensorflow/core/util/port.cc:153] oneDNN custom operations are on. You may see slightly different numerical results due to floating-point round-off errors from different computation orders. To turn them off, set the environment variable `TF_ENABLE_ONEDNN_OPTS=0`.\n",
      "2025-10-16 09:31:45.438383: I tensorflow/core/platform/cpu_feature_guard.cc:210] This TensorFlow binary is optimized to use available CPU instructions in performance-critical operations.\n",
      "To enable the following instructions: AVX2 AVX_VNNI FMA, in other operations, rebuild TensorFlow with the appropriate compiler flags.\n",
      "2025-10-16 09:31:46.228076: I tensorflow/core/util/port.cc:153] oneDNN custom operations are on. You may see slightly different numerical results due to floating-point round-off errors from different computation orders. To turn them off, set the environment variable `TF_ENABLE_ONEDNN_OPTS=0`.\n"
     ]
    }
   ],
   "source": [
    "import rlrom.utils as rlu\n",
    "import polars as pl"
   ]
  },
  {
   "cell_type": "markdown",
   "id": "61266a2f",
   "metadata": {},
   "source": [
    "# Collect existing training folders and load results"
   ]
  },
  {
   "cell_type": "code",
   "execution_count": 2,
   "id": "4d9ce5c4",
   "metadata": {},
   "outputs": [
    {
     "name": "stdout",
     "output_type": "stream",
     "text": [
      "loading field [ specs ] from STL file [ cartpole.stl ]\n",
      "loading field [ ppo ] from YAML file [ cartpole_ppo.yml ]\n",
      "shape: (3, 4)\n",
      "┌────────────┬─────┬─────────────────────────────────┬─────────────────────────────────┐\n",
      "│ date       ┆ num ┆ training_files                  ┆ path                            │\n",
      "│ ---        ┆ --- ┆ ---                             ┆ ---                             │\n",
      "│ date       ┆ i64 ┆ object                          ┆ str                             │\n",
      "╞════════════╪═════╪═════════════════════════════════╪═════════════════════════════════╡\n",
      "│ 2025-10-02 ┆ 0   ┆ naive plan: (run LazyFrame.exp… ┆ /home/alex/workspace/rlrom/exa… │\n",
      "│ 2025-10-15 ┆ 0   ┆ naive plan: (run LazyFrame.exp… ┆ /home/alex/workspace/rlrom/exa… │\n",
      "│ 2025-10-15 ┆ 1   ┆ naive plan: (run LazyFrame.exp… ┆ /home/alex/workspace/rlrom/exa… │\n",
      "└────────────┴─────┴─────────────────────────────────┴─────────────────────────────────┘\n"
     ]
    }
   ],
   "source": [
    "cfg_file= 'cfg0tr_ppo_specs.yml'\n",
    "cfg = rlu.load_cfg(cfg_file)\n",
    "df_all_training_files = rlu.get_df_all_training_files(cfg)\n",
    "print(df_all_training_files.collect())"
   ]
  },
  {
   "cell_type": "markdown",
   "id": "4ac2b963",
   "metadata": {},
   "source": [
    "## Load file results"
   ]
  },
  {
   "cell_type": "code",
   "execution_count": 3,
   "id": "174c4eeb",
   "metadata": {},
   "outputs": [],
   "source": [
    "df_all_res = rlu.get_df_load_all_training_res(df_all_training_files)\n"
   ]
  },
  {
   "cell_type": "code",
   "execution_count": 5,
   "id": "eba01236",
   "metadata": {},
   "outputs": [
    {
     "name": "stdout",
     "output_type": "stream",
     "text": [
      "shape: (5, 10)\n",
      "┌───────┬────────────┬────────────┬────────────┬───┬───────────┬───────────┬───────────┬───────────┐\n",
      "│ steps ┆ model_file ┆ path       ┆ res        ┆ … ┆ cart_on_l ┆ phi_left_ ┆ reward_fo ┆ label     │\n",
      "│ ---   ┆ s          ┆ ---        ┆ ---        ┆   ┆ eft       ┆ goal      ┆ rmulas    ┆ ---       │\n",
      "│ i64   ┆ ---        ┆ str        ┆ struct[4]  ┆   ┆ ---       ┆ ---       ┆ ---       ┆ str       │\n",
      "│       ┆ str        ┆            ┆            ┆   ┆ struct[3] ┆ struct[2] ┆ struct[1] ┆           │\n",
      "╞═══════╪════════════╪════════════╪════════════╪═══╪═══════════╪═══════════╪═══════════╪═══════════╡\n",
      "│ 10000 ┆ model_step ┆ /home/alex ┆ {{[0.0,    ┆ … ┆ {-0.25013 ┆ {-0.47302 ┆ {{0.0,-0. ┆ Training0 │\n",
      "│       ┆ _10000.yml ┆ /workspace ┆ -0.428293, ┆   ┆ 1,0.0,-6. ┆ 3,0.0}    ┆ 250131,-6 ┆           │\n",
      "│       ┆            ┆ /rlrom/exa ┆ …          ┆   ┆ 703729}   ┆           ┆ .703729}} ┆           │\n",
      "│       ┆            ┆ …          ┆ -0.497704… ┆   ┆           ┆           ┆           ┆           │\n",
      "│ 20000 ┆ model_step ┆ /home/alex ┆ {{[0.0,    ┆ … ┆ {-0.26658 ┆ {-0.50118 ┆ {{1.1,-0. ┆ Training0 │\n",
      "│       ┆ _20000.yml ┆ /workspace ┆ -0.489555, ┆   ┆ 1,1.1,-18 ┆ 3,0.0}    ┆ 266581,-1 ┆           │\n",
      "│       ┆            ┆ /rlrom/exa ┆ …          ┆   ┆ .211938}  ┆           ┆ 8.211938} ┆           │\n",
      "│       ┆            ┆ …          ┆ -0.513838… ┆   ┆           ┆           ┆ }         ┆           │\n",
      "│ 30000 ┆ model_step ┆ /home/alex ┆ {{[0.02786 ┆ … ┆ {-0.39844 ┆ {-0.86192 ┆ {{2.7,-0. ┆ Training0 │\n",
      "│       ┆ _30000.yml ┆ /workspace ┆ 2,         ┆   ┆ 1,2.7,-56 ┆ 2,0.0}    ┆ 398441,-5 ┆           │\n",
      "│       ┆            ┆ /rlrom/exa ┆ -0.434565, ┆   ┆ .914397}  ┆           ┆ 6.914397} ┆           │\n",
      "│       ┆            ┆ …          ┆ … -1.0…    ┆   ┆           ┆           ┆ }         ┆           │\n",
      "│ 40000 ┆ model_step ┆ /home/alex ┆ {{[0.04038 ┆ … ┆ {-0.38973 ┆ {-0.69586 ┆ {{11.2,-0 ┆ Training0 │\n",
      "│       ┆ _40000.yml ┆ /workspace ┆ 6,         ┆   ┆ 6,11.2,-8 ┆ 8,0.0}    ┆ .389736,- ┆           │\n",
      "│       ┆            ┆ /rlrom/exa ┆ -0.340625, ┆   ┆ 3.257149} ┆           ┆ 83.257149 ┆           │\n",
      "│       ┆            ┆ …          ┆ … -1.1…    ┆   ┆           ┆           ┆ }}        ┆           │\n",
      "│ 50000 ┆ model_step ┆ /home/alex ┆ {{[0.06251 ┆ … ┆ {-0.20427 ┆ {-0.24064 ┆ {{21.6,-0 ┆ Training0 │\n",
      "│       ┆ _50000.yml ┆ /workspace ┆ ,          ┆   ┆ 3,21.6,-8 ┆ ,0.0}     ┆ .204273,- ┆           │\n",
      "│       ┆            ┆ /rlrom/exa ┆ -0.464411, ┆   ┆ 0.68572}  ┆           ┆ 80.68572} ┆           │\n",
      "│       ┆            ┆ …          ┆ … -0.46…   ┆   ┆           ┆           ┆ }         ┆           │\n",
      "└───────┴────────────┴────────────┴────────────┴───┴───────────┴───────────┴───────────┴───────────┘\n",
      "shape: (5, 10)\n",
      "┌────────┬────────────┬────────────┬───────────┬───┬───────────┬───────────┬───────────┬───────────┐\n",
      "│ steps  ┆ model_file ┆ path       ┆ res       ┆ … ┆ cart_on_l ┆ phi_left_ ┆ reward_fo ┆ label     │\n",
      "│ ---    ┆ s          ┆ ---        ┆ ---       ┆   ┆ eft       ┆ goal      ┆ rmulas    ┆ ---       │\n",
      "│ i64    ┆ ---        ┆ str        ┆ struct[4] ┆   ┆ ---       ┆ ---       ┆ ---       ┆ str       │\n",
      "│        ┆ str        ┆            ┆           ┆   ┆ struct[3] ┆ struct[2] ┆ struct[1] ┆           │\n",
      "╞════════╪════════════╪════════════╪═══════════╪═══╪═══════════╪═══════════╪═══════════╪═══════════╡\n",
      "│ 170000 ┆ model_step ┆ /home/alex ┆ {{[0.7257 ┆ … ┆ {0.329472 ┆ {0.006019 ┆ {{402.2,0 ┆ Training2 │\n",
      "│        ┆ _170000.ym ┆ /workspace ┆ 58,       ┆   ┆ ,402.2,17 ┆ ,0.9}     ┆ .329472,1 ┆           │\n",
      "│        ┆ l          ┆ /rlrom/exa ┆ 0.038829, ┆   ┆ 9.135991} ┆           ┆ 79.135991 ┆           │\n",
      "│        ┆            ┆ …          ┆ … 0.032…  ┆   ┆           ┆           ┆ }}        ┆           │\n",
      "│ 180000 ┆ model_step ┆ /home/alex ┆ {{[0.7933 ┆ … ┆ {0.416293 ┆ {0.083173 ┆ {{449.1,0 ┆ Training2 │\n",
      "│        ┆ _180000.ym ┆ /workspace ┆ 95,       ┆   ┆ ,449.1,20 ┆ ,1.0}     ┆ .416293,2 ┆           │\n",
      "│        ┆ l          ┆ /rlrom/exa ┆ 0.045465, ┆   ┆ 8.146704} ┆           ┆ 08.146704 ┆           │\n",
      "│        ┆            ┆ …          ┆ … 0.037…  ┆   ┆           ┆           ┆ }}        ┆           │\n",
      "│ 190000 ┆ model_step ┆ /home/alex ┆ {{[0.8181 ┆ … ┆ {0.421696 ┆ {0.084683 ┆ {{449.8,0 ┆ Training2 │\n",
      "│        ┆ _190000.ym ┆ /workspace ┆ 05,       ┆   ┆ ,449.8,21 ┆ ,1.0}     ┆ .421696,2 ┆           │\n",
      "│        ┆ l          ┆ /rlrom/exa ┆ 0.048013, ┆   ┆ 0.847804} ┆           ┆ 10.847804 ┆           │\n",
      "│        ┆            ┆ …          ┆ … 0.033…  ┆   ┆           ┆           ┆ }}        ┆           │\n",
      "│ 200000 ┆ model_step ┆ /home/alex ┆ {{[0.8211 ┆ … ┆ {0.343743 ┆ {0.004935 ┆ {{405.2,0 ┆ Training2 │\n",
      "│        ┆ _200000.ym ┆ /workspace ┆ 41,       ┆   ┆ ,405.2,18 ┆ ,0.9}     ┆ .343743,1 ┆           │\n",
      "│        ┆ l          ┆ /rlrom/exa ┆ 0.048129, ┆   ┆ 6.90745}  ┆           ┆ 86.90745} ┆           │\n",
      "│        ┆            ┆ …          ┆ … 0.031…  ┆   ┆           ┆           ┆ }         ┆           │\n",
      "│ 204800 ┆ model_step ┆ /home/alex ┆ {{[0.8064 ┆ … ┆ {0.423095 ┆ {0.085782 ┆ {{448.8,0 ┆ Training2 │\n",
      "│        ┆ _204800.ym ┆ /workspace ┆ 35,       ┆   ┆ ,448.8,21 ┆ ,1.0}     ┆ .423095,2 ┆           │\n",
      "│        ┆ l          ┆ /rlrom/exa ┆ 0.046173, ┆   ┆ 1.547731} ┆           ┆ 11.547731 ┆           │\n",
      "│        ┆            ┆ …          ┆ … 0.035…  ┆   ┆           ┆           ┆ }}        ┆           │\n",
      "└────────┴────────────┴────────────┴───────────┴───┴───────────┴───────────┴───────────┴───────────┘\n"
     ]
    }
   ],
   "source": [
    "print(df_all_res.collect().head())\n",
    "print(df_all_res.collect().tail())\n"
   ]
  },
  {
   "cell_type": "markdown",
   "id": "1d53b85f",
   "metadata": {},
   "source": [
    "# Plottng with Matplotlib"
   ]
  },
  {
   "cell_type": "code",
   "execution_count": null,
   "id": "ce597ef1",
   "metadata": {},
   "outputs": [],
   "source": [
    "import rlrom.plots as rlp"
   ]
  },
  {
   "cell_type": "markdown",
   "id": "c5f86135",
   "metadata": {},
   "source": [
    "df_all_res has all training data, with fields from res_all_ep expanded. "
   ]
  },
  {
   "cell_type": "code",
   "execution_count": null,
   "id": "5510bd2f",
   "metadata": {},
   "outputs": [],
   "source": [
    "df_enveloppe = rlu.get_df_mean_min_max_val(df_all_res, 'mean_ep_rew')"
   ]
  },
  {
   "cell_type": "markdown",
   "id": "e94d31ac",
   "metadata": {},
   "source": [
    "# Plotting with plotly"
   ]
  },
  {
   "cell_type": "code",
   "execution_count": 5,
   "id": "97e9fa92",
   "metadata": {},
   "outputs": [],
   "source": [
    "import plotly.express as px"
   ]
  },
  {
   "cell_type": "markdown",
   "id": "8348cf1d",
   "metadata": {},
   "source": [
    "## One training,  episode lengths and rewards"
   ]
  },
  {
   "cell_type": "code",
   "execution_count": 14,
   "id": "a309be7c",
   "metadata": {},
   "outputs": [],
   "source": [
    "\n",
    "df0 = df_all_res.select('steps', 'mean_ep_len', 'mean_ep_rew', 'label').filter(pl.col('label')=='Training0').collect()"
   ]
  },
  {
   "cell_type": "code",
   "execution_count": 15,
   "id": "3cc00650",
   "metadata": {},
   "outputs": [
    {
     "name": "stdout",
     "output_type": "stream",
     "text": [
      "shape: (20, 4)\n",
      "┌────────┬─────────────┬─────────────┬───────────┐\n",
      "│ steps  ┆ mean_ep_len ┆ mean_ep_rew ┆ label     │\n",
      "│ ---    ┆ ---         ┆ ---         ┆ ---       │\n",
      "│ i64    ┆ f64         ┆ f64         ┆ str       │\n",
      "╞════════╪═════════════╪═════════════╪═══════════╡\n",
      "│ 10000  ┆ 27.5        ┆ 27.5        ┆ Training0 │\n",
      "│ 20000  ┆ 62.2        ┆ 62.770565   ┆ Training0 │\n",
      "│ 30000  ┆ 137.5       ┆ 138.833595  ┆ Training0 │\n",
      "│ 40000  ┆ 214.0       ┆ 218.20653   ┆ Training0 │\n",
      "│ 50000  ┆ 395.0       ┆ 405.298417  ┆ Training0 │\n",
      "│ …      ┆ …           ┆ …           ┆ …         │\n",
      "│ 160000 ┆ 451.3       ┆ 788.177772  ┆ Training0 │\n",
      "│ 170000 ┆ 451.2       ┆ 802.833107  ┆ Training0 │\n",
      "│ 180000 ┆ 451.2       ┆ 805.611899  ┆ Training0 │\n",
      "│ 190000 ┆ 500.0       ┆ 889.710734  ┆ Training0 │\n",
      "│ 200000 ┆ 451.3       ┆ 815.054998  ┆ Training0 │\n",
      "└────────┴─────────────┴─────────────┴───────────┘\n"
     ]
    }
   ],
   "source": [
    "print(df)"
   ]
  },
  {
   "cell_type": "code",
   "execution_count": null,
   "id": "81aca0f5",
   "metadata": {},
   "outputs": [
    {
     "data": {
      "application/vnd.plotly.v1+json": {
       "config": {
        "plotlyServerURL": "https://plot.ly"
       },
       "data": [
        {
         "hovertemplate": "variable=mean_ep_len<br>steps=%{x}<br>value=%{y}<extra></extra>",
         "legendgroup": "mean_ep_len",
         "line": {
          "color": "#636efa",
          "dash": "solid"
         },
         "marker": {
          "symbol": "circle"
         },
         "mode": "lines",
         "name": "mean_ep_len",
         "orientation": "v",
         "showlegend": true,
         "type": "scatter",
         "x": {
          "bdata": "ECcAACBOAAAwdQAAQJwAAFDDAABg6gAAcBEBAIA4AQCQXwEAoIYBALCtAQDA1AEA0PsBAOAiAgDwSQIAAHECABCYAgAgvwIAMOYCAEANAwA=",
          "dtype": "i4"
         },
         "xaxis": "x",
         "y": {
          "bdata": "AAAAAACAO0CamZmZmRlPQAAAAAAAMGFAAAAAAADAakAAAAAAALB4QDMzMzMzg3lAzczMzMy8fkAAAAAAAEB/QAAAAAAAQH9AAAAAAABAf0AAAAAAAEB/QAAAAAAAQH9AAAAAAABAf0AAAAAAAEB/QM3MzMzMPHxAzczMzMw0fEAzMzMzMzN8QDMzMzMzM3xAAAAAAABAf0DNzMzMzDR8QA==",
          "dtype": "f8"
         },
         "yaxis": "y"
        },
        {
         "hovertemplate": "variable=mean_ep_rew<br>steps=%{x}<br>value=%{y}<extra></extra>",
         "legendgroup": "mean_ep_rew",
         "line": {
          "color": "#EF553B",
          "dash": "solid"
         },
         "marker": {
          "symbol": "circle"
         },
         "mode": "lines",
         "name": "mean_ep_rew",
         "orientation": "v",
         "showlegend": true,
         "type": "scatter",
         "x": {
          "bdata": "ECcAACBOAAAwdQAAQJwAAFDDAABg6gAAcBEBAIA4AQCQXwEAoIYBALCtAQDA1AEA0PsBAOAiAgDwSQIAAHECABCYAgAgvwIAMOYCAEANAwA=",
          "dtype": "i4"
         },
         "xaxis": "x",
         "y": {
          "bdata": "AAAAAACAO0CamZnioWJPQJqZmc+sWmFAzczM45tGa0BmZjZRxlR5QGZmhpYK1XpAzczMjlRngEDNzKwzfLOAQJqZWepr64BAZmbmQB+PhEDNzLQp5saGQDMzg35gsIdAMzNzHX7eiEDNzDQSsc6JQGZmrkiKDohAMzPzE2yhiEAAAEA0qhaJQGZmHivlLIlAmpl5la/Ni0DNzAyjcHiJQA==",
          "dtype": "f8"
         },
         "yaxis": "y"
        }
       ],
       "layout": {
        "legend": {
         "title": {
          "text": "variable"
         },
         "tracegroupgap": 0
        },
        "margin": {
         "t": 60
        },
        "template": {
         "data": {
          "bar": [
           {
            "error_x": {
             "color": "#2a3f5f"
            },
            "error_y": {
             "color": "#2a3f5f"
            },
            "marker": {
             "line": {
              "color": "#E5ECF6",
              "width": 0.5
             },
             "pattern": {
              "fillmode": "overlay",
              "size": 10,
              "solidity": 0.2
             }
            },
            "type": "bar"
           }
          ],
          "barpolar": [
           {
            "marker": {
             "line": {
              "color": "#E5ECF6",
              "width": 0.5
             },
             "pattern": {
              "fillmode": "overlay",
              "size": 10,
              "solidity": 0.2
             }
            },
            "type": "barpolar"
           }
          ],
          "carpet": [
           {
            "aaxis": {
             "endlinecolor": "#2a3f5f",
             "gridcolor": "white",
             "linecolor": "white",
             "minorgridcolor": "white",
             "startlinecolor": "#2a3f5f"
            },
            "baxis": {
             "endlinecolor": "#2a3f5f",
             "gridcolor": "white",
             "linecolor": "white",
             "minorgridcolor": "white",
             "startlinecolor": "#2a3f5f"
            },
            "type": "carpet"
           }
          ],
          "choropleth": [
           {
            "colorbar": {
             "outlinewidth": 0,
             "ticks": ""
            },
            "type": "choropleth"
           }
          ],
          "contour": [
           {
            "colorbar": {
             "outlinewidth": 0,
             "ticks": ""
            },
            "colorscale": [
             [
              0,
              "#0d0887"
             ],
             [
              0.1111111111111111,
              "#46039f"
             ],
             [
              0.2222222222222222,
              "#7201a8"
             ],
             [
              0.3333333333333333,
              "#9c179e"
             ],
             [
              0.4444444444444444,
              "#bd3786"
             ],
             [
              0.5555555555555556,
              "#d8576b"
             ],
             [
              0.6666666666666666,
              "#ed7953"
             ],
             [
              0.7777777777777778,
              "#fb9f3a"
             ],
             [
              0.8888888888888888,
              "#fdca26"
             ],
             [
              1,
              "#f0f921"
             ]
            ],
            "type": "contour"
           }
          ],
          "contourcarpet": [
           {
            "colorbar": {
             "outlinewidth": 0,
             "ticks": ""
            },
            "type": "contourcarpet"
           }
          ],
          "heatmap": [
           {
            "colorbar": {
             "outlinewidth": 0,
             "ticks": ""
            },
            "colorscale": [
             [
              0,
              "#0d0887"
             ],
             [
              0.1111111111111111,
              "#46039f"
             ],
             [
              0.2222222222222222,
              "#7201a8"
             ],
             [
              0.3333333333333333,
              "#9c179e"
             ],
             [
              0.4444444444444444,
              "#bd3786"
             ],
             [
              0.5555555555555556,
              "#d8576b"
             ],
             [
              0.6666666666666666,
              "#ed7953"
             ],
             [
              0.7777777777777778,
              "#fb9f3a"
             ],
             [
              0.8888888888888888,
              "#fdca26"
             ],
             [
              1,
              "#f0f921"
             ]
            ],
            "type": "heatmap"
           }
          ],
          "histogram": [
           {
            "marker": {
             "pattern": {
              "fillmode": "overlay",
              "size": 10,
              "solidity": 0.2
             }
            },
            "type": "histogram"
           }
          ],
          "histogram2d": [
           {
            "colorbar": {
             "outlinewidth": 0,
             "ticks": ""
            },
            "colorscale": [
             [
              0,
              "#0d0887"
             ],
             [
              0.1111111111111111,
              "#46039f"
             ],
             [
              0.2222222222222222,
              "#7201a8"
             ],
             [
              0.3333333333333333,
              "#9c179e"
             ],
             [
              0.4444444444444444,
              "#bd3786"
             ],
             [
              0.5555555555555556,
              "#d8576b"
             ],
             [
              0.6666666666666666,
              "#ed7953"
             ],
             [
              0.7777777777777778,
              "#fb9f3a"
             ],
             [
              0.8888888888888888,
              "#fdca26"
             ],
             [
              1,
              "#f0f921"
             ]
            ],
            "type": "histogram2d"
           }
          ],
          "histogram2dcontour": [
           {
            "colorbar": {
             "outlinewidth": 0,
             "ticks": ""
            },
            "colorscale": [
             [
              0,
              "#0d0887"
             ],
             [
              0.1111111111111111,
              "#46039f"
             ],
             [
              0.2222222222222222,
              "#7201a8"
             ],
             [
              0.3333333333333333,
              "#9c179e"
             ],
             [
              0.4444444444444444,
              "#bd3786"
             ],
             [
              0.5555555555555556,
              "#d8576b"
             ],
             [
              0.6666666666666666,
              "#ed7953"
             ],
             [
              0.7777777777777778,
              "#fb9f3a"
             ],
             [
              0.8888888888888888,
              "#fdca26"
             ],
             [
              1,
              "#f0f921"
             ]
            ],
            "type": "histogram2dcontour"
           }
          ],
          "mesh3d": [
           {
            "colorbar": {
             "outlinewidth": 0,
             "ticks": ""
            },
            "type": "mesh3d"
           }
          ],
          "parcoords": [
           {
            "line": {
             "colorbar": {
              "outlinewidth": 0,
              "ticks": ""
             }
            },
            "type": "parcoords"
           }
          ],
          "pie": [
           {
            "automargin": true,
            "type": "pie"
           }
          ],
          "scatter": [
           {
            "fillpattern": {
             "fillmode": "overlay",
             "size": 10,
             "solidity": 0.2
            },
            "type": "scatter"
           }
          ],
          "scatter3d": [
           {
            "line": {
             "colorbar": {
              "outlinewidth": 0,
              "ticks": ""
             }
            },
            "marker": {
             "colorbar": {
              "outlinewidth": 0,
              "ticks": ""
             }
            },
            "type": "scatter3d"
           }
          ],
          "scattercarpet": [
           {
            "marker": {
             "colorbar": {
              "outlinewidth": 0,
              "ticks": ""
             }
            },
            "type": "scattercarpet"
           }
          ],
          "scattergeo": [
           {
            "marker": {
             "colorbar": {
              "outlinewidth": 0,
              "ticks": ""
             }
            },
            "type": "scattergeo"
           }
          ],
          "scattergl": [
           {
            "marker": {
             "colorbar": {
              "outlinewidth": 0,
              "ticks": ""
             }
            },
            "type": "scattergl"
           }
          ],
          "scattermap": [
           {
            "marker": {
             "colorbar": {
              "outlinewidth": 0,
              "ticks": ""
             }
            },
            "type": "scattermap"
           }
          ],
          "scattermapbox": [
           {
            "marker": {
             "colorbar": {
              "outlinewidth": 0,
              "ticks": ""
             }
            },
            "type": "scattermapbox"
           }
          ],
          "scatterpolar": [
           {
            "marker": {
             "colorbar": {
              "outlinewidth": 0,
              "ticks": ""
             }
            },
            "type": "scatterpolar"
           }
          ],
          "scatterpolargl": [
           {
            "marker": {
             "colorbar": {
              "outlinewidth": 0,
              "ticks": ""
             }
            },
            "type": "scatterpolargl"
           }
          ],
          "scatterternary": [
           {
            "marker": {
             "colorbar": {
              "outlinewidth": 0,
              "ticks": ""
             }
            },
            "type": "scatterternary"
           }
          ],
          "surface": [
           {
            "colorbar": {
             "outlinewidth": 0,
             "ticks": ""
            },
            "colorscale": [
             [
              0,
              "#0d0887"
             ],
             [
              0.1111111111111111,
              "#46039f"
             ],
             [
              0.2222222222222222,
              "#7201a8"
             ],
             [
              0.3333333333333333,
              "#9c179e"
             ],
             [
              0.4444444444444444,
              "#bd3786"
             ],
             [
              0.5555555555555556,
              "#d8576b"
             ],
             [
              0.6666666666666666,
              "#ed7953"
             ],
             [
              0.7777777777777778,
              "#fb9f3a"
             ],
             [
              0.8888888888888888,
              "#fdca26"
             ],
             [
              1,
              "#f0f921"
             ]
            ],
            "type": "surface"
           }
          ],
          "table": [
           {
            "cells": {
             "fill": {
              "color": "#EBF0F8"
             },
             "line": {
              "color": "white"
             }
            },
            "header": {
             "fill": {
              "color": "#C8D4E3"
             },
             "line": {
              "color": "white"
             }
            },
            "type": "table"
           }
          ]
         },
         "layout": {
          "annotationdefaults": {
           "arrowcolor": "#2a3f5f",
           "arrowhead": 0,
           "arrowwidth": 1
          },
          "autotypenumbers": "strict",
          "coloraxis": {
           "colorbar": {
            "outlinewidth": 0,
            "ticks": ""
           }
          },
          "colorscale": {
           "diverging": [
            [
             0,
             "#8e0152"
            ],
            [
             0.1,
             "#c51b7d"
            ],
            [
             0.2,
             "#de77ae"
            ],
            [
             0.3,
             "#f1b6da"
            ],
            [
             0.4,
             "#fde0ef"
            ],
            [
             0.5,
             "#f7f7f7"
            ],
            [
             0.6,
             "#e6f5d0"
            ],
            [
             0.7,
             "#b8e186"
            ],
            [
             0.8,
             "#7fbc41"
            ],
            [
             0.9,
             "#4d9221"
            ],
            [
             1,
             "#276419"
            ]
           ],
           "sequential": [
            [
             0,
             "#0d0887"
            ],
            [
             0.1111111111111111,
             "#46039f"
            ],
            [
             0.2222222222222222,
             "#7201a8"
            ],
            [
             0.3333333333333333,
             "#9c179e"
            ],
            [
             0.4444444444444444,
             "#bd3786"
            ],
            [
             0.5555555555555556,
             "#d8576b"
            ],
            [
             0.6666666666666666,
             "#ed7953"
            ],
            [
             0.7777777777777778,
             "#fb9f3a"
            ],
            [
             0.8888888888888888,
             "#fdca26"
            ],
            [
             1,
             "#f0f921"
            ]
           ],
           "sequentialminus": [
            [
             0,
             "#0d0887"
            ],
            [
             0.1111111111111111,
             "#46039f"
            ],
            [
             0.2222222222222222,
             "#7201a8"
            ],
            [
             0.3333333333333333,
             "#9c179e"
            ],
            [
             0.4444444444444444,
             "#bd3786"
            ],
            [
             0.5555555555555556,
             "#d8576b"
            ],
            [
             0.6666666666666666,
             "#ed7953"
            ],
            [
             0.7777777777777778,
             "#fb9f3a"
            ],
            [
             0.8888888888888888,
             "#fdca26"
            ],
            [
             1,
             "#f0f921"
            ]
           ]
          },
          "colorway": [
           "#636efa",
           "#EF553B",
           "#00cc96",
           "#ab63fa",
           "#FFA15A",
           "#19d3f3",
           "#FF6692",
           "#B6E880",
           "#FF97FF",
           "#FECB52"
          ],
          "font": {
           "color": "#2a3f5f"
          },
          "geo": {
           "bgcolor": "white",
           "lakecolor": "white",
           "landcolor": "#E5ECF6",
           "showlakes": true,
           "showland": true,
           "subunitcolor": "white"
          },
          "hoverlabel": {
           "align": "left"
          },
          "hovermode": "closest",
          "mapbox": {
           "style": "light"
          },
          "paper_bgcolor": "white",
          "plot_bgcolor": "#E5ECF6",
          "polar": {
           "angularaxis": {
            "gridcolor": "white",
            "linecolor": "white",
            "ticks": ""
           },
           "bgcolor": "#E5ECF6",
           "radialaxis": {
            "gridcolor": "white",
            "linecolor": "white",
            "ticks": ""
           }
          },
          "scene": {
           "xaxis": {
            "backgroundcolor": "#E5ECF6",
            "gridcolor": "white",
            "gridwidth": 2,
            "linecolor": "white",
            "showbackground": true,
            "ticks": "",
            "zerolinecolor": "white"
           },
           "yaxis": {
            "backgroundcolor": "#E5ECF6",
            "gridcolor": "white",
            "gridwidth": 2,
            "linecolor": "white",
            "showbackground": true,
            "ticks": "",
            "zerolinecolor": "white"
           },
           "zaxis": {
            "backgroundcolor": "#E5ECF6",
            "gridcolor": "white",
            "gridwidth": 2,
            "linecolor": "white",
            "showbackground": true,
            "ticks": "",
            "zerolinecolor": "white"
           }
          },
          "shapedefaults": {
           "line": {
            "color": "#2a3f5f"
           }
          },
          "ternary": {
           "aaxis": {
            "gridcolor": "white",
            "linecolor": "white",
            "ticks": ""
           },
           "baxis": {
            "gridcolor": "white",
            "linecolor": "white",
            "ticks": ""
           },
           "bgcolor": "#E5ECF6",
           "caxis": {
            "gridcolor": "white",
            "linecolor": "white",
            "ticks": ""
           }
          },
          "title": {
           "x": 0.05
          },
          "xaxis": {
           "automargin": true,
           "gridcolor": "white",
           "linecolor": "white",
           "ticks": "",
           "title": {
            "standoff": 15
           },
           "zerolinecolor": "white",
           "zerolinewidth": 2
          },
          "yaxis": {
           "automargin": true,
           "gridcolor": "white",
           "linecolor": "white",
           "ticks": "",
           "title": {
            "standoff": 15
           },
           "zerolinecolor": "white",
           "zerolinewidth": 2
          }
         }
        },
        "xaxis": {
         "anchor": "y",
         "domain": [
          0,
          1
         ],
         "title": {
          "text": "steps"
         }
        },
        "yaxis": {
         "anchor": "x",
         "domain": [
          0,
          1
         ],
         "title": {
          "text": "value"
         }
        }
       }
      }
     },
     "metadata": {},
     "output_type": "display_data"
    }
   ],
   "source": [
    "fig = px.line(df0, x='steps', y = ['mean_ep_len', 'mean_ep_rew'])\n",
    "fig.show()"
   ]
  },
  {
   "cell_type": "markdown",
   "id": "0054f99e",
   "metadata": {},
   "source": [
    "## All training episode lens and rewards"
   ]
  },
  {
   "cell_type": "code",
   "execution_count": 33,
   "id": "8d29d1c3",
   "metadata": {},
   "outputs": [
    {
     "data": {
      "application/vnd.plotly.v1+json": {
       "config": {
        "plotlyServerURL": "https://plot.ly"
       },
       "data": [
        {
         "hovertemplate": "label=Training0<br>steps=%{x}<br>mean_ep_len=%{y}<extra></extra>",
         "legendgroup": "Training0",
         "line": {
          "color": "#636efa",
          "dash": "solid"
         },
         "marker": {
          "symbol": "circle"
         },
         "mode": "lines",
         "name": "Training0",
         "orientation": "v",
         "showlegend": true,
         "type": "scatter",
         "x": {
          "bdata": "ECcAACBOAAAwdQAAQJwAAFDDAABg6gAAcBEBAIA4AQCQXwEAoIYBALCtAQDA1AEA0PsBAOAiAgDwSQIAAHECABCYAgAgvwIAMOYCAEANAwA=",
          "dtype": "i4"
         },
         "xaxis": "x",
         "y": {
          "bdata": "AAAAAACAO0CamZmZmRlPQAAAAAAAMGFAAAAAAADAakAAAAAAALB4QDMzMzMzg3lAzczMzMy8fkAAAAAAAEB/QAAAAAAAQH9AAAAAAABAf0AAAAAAAEB/QAAAAAAAQH9AAAAAAABAf0AAAAAAAEB/QM3MzMzMPHxAzczMzMw0fEAzMzMzMzN8QDMzMzMzM3xAAAAAAABAf0DNzMzMzDR8QA==",
          "dtype": "f8"
         },
         "yaxis": "y"
        },
        {
         "hovertemplate": "label=Training1<br>steps=%{x}<br>mean_ep_len=%{y}<extra></extra>",
         "legendgroup": "Training1",
         "line": {
          "color": "#EF553B",
          "dash": "solid"
         },
         "marker": {
          "symbol": "circle"
         },
         "mode": "lines",
         "name": "Training1",
         "orientation": "v",
         "showlegend": true,
         "type": "scatter",
         "x": {
          "bdata": "ECcAACBOAAAwdQAAQJwAAFDDAABg6gAAcBEBAIA4AQCQXwEAoIYBALCtAQDA1AEA0PsBAOAiAgDwSQIAAHECABCYAgAgvwIAMOYCAEANAwAAIAMA",
          "dtype": "i4"
         },
         "xaxis": "x",
         "y": {
          "bdata": "MzMzMzOzQkDNzMzMzAxSQGZmZmZmVmNAZmZmZmZ2a0AAAAAAAAh0QDMzMzMze3xAzczMzMwEf0AAAAAAAEB/QAAAAAAAQH9AAAAAAABAf0AAAAAAAEB/QAAAAAAAQH9AMzMzMzMjdkDNzMzMzDR8QM3MzMzMNHxAAAAAAABAf0AAAAAAAEB/QAAAAAAAQH9AAAAAAABAf0DNzMzMzDR8QAAAAAAAQH9A",
          "dtype": "f8"
         },
         "yaxis": "y"
        },
        {
         "hovertemplate": "label=Training2<br>steps=%{x}<br>mean_ep_len=%{y}<extra></extra>",
         "legendgroup": "Training2",
         "line": {
          "color": "#00cc96",
          "dash": "solid"
         },
         "marker": {
          "symbol": "circle"
         },
         "mode": "lines",
         "name": "Training2",
         "orientation": "v",
         "showlegend": true,
         "type": "scatter",
         "x": {
          "bdata": "ECcAACBOAAAwdQAAQJwAAFDDAABg6gAAcBEBAIA4AQCQXwEAoIYBALCtAQDA1AEA0PsBAOAiAgDwSQIAAHECABCYAgAgvwIAMOYCAEANAwAAIAMA",
          "dtype": "i4"
         },
         "xaxis": "x",
         "y": {
          "bdata": "zczMzMyMQEAzMzMzM3NIQJqZmZmZeWFAAAAAAABQckBmZmZmZt58QDMzMzMzG31AAAAAAABAf0AAAAAAAEB/QAAAAAAAQH9AAAAAAABAf0AAAAAAAEB/QAAAAAAAQH9AAAAAAABAf0AAAAAAAEB/QAAAAAAAQH9AAAAAAAAoeUDNzMzMzDR8QAAAAAAAQH9AAAAAAABAf0AAAAAAADh8QAAAAAAAQH9A",
          "dtype": "f8"
         },
         "yaxis": "y"
        },
        {
         "hovertemplate": "label=Training0<br>steps=%{x}<br>mean_ep_rew=%{y}<extra></extra>",
         "legendgroup": "Training0",
         "line": {
          "color": "#636efa",
          "dash": "solid"
         },
         "marker": {
          "symbol": "circle"
         },
         "mode": "lines",
         "name": "Training0",
         "orientation": "v",
         "showlegend": true,
         "type": "scatter",
         "x": {
          "bdata": "ECcAACBOAAAwdQAAQJwAAFDDAABg6gAAcBEBAIA4AQCQXwEAoIYBALCtAQDA1AEA0PsBAOAiAgDwSQIAAHECABCYAgAgvwIAMOYCAEANAwA=",
          "dtype": "i4"
         },
         "xaxis": "x2",
         "y": {
          "bdata": "AAAAAACAO0CamZnioWJPQJqZmc+sWmFAzczM45tGa0BmZjZRxlR5QGZmhpYK1XpAzczMjlRngEDNzKwzfLOAQJqZWepr64BAZmbmQB+PhEDNzLQp5saGQDMzg35gsIdAMzNzHX7eiEDNzDQSsc6JQGZmrkiKDohAMzPzE2yhiEAAAEA0qhaJQGZmHivlLIlAmpl5la/Ni0DNzAyjcHiJQA==",
          "dtype": "f8"
         },
         "yaxis": "y2"
        },
        {
         "hovertemplate": "label=Training1<br>steps=%{x}<br>mean_ep_rew=%{y}<extra></extra>",
         "legendgroup": "Training1",
         "line": {
          "color": "#EF553B",
          "dash": "solid"
         },
         "marker": {
          "symbol": "circle"
         },
         "mode": "lines",
         "name": "Training1",
         "orientation": "v",
         "showlegend": true,
         "type": "scatter",
         "x": {
          "bdata": "ECcAACBOAAAwdQAAQJwAAFDDAABg6gAAcBEBAIA4AQCQXwEAoIYBALCtAQDA1AEA0PsBAOAiAgDwSQIAAHECABCYAgAgvwIAMOYCAEANAwAAIAMA",
          "dtype": "i4"
         },
         "xaxis": "x2",
         "y": {
          "bdata": "MzMzMzOzQkDNzMzMzAxSQJqZ2XMayGNAmpl54KH8a0AAADAM3Pl0QM3MXN7BE35AAADIWtivgEDNzLQ5NumAQGZmvnVYdoJAzcyUzxDwg0AzM0PHHTyGQM3MrF0Be4hAMzNzFRc/gkBmZsbcZMmIQJqZgSDAi4hAmplpwi+Zi0DNzOz/X8iLQAAAqDu2NItAzczsbZObi0DNzMx0DEmJQGZmXhCJ/otA",
          "dtype": "f8"
         },
         "yaxis": "y2"
        },
        {
         "hovertemplate": "label=Training2<br>steps=%{x}<br>mean_ep_rew=%{y}<extra></extra>",
         "legendgroup": "Training2",
         "line": {
          "color": "#00cc96",
          "dash": "solid"
         },
         "marker": {
          "symbol": "circle"
         },
         "mode": "lines",
         "name": "Training2",
         "orientation": "v",
         "showlegend": true,
         "type": "scatter",
         "x": {
          "bdata": "ECcAACBOAAAwdQAAQJwAAFDDAABg6gAAcBEBAIA4AQCQXwEAoIYBALCtAQDA1AEA0PsBAOAiAgDwSQIAAHECABCYAgAgvwIAMOYCAEANAwAAIAMA",
          "dtype": "i4"
         },
         "xaxis": "x2",
         "y": {
          "bdata": "zczMzMyMQEAzMzO3r9dIQGZmZgA0tGFAmplJn+y7ckAzM/NK8sd9QM3MfE827H5AmplBBMa8gEAzM5tSWvWAQAAAsFExRIJAZmbu7uqRhEDNzNwmVpqGQDMzg3hlPIdAMzPrEh4LiUCamSnHmG+KQJqZWRhPO4tAZma+l3bOhUAAALj/wdOIQGZmDsvJBYxAAADAR7UsjECamVESUkOJQAAAEL0VOYxA",
          "dtype": "f8"
         },
         "yaxis": "y2"
        }
       ],
       "layout": {
        "annotations": [
         {
          "font": {
           "size": 16
          },
          "showarrow": false,
          "text": "Mean Episode Length",
          "x": 0.5,
          "xanchor": "center",
          "xref": "paper",
          "y": 1,
          "yanchor": "bottom",
          "yref": "paper"
         },
         {
          "font": {
           "size": 16
          },
          "showarrow": false,
          "text": "Mean Episode Reward",
          "x": 0.5,
          "xanchor": "center",
          "xref": "paper",
          "y": 0.375,
          "yanchor": "bottom",
          "yref": "paper"
         }
        ],
        "height": 600,
        "template": {
         "data": {
          "bar": [
           {
            "error_x": {
             "color": "#2a3f5f"
            },
            "error_y": {
             "color": "#2a3f5f"
            },
            "marker": {
             "line": {
              "color": "#E5ECF6",
              "width": 0.5
             },
             "pattern": {
              "fillmode": "overlay",
              "size": 10,
              "solidity": 0.2
             }
            },
            "type": "bar"
           }
          ],
          "barpolar": [
           {
            "marker": {
             "line": {
              "color": "#E5ECF6",
              "width": 0.5
             },
             "pattern": {
              "fillmode": "overlay",
              "size": 10,
              "solidity": 0.2
             }
            },
            "type": "barpolar"
           }
          ],
          "carpet": [
           {
            "aaxis": {
             "endlinecolor": "#2a3f5f",
             "gridcolor": "white",
             "linecolor": "white",
             "minorgridcolor": "white",
             "startlinecolor": "#2a3f5f"
            },
            "baxis": {
             "endlinecolor": "#2a3f5f",
             "gridcolor": "white",
             "linecolor": "white",
             "minorgridcolor": "white",
             "startlinecolor": "#2a3f5f"
            },
            "type": "carpet"
           }
          ],
          "choropleth": [
           {
            "colorbar": {
             "outlinewidth": 0,
             "ticks": ""
            },
            "type": "choropleth"
           }
          ],
          "contour": [
           {
            "colorbar": {
             "outlinewidth": 0,
             "ticks": ""
            },
            "colorscale": [
             [
              0,
              "#0d0887"
             ],
             [
              0.1111111111111111,
              "#46039f"
             ],
             [
              0.2222222222222222,
              "#7201a8"
             ],
             [
              0.3333333333333333,
              "#9c179e"
             ],
             [
              0.4444444444444444,
              "#bd3786"
             ],
             [
              0.5555555555555556,
              "#d8576b"
             ],
             [
              0.6666666666666666,
              "#ed7953"
             ],
             [
              0.7777777777777778,
              "#fb9f3a"
             ],
             [
              0.8888888888888888,
              "#fdca26"
             ],
             [
              1,
              "#f0f921"
             ]
            ],
            "type": "contour"
           }
          ],
          "contourcarpet": [
           {
            "colorbar": {
             "outlinewidth": 0,
             "ticks": ""
            },
            "type": "contourcarpet"
           }
          ],
          "heatmap": [
           {
            "colorbar": {
             "outlinewidth": 0,
             "ticks": ""
            },
            "colorscale": [
             [
              0,
              "#0d0887"
             ],
             [
              0.1111111111111111,
              "#46039f"
             ],
             [
              0.2222222222222222,
              "#7201a8"
             ],
             [
              0.3333333333333333,
              "#9c179e"
             ],
             [
              0.4444444444444444,
              "#bd3786"
             ],
             [
              0.5555555555555556,
              "#d8576b"
             ],
             [
              0.6666666666666666,
              "#ed7953"
             ],
             [
              0.7777777777777778,
              "#fb9f3a"
             ],
             [
              0.8888888888888888,
              "#fdca26"
             ],
             [
              1,
              "#f0f921"
             ]
            ],
            "type": "heatmap"
           }
          ],
          "histogram": [
           {
            "marker": {
             "pattern": {
              "fillmode": "overlay",
              "size": 10,
              "solidity": 0.2
             }
            },
            "type": "histogram"
           }
          ],
          "histogram2d": [
           {
            "colorbar": {
             "outlinewidth": 0,
             "ticks": ""
            },
            "colorscale": [
             [
              0,
              "#0d0887"
             ],
             [
              0.1111111111111111,
              "#46039f"
             ],
             [
              0.2222222222222222,
              "#7201a8"
             ],
             [
              0.3333333333333333,
              "#9c179e"
             ],
             [
              0.4444444444444444,
              "#bd3786"
             ],
             [
              0.5555555555555556,
              "#d8576b"
             ],
             [
              0.6666666666666666,
              "#ed7953"
             ],
             [
              0.7777777777777778,
              "#fb9f3a"
             ],
             [
              0.8888888888888888,
              "#fdca26"
             ],
             [
              1,
              "#f0f921"
             ]
            ],
            "type": "histogram2d"
           }
          ],
          "histogram2dcontour": [
           {
            "colorbar": {
             "outlinewidth": 0,
             "ticks": ""
            },
            "colorscale": [
             [
              0,
              "#0d0887"
             ],
             [
              0.1111111111111111,
              "#46039f"
             ],
             [
              0.2222222222222222,
              "#7201a8"
             ],
             [
              0.3333333333333333,
              "#9c179e"
             ],
             [
              0.4444444444444444,
              "#bd3786"
             ],
             [
              0.5555555555555556,
              "#d8576b"
             ],
             [
              0.6666666666666666,
              "#ed7953"
             ],
             [
              0.7777777777777778,
              "#fb9f3a"
             ],
             [
              0.8888888888888888,
              "#fdca26"
             ],
             [
              1,
              "#f0f921"
             ]
            ],
            "type": "histogram2dcontour"
           }
          ],
          "mesh3d": [
           {
            "colorbar": {
             "outlinewidth": 0,
             "ticks": ""
            },
            "type": "mesh3d"
           }
          ],
          "parcoords": [
           {
            "line": {
             "colorbar": {
              "outlinewidth": 0,
              "ticks": ""
             }
            },
            "type": "parcoords"
           }
          ],
          "pie": [
           {
            "automargin": true,
            "type": "pie"
           }
          ],
          "scatter": [
           {
            "fillpattern": {
             "fillmode": "overlay",
             "size": 10,
             "solidity": 0.2
            },
            "type": "scatter"
           }
          ],
          "scatter3d": [
           {
            "line": {
             "colorbar": {
              "outlinewidth": 0,
              "ticks": ""
             }
            },
            "marker": {
             "colorbar": {
              "outlinewidth": 0,
              "ticks": ""
             }
            },
            "type": "scatter3d"
           }
          ],
          "scattercarpet": [
           {
            "marker": {
             "colorbar": {
              "outlinewidth": 0,
              "ticks": ""
             }
            },
            "type": "scattercarpet"
           }
          ],
          "scattergeo": [
           {
            "marker": {
             "colorbar": {
              "outlinewidth": 0,
              "ticks": ""
             }
            },
            "type": "scattergeo"
           }
          ],
          "scattergl": [
           {
            "marker": {
             "colorbar": {
              "outlinewidth": 0,
              "ticks": ""
             }
            },
            "type": "scattergl"
           }
          ],
          "scattermap": [
           {
            "marker": {
             "colorbar": {
              "outlinewidth": 0,
              "ticks": ""
             }
            },
            "type": "scattermap"
           }
          ],
          "scattermapbox": [
           {
            "marker": {
             "colorbar": {
              "outlinewidth": 0,
              "ticks": ""
             }
            },
            "type": "scattermapbox"
           }
          ],
          "scatterpolar": [
           {
            "marker": {
             "colorbar": {
              "outlinewidth": 0,
              "ticks": ""
             }
            },
            "type": "scatterpolar"
           }
          ],
          "scatterpolargl": [
           {
            "marker": {
             "colorbar": {
              "outlinewidth": 0,
              "ticks": ""
             }
            },
            "type": "scatterpolargl"
           }
          ],
          "scatterternary": [
           {
            "marker": {
             "colorbar": {
              "outlinewidth": 0,
              "ticks": ""
             }
            },
            "type": "scatterternary"
           }
          ],
          "surface": [
           {
            "colorbar": {
             "outlinewidth": 0,
             "ticks": ""
            },
            "colorscale": [
             [
              0,
              "#0d0887"
             ],
             [
              0.1111111111111111,
              "#46039f"
             ],
             [
              0.2222222222222222,
              "#7201a8"
             ],
             [
              0.3333333333333333,
              "#9c179e"
             ],
             [
              0.4444444444444444,
              "#bd3786"
             ],
             [
              0.5555555555555556,
              "#d8576b"
             ],
             [
              0.6666666666666666,
              "#ed7953"
             ],
             [
              0.7777777777777778,
              "#fb9f3a"
             ],
             [
              0.8888888888888888,
              "#fdca26"
             ],
             [
              1,
              "#f0f921"
             ]
            ],
            "type": "surface"
           }
          ],
          "table": [
           {
            "cells": {
             "fill": {
              "color": "#EBF0F8"
             },
             "line": {
              "color": "white"
             }
            },
            "header": {
             "fill": {
              "color": "#C8D4E3"
             },
             "line": {
              "color": "white"
             }
            },
            "type": "table"
           }
          ]
         },
         "layout": {
          "annotationdefaults": {
           "arrowcolor": "#2a3f5f",
           "arrowhead": 0,
           "arrowwidth": 1
          },
          "autotypenumbers": "strict",
          "coloraxis": {
           "colorbar": {
            "outlinewidth": 0,
            "ticks": ""
           }
          },
          "colorscale": {
           "diverging": [
            [
             0,
             "#8e0152"
            ],
            [
             0.1,
             "#c51b7d"
            ],
            [
             0.2,
             "#de77ae"
            ],
            [
             0.3,
             "#f1b6da"
            ],
            [
             0.4,
             "#fde0ef"
            ],
            [
             0.5,
             "#f7f7f7"
            ],
            [
             0.6,
             "#e6f5d0"
            ],
            [
             0.7,
             "#b8e186"
            ],
            [
             0.8,
             "#7fbc41"
            ],
            [
             0.9,
             "#4d9221"
            ],
            [
             1,
             "#276419"
            ]
           ],
           "sequential": [
            [
             0,
             "#0d0887"
            ],
            [
             0.1111111111111111,
             "#46039f"
            ],
            [
             0.2222222222222222,
             "#7201a8"
            ],
            [
             0.3333333333333333,
             "#9c179e"
            ],
            [
             0.4444444444444444,
             "#bd3786"
            ],
            [
             0.5555555555555556,
             "#d8576b"
            ],
            [
             0.6666666666666666,
             "#ed7953"
            ],
            [
             0.7777777777777778,
             "#fb9f3a"
            ],
            [
             0.8888888888888888,
             "#fdca26"
            ],
            [
             1,
             "#f0f921"
            ]
           ],
           "sequentialminus": [
            [
             0,
             "#0d0887"
            ],
            [
             0.1111111111111111,
             "#46039f"
            ],
            [
             0.2222222222222222,
             "#7201a8"
            ],
            [
             0.3333333333333333,
             "#9c179e"
            ],
            [
             0.4444444444444444,
             "#bd3786"
            ],
            [
             0.5555555555555556,
             "#d8576b"
            ],
            [
             0.6666666666666666,
             "#ed7953"
            ],
            [
             0.7777777777777778,
             "#fb9f3a"
            ],
            [
             0.8888888888888888,
             "#fdca26"
            ],
            [
             1,
             "#f0f921"
            ]
           ]
          },
          "colorway": [
           "#636efa",
           "#EF553B",
           "#00cc96",
           "#ab63fa",
           "#FFA15A",
           "#19d3f3",
           "#FF6692",
           "#B6E880",
           "#FF97FF",
           "#FECB52"
          ],
          "font": {
           "color": "#2a3f5f"
          },
          "geo": {
           "bgcolor": "white",
           "lakecolor": "white",
           "landcolor": "#E5ECF6",
           "showlakes": true,
           "showland": true,
           "subunitcolor": "white"
          },
          "hoverlabel": {
           "align": "left"
          },
          "hovermode": "closest",
          "mapbox": {
           "style": "light"
          },
          "paper_bgcolor": "white",
          "plot_bgcolor": "#E5ECF6",
          "polar": {
           "angularaxis": {
            "gridcolor": "white",
            "linecolor": "white",
            "ticks": ""
           },
           "bgcolor": "#E5ECF6",
           "radialaxis": {
            "gridcolor": "white",
            "linecolor": "white",
            "ticks": ""
           }
          },
          "scene": {
           "xaxis": {
            "backgroundcolor": "#E5ECF6",
            "gridcolor": "white",
            "gridwidth": 2,
            "linecolor": "white",
            "showbackground": true,
            "ticks": "",
            "zerolinecolor": "white"
           },
           "yaxis": {
            "backgroundcolor": "#E5ECF6",
            "gridcolor": "white",
            "gridwidth": 2,
            "linecolor": "white",
            "showbackground": true,
            "ticks": "",
            "zerolinecolor": "white"
           },
           "zaxis": {
            "backgroundcolor": "#E5ECF6",
            "gridcolor": "white",
            "gridwidth": 2,
            "linecolor": "white",
            "showbackground": true,
            "ticks": "",
            "zerolinecolor": "white"
           }
          },
          "shapedefaults": {
           "line": {
            "color": "#2a3f5f"
           }
          },
          "ternary": {
           "aaxis": {
            "gridcolor": "white",
            "linecolor": "white",
            "ticks": ""
           },
           "baxis": {
            "gridcolor": "white",
            "linecolor": "white",
            "ticks": ""
           },
           "bgcolor": "#E5ECF6",
           "caxis": {
            "gridcolor": "white",
            "linecolor": "white",
            "ticks": ""
           }
          },
          "title": {
           "x": 0.05
          },
          "xaxis": {
           "automargin": true,
           "gridcolor": "white",
           "linecolor": "white",
           "ticks": "",
           "title": {
            "standoff": 15
           },
           "zerolinecolor": "white",
           "zerolinewidth": 2
          },
          "yaxis": {
           "automargin": true,
           "gridcolor": "white",
           "linecolor": "white",
           "ticks": "",
           "title": {
            "standoff": 15
           },
           "zerolinecolor": "white",
           "zerolinewidth": 2
          }
         }
        },
        "title": {
         "text": "Training Metrics"
        },
        "xaxis": {
         "anchor": "y",
         "domain": [
          0,
          1
         ]
        },
        "xaxis2": {
         "anchor": "y2",
         "domain": [
          0,
          1
         ]
        },
        "yaxis": {
         "anchor": "x",
         "domain": [
          0.625,
          1
         ]
        },
        "yaxis2": {
         "anchor": "x2",
         "domain": [
          0,
          0.375
         ]
        }
       }
      }
     },
     "metadata": {},
     "output_type": "display_data"
    }
   ],
   "source": [
    "from plotly.subplots import make_subplots\n",
    "\n",
    "fig = make_subplots(rows=2, cols=1,  subplot_titles=['Mean Episode Length', 'Mean Episode Reward'])\n",
    "\n",
    "go1 = px.line(df_all_res.collect(), x='steps', y = 'mean_ep_len', color='label')\n",
    "go2 = px.line(df_all_res.collect(), x='steps', y = 'mean_ep_rew', color='label')\n",
    "\n",
    "fig.add_traces(go1.data, rows=1, cols=1)\n",
    "fig.add_traces(go2.data, rows=2, cols=1)\n",
    "\n",
    "fig.update_layout(height=600, title_text=\"Training Metrics\")\n",
    "fig.show()"
   ]
  },
  {
   "cell_type": "markdown",
   "id": "7b4b5ade",
   "metadata": {},
   "source": [
    "## Adding specs"
   ]
  },
  {
   "cell_type": "code",
   "execution_count": 35,
   "id": "d6ca79dd",
   "metadata": {},
   "outputs": [],
   "source": [
    "phi = 'phi_left_goal'\n",
    "df_phi = df_all_res.select('label','steps',phi).unnest(phi)\n",
    "\n"
   ]
  },
  {
   "cell_type": "code",
   "execution_count": null,
   "id": "78924906",
   "metadata": {},
   "outputs": [
    {
     "data": {
      "application/vnd.plotly.v1+json": {
       "config": {
        "plotlyServerURL": "https://plot.ly"
       },
       "data": [
        {
         "hovertemplate": "label=Training0<br>steps=%{x}<br>ratio_init_sat=%{y}<extra></extra>",
         "legendgroup": "Training0",
         "line": {
          "color": "#636efa",
          "dash": "solid"
         },
         "marker": {
          "symbol": "circle"
         },
         "mode": "lines",
         "name": "Training0",
         "orientation": "v",
         "showlegend": true,
         "type": "scatter",
         "x": {
          "bdata": "ECcAACBOAAAwdQAAQJwAAFDDAABg6gAAcBEBAIA4AQCQXwEAoIYBALCtAQDA1AEA0PsBAOAiAgDwSQIAAHECABCYAgAgvwIAMOYCAEANAwA=",
          "dtype": "i4"
         },
         "xaxis": "x",
         "y": {
          "bdata": "AAAAAAAAAAAAAAAAAAAAAAAAAAAAAAAAAAAAAAAAAAAAAAAAAAAAAAAAAAAAAAAAmpmZmZmZuT+amZmZmZm5P5qZmZmZmbk/zczMzMzM7D8AAAAAAADwPwAAAAAAAPA/AAAAAAAA8D8AAAAAAADwP83MzMzMzOw/zczMzMzM7D/NzMzMzMzsP83MzMzMzOw/AAAAAAAA8D/NzMzMzMzsPw==",
          "dtype": "f8"
         },
         "yaxis": "y"
        },
        {
         "hovertemplate": "label=Training1<br>steps=%{x}<br>ratio_init_sat=%{y}<extra></extra>",
         "legendgroup": "Training1",
         "line": {
          "color": "#EF553B",
          "dash": "solid"
         },
         "marker": {
          "symbol": "circle"
         },
         "mode": "lines",
         "name": "Training1",
         "orientation": "v",
         "showlegend": true,
         "type": "scatter",
         "x": {
          "bdata": "ECcAACBOAAAwdQAAQJwAAFDDAABg6gAAcBEBAIA4AQCQXwEAoIYBALCtAQDA1AEA0PsBAOAiAgDwSQIAAHECABCYAgAgvwIAMOYCAEANAwAAIAMA",
          "dtype": "i4"
         },
         "xaxis": "x",
         "y": {
          "bdata": "AAAAAAAAAAAAAAAAAAAAAAAAAAAAAAAAAAAAAAAAAAAAAAAAAAAAAAAAAAAAAAAAMzMzMzMz0z+amZmZmZm5PzMzMzMzM+M/zczMzMzM7D/NzMzMzMzsPwAAAAAAAPA/ZmZmZmZm5j/NzMzMzMzsP83MzMzMzOw/AAAAAAAA8D8AAAAAAADwPwAAAAAAAPA/AAAAAAAA8D/NzMzMzMzsPwAAAAAAAPA/",
          "dtype": "f8"
         },
         "yaxis": "y"
        },
        {
         "hovertemplate": "label=Training2<br>steps=%{x}<br>ratio_init_sat=%{y}<extra></extra>",
         "legendgroup": "Training2",
         "line": {
          "color": "#00cc96",
          "dash": "solid"
         },
         "marker": {
          "symbol": "circle"
         },
         "mode": "lines",
         "name": "Training2",
         "orientation": "v",
         "showlegend": true,
         "type": "scatter",
         "x": {
          "bdata": "ECcAACBOAAAwdQAAQJwAAFDDAABg6gAAcBEBAIA4AQCQXwEAoIYBALCtAQDA1AEA0PsBAOAiAgDwSQIAAHECABCYAgAgvwIAMOYCAEANAwAAIAMA",
          "dtype": "i4"
         },
         "xaxis": "x",
         "y": {
          "bdata": "AAAAAAAAAACamZmZmZm5PwAAAAAAAAAAAAAAAAAAAAAAAAAAAAAAAJqZmZmZmbk/mpmZmZmZuT8zMzMzMzPTPzMzMzMzM+M/mpmZmZmZ6T8AAAAAAADwPwAAAAAAAPA/AAAAAAAA8D8AAAAAAADwPwAAAAAAAPA/mpmZmZmZ6T/NzMzMzMzsPwAAAAAAAPA/AAAAAAAA8D/NzMzMzMzsPwAAAAAAAPA/",
          "dtype": "f8"
         },
         "yaxis": "y"
        }
       ],
       "layout": {
        "legend": {
         "title": {
          "text": "label"
         },
         "tracegroupgap": 0
        },
        "margin": {
         "t": 60
        },
        "template": {
         "data": {
          "bar": [
           {
            "error_x": {
             "color": "#2a3f5f"
            },
            "error_y": {
             "color": "#2a3f5f"
            },
            "marker": {
             "line": {
              "color": "#E5ECF6",
              "width": 0.5
             },
             "pattern": {
              "fillmode": "overlay",
              "size": 10,
              "solidity": 0.2
             }
            },
            "type": "bar"
           }
          ],
          "barpolar": [
           {
            "marker": {
             "line": {
              "color": "#E5ECF6",
              "width": 0.5
             },
             "pattern": {
              "fillmode": "overlay",
              "size": 10,
              "solidity": 0.2
             }
            },
            "type": "barpolar"
           }
          ],
          "carpet": [
           {
            "aaxis": {
             "endlinecolor": "#2a3f5f",
             "gridcolor": "white",
             "linecolor": "white",
             "minorgridcolor": "white",
             "startlinecolor": "#2a3f5f"
            },
            "baxis": {
             "endlinecolor": "#2a3f5f",
             "gridcolor": "white",
             "linecolor": "white",
             "minorgridcolor": "white",
             "startlinecolor": "#2a3f5f"
            },
            "type": "carpet"
           }
          ],
          "choropleth": [
           {
            "colorbar": {
             "outlinewidth": 0,
             "ticks": ""
            },
            "type": "choropleth"
           }
          ],
          "contour": [
           {
            "colorbar": {
             "outlinewidth": 0,
             "ticks": ""
            },
            "colorscale": [
             [
              0,
              "#0d0887"
             ],
             [
              0.1111111111111111,
              "#46039f"
             ],
             [
              0.2222222222222222,
              "#7201a8"
             ],
             [
              0.3333333333333333,
              "#9c179e"
             ],
             [
              0.4444444444444444,
              "#bd3786"
             ],
             [
              0.5555555555555556,
              "#d8576b"
             ],
             [
              0.6666666666666666,
              "#ed7953"
             ],
             [
              0.7777777777777778,
              "#fb9f3a"
             ],
             [
              0.8888888888888888,
              "#fdca26"
             ],
             [
              1,
              "#f0f921"
             ]
            ],
            "type": "contour"
           }
          ],
          "contourcarpet": [
           {
            "colorbar": {
             "outlinewidth": 0,
             "ticks": ""
            },
            "type": "contourcarpet"
           }
          ],
          "heatmap": [
           {
            "colorbar": {
             "outlinewidth": 0,
             "ticks": ""
            },
            "colorscale": [
             [
              0,
              "#0d0887"
             ],
             [
              0.1111111111111111,
              "#46039f"
             ],
             [
              0.2222222222222222,
              "#7201a8"
             ],
             [
              0.3333333333333333,
              "#9c179e"
             ],
             [
              0.4444444444444444,
              "#bd3786"
             ],
             [
              0.5555555555555556,
              "#d8576b"
             ],
             [
              0.6666666666666666,
              "#ed7953"
             ],
             [
              0.7777777777777778,
              "#fb9f3a"
             ],
             [
              0.8888888888888888,
              "#fdca26"
             ],
             [
              1,
              "#f0f921"
             ]
            ],
            "type": "heatmap"
           }
          ],
          "histogram": [
           {
            "marker": {
             "pattern": {
              "fillmode": "overlay",
              "size": 10,
              "solidity": 0.2
             }
            },
            "type": "histogram"
           }
          ],
          "histogram2d": [
           {
            "colorbar": {
             "outlinewidth": 0,
             "ticks": ""
            },
            "colorscale": [
             [
              0,
              "#0d0887"
             ],
             [
              0.1111111111111111,
              "#46039f"
             ],
             [
              0.2222222222222222,
              "#7201a8"
             ],
             [
              0.3333333333333333,
              "#9c179e"
             ],
             [
              0.4444444444444444,
              "#bd3786"
             ],
             [
              0.5555555555555556,
              "#d8576b"
             ],
             [
              0.6666666666666666,
              "#ed7953"
             ],
             [
              0.7777777777777778,
              "#fb9f3a"
             ],
             [
              0.8888888888888888,
              "#fdca26"
             ],
             [
              1,
              "#f0f921"
             ]
            ],
            "type": "histogram2d"
           }
          ],
          "histogram2dcontour": [
           {
            "colorbar": {
             "outlinewidth": 0,
             "ticks": ""
            },
            "colorscale": [
             [
              0,
              "#0d0887"
             ],
             [
              0.1111111111111111,
              "#46039f"
             ],
             [
              0.2222222222222222,
              "#7201a8"
             ],
             [
              0.3333333333333333,
              "#9c179e"
             ],
             [
              0.4444444444444444,
              "#bd3786"
             ],
             [
              0.5555555555555556,
              "#d8576b"
             ],
             [
              0.6666666666666666,
              "#ed7953"
             ],
             [
              0.7777777777777778,
              "#fb9f3a"
             ],
             [
              0.8888888888888888,
              "#fdca26"
             ],
             [
              1,
              "#f0f921"
             ]
            ],
            "type": "histogram2dcontour"
           }
          ],
          "mesh3d": [
           {
            "colorbar": {
             "outlinewidth": 0,
             "ticks": ""
            },
            "type": "mesh3d"
           }
          ],
          "parcoords": [
           {
            "line": {
             "colorbar": {
              "outlinewidth": 0,
              "ticks": ""
             }
            },
            "type": "parcoords"
           }
          ],
          "pie": [
           {
            "automargin": true,
            "type": "pie"
           }
          ],
          "scatter": [
           {
            "fillpattern": {
             "fillmode": "overlay",
             "size": 10,
             "solidity": 0.2
            },
            "type": "scatter"
           }
          ],
          "scatter3d": [
           {
            "line": {
             "colorbar": {
              "outlinewidth": 0,
              "ticks": ""
             }
            },
            "marker": {
             "colorbar": {
              "outlinewidth": 0,
              "ticks": ""
             }
            },
            "type": "scatter3d"
           }
          ],
          "scattercarpet": [
           {
            "marker": {
             "colorbar": {
              "outlinewidth": 0,
              "ticks": ""
             }
            },
            "type": "scattercarpet"
           }
          ],
          "scattergeo": [
           {
            "marker": {
             "colorbar": {
              "outlinewidth": 0,
              "ticks": ""
             }
            },
            "type": "scattergeo"
           }
          ],
          "scattergl": [
           {
            "marker": {
             "colorbar": {
              "outlinewidth": 0,
              "ticks": ""
             }
            },
            "type": "scattergl"
           }
          ],
          "scattermap": [
           {
            "marker": {
             "colorbar": {
              "outlinewidth": 0,
              "ticks": ""
             }
            },
            "type": "scattermap"
           }
          ],
          "scattermapbox": [
           {
            "marker": {
             "colorbar": {
              "outlinewidth": 0,
              "ticks": ""
             }
            },
            "type": "scattermapbox"
           }
          ],
          "scatterpolar": [
           {
            "marker": {
             "colorbar": {
              "outlinewidth": 0,
              "ticks": ""
             }
            },
            "type": "scatterpolar"
           }
          ],
          "scatterpolargl": [
           {
            "marker": {
             "colorbar": {
              "outlinewidth": 0,
              "ticks": ""
             }
            },
            "type": "scatterpolargl"
           }
          ],
          "scatterternary": [
           {
            "marker": {
             "colorbar": {
              "outlinewidth": 0,
              "ticks": ""
             }
            },
            "type": "scatterternary"
           }
          ],
          "surface": [
           {
            "colorbar": {
             "outlinewidth": 0,
             "ticks": ""
            },
            "colorscale": [
             [
              0,
              "#0d0887"
             ],
             [
              0.1111111111111111,
              "#46039f"
             ],
             [
              0.2222222222222222,
              "#7201a8"
             ],
             [
              0.3333333333333333,
              "#9c179e"
             ],
             [
              0.4444444444444444,
              "#bd3786"
             ],
             [
              0.5555555555555556,
              "#d8576b"
             ],
             [
              0.6666666666666666,
              "#ed7953"
             ],
             [
              0.7777777777777778,
              "#fb9f3a"
             ],
             [
              0.8888888888888888,
              "#fdca26"
             ],
             [
              1,
              "#f0f921"
             ]
            ],
            "type": "surface"
           }
          ],
          "table": [
           {
            "cells": {
             "fill": {
              "color": "#EBF0F8"
             },
             "line": {
              "color": "white"
             }
            },
            "header": {
             "fill": {
              "color": "#C8D4E3"
             },
             "line": {
              "color": "white"
             }
            },
            "type": "table"
           }
          ]
         },
         "layout": {
          "annotationdefaults": {
           "arrowcolor": "#2a3f5f",
           "arrowhead": 0,
           "arrowwidth": 1
          },
          "autotypenumbers": "strict",
          "coloraxis": {
           "colorbar": {
            "outlinewidth": 0,
            "ticks": ""
           }
          },
          "colorscale": {
           "diverging": [
            [
             0,
             "#8e0152"
            ],
            [
             0.1,
             "#c51b7d"
            ],
            [
             0.2,
             "#de77ae"
            ],
            [
             0.3,
             "#f1b6da"
            ],
            [
             0.4,
             "#fde0ef"
            ],
            [
             0.5,
             "#f7f7f7"
            ],
            [
             0.6,
             "#e6f5d0"
            ],
            [
             0.7,
             "#b8e186"
            ],
            [
             0.8,
             "#7fbc41"
            ],
            [
             0.9,
             "#4d9221"
            ],
            [
             1,
             "#276419"
            ]
           ],
           "sequential": [
            [
             0,
             "#0d0887"
            ],
            [
             0.1111111111111111,
             "#46039f"
            ],
            [
             0.2222222222222222,
             "#7201a8"
            ],
            [
             0.3333333333333333,
             "#9c179e"
            ],
            [
             0.4444444444444444,
             "#bd3786"
            ],
            [
             0.5555555555555556,
             "#d8576b"
            ],
            [
             0.6666666666666666,
             "#ed7953"
            ],
            [
             0.7777777777777778,
             "#fb9f3a"
            ],
            [
             0.8888888888888888,
             "#fdca26"
            ],
            [
             1,
             "#f0f921"
            ]
           ],
           "sequentialminus": [
            [
             0,
             "#0d0887"
            ],
            [
             0.1111111111111111,
             "#46039f"
            ],
            [
             0.2222222222222222,
             "#7201a8"
            ],
            [
             0.3333333333333333,
             "#9c179e"
            ],
            [
             0.4444444444444444,
             "#bd3786"
            ],
            [
             0.5555555555555556,
             "#d8576b"
            ],
            [
             0.6666666666666666,
             "#ed7953"
            ],
            [
             0.7777777777777778,
             "#fb9f3a"
            ],
            [
             0.8888888888888888,
             "#fdca26"
            ],
            [
             1,
             "#f0f921"
            ]
           ]
          },
          "colorway": [
           "#636efa",
           "#EF553B",
           "#00cc96",
           "#ab63fa",
           "#FFA15A",
           "#19d3f3",
           "#FF6692",
           "#B6E880",
           "#FF97FF",
           "#FECB52"
          ],
          "font": {
           "color": "#2a3f5f"
          },
          "geo": {
           "bgcolor": "white",
           "lakecolor": "white",
           "landcolor": "#E5ECF6",
           "showlakes": true,
           "showland": true,
           "subunitcolor": "white"
          },
          "hoverlabel": {
           "align": "left"
          },
          "hovermode": "closest",
          "mapbox": {
           "style": "light"
          },
          "paper_bgcolor": "white",
          "plot_bgcolor": "#E5ECF6",
          "polar": {
           "angularaxis": {
            "gridcolor": "white",
            "linecolor": "white",
            "ticks": ""
           },
           "bgcolor": "#E5ECF6",
           "radialaxis": {
            "gridcolor": "white",
            "linecolor": "white",
            "ticks": ""
           }
          },
          "scene": {
           "xaxis": {
            "backgroundcolor": "#E5ECF6",
            "gridcolor": "white",
            "gridwidth": 2,
            "linecolor": "white",
            "showbackground": true,
            "ticks": "",
            "zerolinecolor": "white"
           },
           "yaxis": {
            "backgroundcolor": "#E5ECF6",
            "gridcolor": "white",
            "gridwidth": 2,
            "linecolor": "white",
            "showbackground": true,
            "ticks": "",
            "zerolinecolor": "white"
           },
           "zaxis": {
            "backgroundcolor": "#E5ECF6",
            "gridcolor": "white",
            "gridwidth": 2,
            "linecolor": "white",
            "showbackground": true,
            "ticks": "",
            "zerolinecolor": "white"
           }
          },
          "shapedefaults": {
           "line": {
            "color": "#2a3f5f"
           }
          },
          "ternary": {
           "aaxis": {
            "gridcolor": "white",
            "linecolor": "white",
            "ticks": ""
           },
           "baxis": {
            "gridcolor": "white",
            "linecolor": "white",
            "ticks": ""
           },
           "bgcolor": "#E5ECF6",
           "caxis": {
            "gridcolor": "white",
            "linecolor": "white",
            "ticks": ""
           }
          },
          "title": {
           "x": 0.05
          },
          "xaxis": {
           "automargin": true,
           "gridcolor": "white",
           "linecolor": "white",
           "ticks": "",
           "title": {
            "standoff": 15
           },
           "zerolinecolor": "white",
           "zerolinewidth": 2
          },
          "yaxis": {
           "automargin": true,
           "gridcolor": "white",
           "linecolor": "white",
           "ticks": "",
           "title": {
            "standoff": 15
           },
           "zerolinecolor": "white",
           "zerolinewidth": 2
          }
         }
        },
        "xaxis": {
         "anchor": "y",
         "domain": [
          0,
          1
         ],
         "title": {
          "text": "steps"
         }
        },
        "yaxis": {
         "anchor": "x",
         "domain": [
          0,
          1
         ],
         "title": {
          "text": "ratio_init_sat"
         }
        }
       }
      }
     },
     "metadata": {},
     "output_type": "display_data"
    }
   ],
   "source": [
    "fig=  px.line(df_phi.collect(), x='steps', y = 'ratio_init_sat', color='label')\n",
    "fig.show()"
   ]
  },
  {
   "cell_type": "markdown",
   "id": "2ba3f283",
   "metadata": {},
   "source": [
    "## Compute upper and lower bounds"
   ]
  },
  {
   "cell_type": "code",
   "execution_count": null,
   "id": "0f294d11",
   "metadata": {},
   "outputs": [
    {
     "name": "stdout",
     "output_type": "stream",
     "text": [
      "shape: (21, 3)\n",
      "┌─────────────────┬──────────────────┬─────────────────┐\n",
      "│ mean_ep_len_min ┆ mean_ep_len_mean ┆ mean_ep_len_max │\n",
      "│ ---             ┆ ---              ┆ ---             │\n",
      "│ f64             ┆ f64              ┆ f64             │\n",
      "╞═════════════════╪══════════════════╪═════════════════╡\n",
      "│ 27.5            ┆ 32.666667        ┆ 37.4            │\n",
      "│ 48.9            ┆ 61.1             ┆ 72.2            │\n",
      "│ 137.5           ┆ 144.0            ┆ 154.7           │\n",
      "│ 214.0           ┆ 242.233333       ┆ 293.0           │\n",
      "│ 320.5           ┆ 392.466667       ┆ 461.9           │\n",
      "│ …               ┆ …                ┆ …               │\n",
      "│ 451.2           ┆ 467.5            ┆ 500.0           │\n",
      "│ 451.2           ┆ 483.733333       ┆ 500.0           │\n",
      "│ 500.0           ┆ 500.0            ┆ 500.0           │\n",
      "│ 451.3           ┆ 451.366667       ┆ 451.5           │\n",
      "│ 500.0           ┆ 500.0            ┆ 500.0           │\n",
      "└─────────────────┴──────────────────┴─────────────────┘\n"
     ]
    }
   ],
   "source": [
    "expr_min = lambda feature: pl.col(feature).list.min().name.suffix('_min')\n",
    "expr_max = lambda feature: pl.col(feature).list.max().name.suffix('_max')\n",
    "expr_mean = lambda feature: pl.col(feature).list.mean().name.suffix('_mean')\n",
    "\n",
    "feature = 'mean_ep_len'\n",
    "df = df_all_res.select('label','steps',feature)\n",
    "df_enveloppe = df.group_by(pl.col('steps')).agg(pl.col(feature)\n",
    "                        ).sort(pl.col('steps'))                        \n",
    "\n",
    "\n",
    "print(df_group.collect().select(expr_min(feature), expr_mean(feature),expr_max(feature)))\n"
   ]
  },
  {
   "cell_type": "code",
   "execution_count": null,
   "id": "939c61cb",
   "metadata": {},
   "outputs": [],
   "source": [
    "fig = px.line(df_phi.collect(), x='steps', y = 'ratio_init_sat', color='label')\n",
    "fig.show()"
   ]
  },
  {
   "cell_type": "markdown",
   "id": "7f4047b9",
   "metadata": {},
   "source": [
    "# Find best model"
   ]
  },
  {
   "cell_type": "code",
   "execution_count": null,
   "id": "4a3cf238",
   "metadata": {},
   "outputs": [],
   "source": [
    "find_max = pl.col('mean_ep_rew')==pl.col('mean_ep_rew').max()\n",
    "df_res_max = df_all_res.filter(find_max)"
   ]
  },
  {
   "cell_type": "code",
   "execution_count": 44,
   "id": "27678cb1",
   "metadata": {},
   "outputs": [
    {
     "name": "stdout",
     "output_type": "stream",
     "text": [
      "shape: (1, 4)\n",
      "┌────────┬───────────┬─────────────────────────────────┬─────────────┐\n",
      "│ steps  ┆ label     ┆ path                            ┆ mean_ep_rew │\n",
      "│ ---    ┆ ---       ┆ ---                             ┆ ---         │\n",
      "│ i64    ┆ str       ┆ str                             ┆ f64         │\n",
      "╞════════╪═══════════╪═════════════════════════════════╪═════════════╡\n",
      "│ 204800 ┆ Training2 ┆ /home/alex/workspace/rlrom/exa… ┆ 903.135615  │\n",
      "└────────┴───────────┴─────────────────────────────────┴─────────────┘\n"
     ]
    }
   ],
   "source": [
    "print(df_res_max.collect().select('steps', 'label', 'path', 'mean_ep_rew'))"
   ]
  },
  {
   "cell_type": "markdown",
   "id": "8d7c0a34",
   "metadata": {},
   "source": [
    "# Retest"
   ]
  },
  {
   "cell_type": "code",
   "execution_count": null,
   "id": "719aed1c",
   "metadata": {},
   "outputs": [],
   "source": [
    "from rlrom.testers import RLTester\n",
    "\n"
   ]
  }
 ],
 "metadata": {
  "kernelspec": {
   "display_name": "rlrom (3.13.7)",
   "language": "python",
   "name": "python3"
  },
  "language_info": {
   "codemirror_mode": {
    "name": "ipython",
    "version": 3
   },
   "file_extension": ".py",
   "mimetype": "text/x-python",
   "name": "python",
   "nbconvert_exporter": "python",
   "pygments_lexer": "ipython3",
   "version": "3.13.7"
  }
 },
 "nbformat": 4,
 "nbformat_minor": 5
}
