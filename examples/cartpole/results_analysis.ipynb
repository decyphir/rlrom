{
 "cells": [
  {
   "cell_type": "code",
   "execution_count": null,
   "id": "7de9853e",
   "metadata": {},
   "outputs": [],
   "source": [
    "import rlrom.utils as rlu\n",
    "import polars as pl"
   ]
  },
  {
   "cell_type": "code",
   "execution_count": null,
   "id": "c8a56445",
   "metadata": {},
   "outputs": [],
   "source": [
    "from rlrom.testers import RLTester\n",
    "\n",
    "cfg_file= 'cfg0tr_ppo_specs.yml'\n",
    "cfg = rlu.load_cfg(cfg_file)\n"
   ]
  },
  {
   "cell_type": "markdown",
   "id": "61266a2f",
   "metadata": {},
   "source": [
    "# Collect existing training folders and load results"
   ]
  },
  {
   "cell_type": "code",
   "execution_count": null,
   "id": "4d9ce5c4",
   "metadata": {},
   "outputs": [],
   "source": [
    "cfg_file= 'cfg0tr_ppo_specs.yml'\n",
    "cfg = rlu.load_cfg(cfg_file)\n",
    "df_all_training_files = rlu.get_df_all_training_files(cfg)\n",
    "print(df_all_training_files.collect())"
   ]
  },
  {
   "cell_type": "markdown",
   "id": "79a9a56f",
   "metadata": {},
   "source": [
    "Show the path for the first one. "
   ]
  },
  {
   "cell_type": "code",
   "execution_count": null,
   "id": "403bb8c1",
   "metadata": {},
   "outputs": [],
   "source": [
    "print(df_all_training_files.collect()['path'][0])"
   ]
  },
  {
   "cell_type": "markdown",
   "id": "3a837a22",
   "metadata": {},
   "source": [
    "To get the complete list of strings: "
   ]
  },
  {
   "cell_type": "code",
   "execution_count": null,
   "id": "2dd50ed4",
   "metadata": {},
   "outputs": [],
   "source": [
    "print(df_all_training_files.collect()['path'].__array__())"
   ]
  },
  {
   "cell_type": "code",
   "execution_count": null,
   "id": "e2afff42",
   "metadata": {},
   "outputs": [],
   "source": [
    "df_training_files6 = df_all_training_files.collect().filter(pl.col('num')==6)['training_files'][0]\n",
    "print(df_training_files6.collect())"
   ]
  },
  {
   "cell_type": "markdown",
   "id": "4ac2b963",
   "metadata": {},
   "source": [
    "## Load file results"
   ]
  },
  {
   "cell_type": "code",
   "execution_count": null,
   "id": "174c4eeb",
   "metadata": {},
   "outputs": [],
   "source": [
    "df_all_res = rlu.get_df_load_all_training_res(df_all_training_files)\n"
   ]
  },
  {
   "cell_type": "code",
   "execution_count": null,
   "id": "eba01236",
   "metadata": {},
   "outputs": [],
   "source": [
    "print(df_all_res.collect().head())\n",
    "print(df_all_res.collect().tail())\n"
   ]
  },
  {
   "cell_type": "markdown",
   "id": "1d53b85f",
   "metadata": {},
   "source": [
    "# Plotting with Matplotlib"
   ]
  },
  {
   "cell_type": "code",
   "execution_count": null,
   "id": "ce597ef1",
   "metadata": {},
   "outputs": [],
   "source": [
    "import rlrom.plots as rlp"
   ]
  },
  {
   "cell_type": "markdown",
   "id": "c5f86135",
   "metadata": {},
   "source": [
    "df_all_res has all training data, with fields from res_all_ep expanded. "
   ]
  },
  {
   "cell_type": "code",
   "execution_count": null,
   "id": "5510bd2f",
   "metadata": {},
   "outputs": [],
   "source": [
    "df_enveloppe = rlu.get_df_mean_min_max_val(df_all_res, 'mean_ep_rew')"
   ]
  },
  {
   "cell_type": "code",
   "execution_count": null,
   "id": "f4ce068e",
   "metadata": {},
   "outputs": [],
   "source": [
    "ax = rlp.plot_df_enveloppe(df_all_res, 'mean_ep_rew', label='Mean episode reward', linestyle='--', color='blue')\n",
    "ax = rlp.plot_df_enveloppe(df_all_res, 'mean_ep_len', label='Mean episode length', linestyle='--', color='green', ax=ax)\n"
   ]
  },
  {
   "cell_type": "markdown",
   "id": "54d950b1",
   "metadata": {},
   "source": [
    "For a formula, we need to unnest the result into init_rob and ratio_sat"
   ]
  },
  {
   "cell_type": "code",
   "execution_count": null,
   "id": "a5a26544",
   "metadata": {},
   "outputs": [],
   "source": [
    "phi = 'phi_left_goal'\n",
    "df_res_phi = df_all_res.select('label', #training id \n",
    "                                    'steps',\n",
    "                                    phi).unnest(phi)\n",
    "print(df_res_phi.collect().head())"
   ]
  },
  {
   "cell_type": "code",
   "execution_count": null,
   "id": "69bc0c5b",
   "metadata": {},
   "outputs": [],
   "source": [
    "ax = rlp.plot_df_enveloppe(df_res_phi, 'ratio_init_sat', label='Ratio Sat of '+phi, linestyle='--', color='blue')"
   ]
  },
  {
   "cell_type": "code",
   "execution_count": null,
   "id": "719aed1c",
   "metadata": {},
   "outputs": [],
   "source": [
    "import os, copy\n",
    "from rlrom.testers import RLTester"
   ]
  },
  {
   "cell_type": "code",
   "execution_count": null,
   "id": "4a3cf238",
   "metadata": {},
   "outputs": [],
   "source": [
    "find_max = pl.col('mean_ep_rew')==pl.col('mean_ep_rew').max()\n",
    "df_res_max = df_all_res.filter(find_max)"
   ]
  },
  {
   "cell_type": "code",
   "execution_count": null,
   "id": "27678cb1",
   "metadata": {},
   "outputs": [],
   "source": [
    "print(df_res_max.collect().select('steps', 'label', 'path', 'mean_ep_rew'))"
   ]
  },
  {
   "cell_type": "markdown",
   "id": "8d7c0a34",
   "metadata": {},
   "source": [
    "# Re-test"
   ]
  },
  {
   "cell_type": "markdown",
   "id": "7f4047b9",
   "metadata": {},
   "source": [
    "## Find and retest best model"
   ]
  },
  {
   "cell_type": "code",
   "execution_count": null,
   "id": "72845d71",
   "metadata": {},
   "outputs": [],
   "source": [
    "best_model_path = df_res_max.collect()['path'][0]\n",
    "best_step = df_res_max.collect()['steps'][0]\n",
    "best_model_file = os.path.join(best_model_path, f'model_step_{str(best_step)}.zip')\n",
    "print(best_model_file)"
   ]
  },
  {
   "cell_type": "code",
   "execution_count": null,
   "id": "5230b21d",
   "metadata": {},
   "outputs": [],
   "source": [
    "cfg_test = cfg['cfg_test']\n",
    "cfg_test['model_file']= best_model_file\n",
    "cfg_test['res_file'] = './best_test_result.yml'\n",
    "cfg_tmp = copy.deepcopy(cfg)\n",
    "cfg_tmp = rlu.set_rec_cfg_field(cfg_tmp,cfg_test=cfg_test)\n",
    "cfg_tmp = rlu.set_rec_cfg_field(cfg_tmp,render_mode=None, num_ep=100)\n",
    "T = RLTester(cfg_tmp)\n",
    "Tres = T.run_cfg_test()\n"
   ]
  },
  {
   "cell_type": "markdown",
   "id": "887c8b6f",
   "metadata": {},
   "source": [
    "## Retest all checkpoints"
   ]
  },
  {
   "cell_type": "code",
   "execution_count": null,
   "id": "fee8b9f8",
   "metadata": {},
   "outputs": [],
   "source": [
    "import copy,os\n",
    "\n",
    "def retest_models(df_training_files, num_ep):\n",
    "    cfg_test = cfg['cfg_test']\n",
    "    for r in df_training_files.collect().iter_rows(named=True):\n",
    "        print(f'Retesting for step {r['steps']}, i.e., model {r['res_files']}')\n",
    "        cfg_test['model_file']= os.path.join(r['path'],r['model_files'])\n",
    "        cfg_test['res_file'] = r['res_files']        \n",
    "        cfg_tmp = copy.deepcopy(cfg)  \n",
    "        cfg_tmp = rlu.set_rec_cfg_field(cfg_tmp,cfg_test=cfg_test)\n",
    "        cfg_tmp = rlu.set_rec_cfg_field(cfg_tmp,render_mode=None, num_ep=num_ep)\n",
    "        T = RLTester(cfg_tmp)\n",
    "        T.run_cfg_test()        \n",
    "        "
   ]
  },
  {
   "cell_type": "code",
   "execution_count": null,
   "id": "1df51667",
   "metadata": {},
   "outputs": [],
   "source": [
    "retest_models(df_training_files6,100)"
   ]
  },
  {
   "cell_type": "code",
   "execution_count": null,
   "id": "ec144cd5",
   "metadata": {},
   "outputs": [],
   "source": [
    "df_res_retest = rlu.get_df_load_training_res(df_training_files6)"
   ]
  },
  {
   "cell_type": "code",
   "execution_count": null,
   "id": "a55e811b",
   "metadata": {},
   "outputs": [],
   "source": [
    "print(df_res_retest.collect().select('steps', 'mean_ep_rew'))\n"
   ]
  },
  {
   "cell_type": "code",
   "execution_count": null,
   "id": "be70f3c9",
   "metadata": {},
   "outputs": [],
   "source": [
    "df_phi = df_res_retest.select('steps', 'phi_left_goal').unnest('phi_left_goal')\n",
    "print(df_phi.collect())"
   ]
  },
  {
   "cell_type": "markdown",
   "id": "e94d31ac",
   "metadata": {},
   "source": [
    "# Plotting with plotly (Work in progress, interactive plots)"
   ]
  },
  {
   "cell_type": "code",
   "execution_count": null,
   "id": "97e9fa92",
   "metadata": {},
   "outputs": [],
   "source": [
    "import plotly.express as px"
   ]
  },
  {
   "cell_type": "markdown",
   "id": "8348cf1d",
   "metadata": {},
   "source": [
    "## One training,  episode lengths and rewards"
   ]
  },
  {
   "cell_type": "code",
   "execution_count": null,
   "id": "a309be7c",
   "metadata": {},
   "outputs": [],
   "source": [
    "\n",
    "df0 = df_all_res.select('steps', 'mean_ep_len', 'mean_ep_rew', 'label').filter(pl.col('label')=='Training0').collect()"
   ]
  },
  {
   "cell_type": "code",
   "execution_count": null,
   "id": "81aca0f5",
   "metadata": {},
   "outputs": [],
   "source": [
    "fig = px.line(df0, x='steps', y = ['mean_ep_len', 'mean_ep_rew'])\n",
    "fig.show()"
   ]
  },
  {
   "cell_type": "markdown",
   "id": "0054f99e",
   "metadata": {},
   "source": [
    "## All training episode lens and rewards"
   ]
  },
  {
   "cell_type": "code",
   "execution_count": null,
   "id": "8d29d1c3",
   "metadata": {},
   "outputs": [],
   "source": [
    "from plotly.subplots import make_subplots\n",
    "\n",
    "fig = make_subplots(rows=2, cols=1,  subplot_titles=['Mean Episode Length', 'Mean Episode Reward'])\n",
    "\n",
    "go1 = px.line(df_all_res.collect(), x='steps', y = 'mean_ep_len', color='label')\n",
    "go2 = px.line(df_all_res.collect(), x='steps', y = 'mean_ep_rew', color='label')\n",
    "\n",
    "fig.add_traces(go1.data, rows=1, cols=1)\n",
    "fig.add_traces(go2.data, rows=2, cols=1)\n",
    "\n",
    "fig.update_layout(height=600, title_text=\"Training Metrics\")\n",
    "fig.show()"
   ]
  },
  {
   "cell_type": "markdown",
   "id": "7b4b5ade",
   "metadata": {},
   "source": [
    "## Adding specs"
   ]
  },
  {
   "cell_type": "code",
   "execution_count": null,
   "id": "d6ca79dd",
   "metadata": {},
   "outputs": [],
   "source": [
    "phi = 'phi_left_goal'\n",
    "df_phi = df_all_res.select('label','steps',phi).unnest(phi)"
   ]
  },
  {
   "cell_type": "code",
   "execution_count": null,
   "id": "78924906",
   "metadata": {},
   "outputs": [],
   "source": [
    "fig=  px.line(df_phi.collect(), x='steps', y = 'ratio_init_sat', color='label')\n",
    "fig.show()"
   ]
  },
  {
   "cell_type": "code",
   "execution_count": null,
   "id": "0f294d11",
   "metadata": {},
   "outputs": [],
   "source": [
    "expr_min = lambda feature: pl.col(feature).list.min().name.suffix('_min')\n",
    "expr_max = lambda feature: pl.col(feature).list.max().name.suffix('_max')\n",
    "expr_mean = lambda feature: pl.col(feature).list.mean().name.suffix('_mean')\n",
    "\n",
    "feature = 'mean_ep_len'\n",
    "df = df_all_res.select('label','steps',feature)\n",
    "df_enveloppe = df.group_by(pl.col('steps')).agg(pl.col(feature)\n",
    "                        ).sort(pl.col('steps'))                        \n",
    "\n",
    "\n",
    "print(df_group.collect().select(expr_min(feature), expr_mean(feature),expr_max(feature)))\n"
   ]
  },
  {
   "cell_type": "code",
   "execution_count": null,
   "id": "939c61cb",
   "metadata": {},
   "outputs": [],
   "source": [
    "fig = px.line(df_phi.collect(), x='steps', y = 'ratio_init_sat', color='label')\n",
    "fig.show()"
   ]
  }
 ],
 "metadata": {
  "kernelspec": {
   "display_name": "rlrom (3.12.3)",
   "language": "python",
   "name": "python3"
  },
  "language_info": {
   "codemirror_mode": {
    "name": "ipython",
    "version": 3
   },
   "file_extension": ".py",
   "mimetype": "text/x-python",
   "name": "python",
   "nbconvert_exporter": "python",
   "pygments_lexer": "ipython3",
   "version": "3.12.3"
  }
 },
 "nbformat": 4,
 "nbformat_minor": 5
}
